{
  "cells": [
    {
      "cell_type": "markdown",
      "metadata": {
        "id": "view-in-github",
        "colab_type": "text"
      },
      "source": [
        "<a href=\"https://colab.research.google.com/github/ARAN1218/UsedcarValuePrediction_AI/blob/main/jupyter%20notebook/4.%E4%B8%AD%E5%8F%A4%E8%BB%8A%E4%BE%A1%E6%A0%BC%E4%BA%88%E6%B8%ACAI(%E4%BE%A1%E6%A0%BC_com)_%E3%83%87%E3%83%BC%E3%82%BF%E5%89%8D%E5%87%A6%E7%90%86%E6%A4%9C%E8%A8%8E2.ipynb\" target=\"_parent\"><img src=\"https://colab.research.google.com/assets/colab-badge.svg\" alt=\"Open In Colab\"/></a>"
      ]
    },
    {
      "cell_type": "code",
      "execution_count": null,
      "id": "bb486ee5",
      "metadata": {
        "id": "bb486ee5"
      },
      "outputs": [],
      "source": [
        "#中古車価格予測AI(価格.com)_データ前処理検討2で検討した関数をimportする\n",
        "#kkkcom_preprocessing_over(df)\n",
        "#kkkcom_preprocessing_under(df)を作っていく\n",
        "\n",
        "#from ipynb.fs.full.AI_com import page_preprocessing\n",
        "%run ./UsedCar_functions.ipynb\n",
        "import_test()"
      ]
    },
    {
      "cell_type": "code",
      "execution_count": null,
      "id": "a8df3a7c",
      "metadata": {
        "id": "a8df3a7c"
      },
      "outputs": [],
      "source": [
        "import numpy as np\n",
        "import pandas as pd\n",
        "import re\n",
        "\n",
        "#pandasのデータフレームの行・列表示制限を解除\n",
        "pd.set_option('display.max_rows',None)\n",
        "pd.set_option('display.max_columns',None)\n",
        "\n",
        "#numpyの表示数制限を解除\n",
        "np.set_printoptions(threshold=np.inf)\n",
        "\n",
        "\n",
        "df = pd.read_pickle('Car_Bigdata_Merged.pickle').drop_duplicates()\n",
        "#kkkcom_preprocessing_over(df)\n",
        "print(len(df))\n",
        "df.head(10)"
      ]
    },
    {
      "cell_type": "markdown",
      "id": "c5999334",
      "metadata": {
        "id": "c5999334"
      },
      "source": [
        "## ミッション"
      ]
    },
    {
      "cell_type": "code",
      "execution_count": null,
      "id": "97cbe9df",
      "metadata": {
        "id": "97cbe9df"
      },
      "outputs": [],
      "source": [
        "df_mission = df.copy()\n",
        "df_mission['ミッション'].value_counts()"
      ]
    },
    {
      "cell_type": "code",
      "execution_count": null,
      "id": "77852973",
      "metadata": {
        "id": "77852973"
      },
      "outputs": [],
      "source": [
        "df_mission[df_mission['ミッション']=='']\n",
        "#ワゴンＲ ＨＹＢＲＩＤ　ＦＸ = CVT\n",
        "#タント Ｘ　ＳＡ = CVT\n",
        "#アルト Ｌ = CVT\n",
        "#ムーヴ Ｌ　ＳＡ３ = CVT\n",
        "#スペーシア = CVT\n",
        "#ハスラー = CVT\n",
        "#ルークス Ｘ = CVT\n",
        "#ＱＸ８０ プロアクティブ = AT\n",
        "#ピクシスバン クルーズ　ＳＡＩＩＩ = AT\n",
        "#ジープ・チェロキー = AT\n",
        "#Ｎ−ＶＡＮ＋スタイル ファン・ホンダセンシング = MT\n",
        "#パナメーラ ＧＴＳ = MT"
      ]
    },
    {
      "cell_type": "code",
      "execution_count": null,
      "id": "eb6eca70",
      "metadata": {
        "id": "eb6eca70"
      },
      "outputs": [],
      "source": [
        "#車名を使うならname_preprocessingの前にやらないとね\n",
        "names = [(\"ワゴンＲ\",\"CVT\"),(\"タント Ｘ　ＳＡ\",\"CVT\"),(\"アルト Ｌ\",\"CVT\"),(\"ムーヴ Ｌ\",\"CVT\"),(\"スペーシア\",\"CVT\"),(\"ハスラー\",\"CVT\"),(\"ルークス Ｘ\",\"CVT\")\n",
        "         ,(\"ＱＸ８０ プロアクティブ\",\"AT\"),(\"ピクシスバン クルーズ\",\"AT\"),(\"ジープ・チェロキー\",\"AT\")\n",
        "         ,(\"パナメーラ ＧＴＳ\",\"MT\"),(\"Ｎ−ＶＡＮ＋スタイル\",\"MT\")]\n",
        "for car,mission in names:\n",
        "    #print(car,mission)\n",
        "    #andだと上手くいかず、&だと大丈夫\n",
        "    df_mission['ミッション'][(df_mission['ミッション']=='') & (df_mission['車名'].str.contains(car))] = mission\n",
        "\n",
        "df_mission['ミッション'].value_counts()"
      ]
    },
    {
      "cell_type": "code",
      "execution_count": null,
      "id": "dc2c5441",
      "metadata": {
        "id": "dc2c5441"
      },
      "outputs": [],
      "source": [
        "from sklearn.preprocessing import LabelEncoder\n",
        "LE_mission = LabelEncoder()\n",
        "LE_mission.fit(df_mission['ミッション'])\n",
        "df_mission['ミッション'] = LE_mission.transform(df_mission['ミッション'])\n",
        "print(LE_mission.classes_)\n",
        "display(df_mission.head(10))"
      ]
    },
    {
      "cell_type": "code",
      "execution_count": null,
      "id": "987c5b5f",
      "metadata": {
        "id": "987c5b5f"
      },
      "outputs": [],
      "source": [
        "def mission_preprocessing(df_mission):\n",
        "    names = [(\"ワゴンＲ\",\"CVT\"),(\"タント Ｘ　ＳＡ\",\"CVT\"),(\"アルト Ｌ\",\"CVT\"),(\"ムーヴ Ｌ\",\"CVT\"),(\"スペーシア\",\"CVT\"),(\"ハスラー\",\"CVT\"),(\"ルークス Ｘ\",\"CVT\")\n",
        "             ,(\"ＱＸ８０ プロアクティブ\",\"AT\"),(\"ピクシスバン クルーズ\",\"AT\"),(\"ジープ・チェロキー\",\"AT\")\n",
        "             ,(\"パナメーラ ＧＴＳ\",\"MT\"),(\"Ｎ−ＶＡＮ＋スタイル\",\"MT\")]\n",
        "    for car,mission in names:\n",
        "        df_mission['ミッション'][(df_mission['ミッション']=='') & (df_mission['車名'].str.contains(car))] = mission\n",
        "        \n",
        "    global LE_mission\n",
        "    LE_mission = LabelEncoder()\n",
        "    LE_mission.fit(df_mission['ミッション'])\n",
        "    df_mission['ミッション'] = LE_mission.transform(df_mission['ミッション'])\n",
        "    "
      ]
    },
    {
      "cell_type": "code",
      "execution_count": null,
      "id": "a1e9b405",
      "metadata": {
        "id": "a1e9b405"
      },
      "outputs": [],
      "source": [
        "#テスト\n",
        "df_mission = df.copy()\n",
        "mission_preprocessing(df_mission)\n",
        "display(df_mission.head(10))"
      ]
    },
    {
      "cell_type": "markdown",
      "id": "443e5e56",
      "metadata": {
        "id": "443e5e56"
      },
      "source": [
        "## 駆動方式"
      ]
    },
    {
      "cell_type": "code",
      "execution_count": null,
      "id": "51db9e97",
      "metadata": {
        "id": "51db9e97"
      },
      "outputs": [],
      "source": [
        "df_drive = df.copy()\n",
        "df_drive['駆動方式'].value_counts()"
      ]
    },
    {
      "cell_type": "code",
      "execution_count": null,
      "id": "c44c6d3d",
      "metadata": {
        "id": "c44c6d3d"
      },
      "outputs": [],
      "source": [
        "#先頭の数字だけを切り出す\n",
        "df_drive['駆動方式'] = df_drive['駆動方式'].map(lambda x : x[:1])\n",
        "df_drive['駆動方式'] = df_drive['駆動方式'].astype('int')\n",
        "\n",
        "print(df_drive['駆動方式'].dtypes)\n",
        "df_drive['駆動方式'].value_counts()"
      ]
    },
    {
      "cell_type": "code",
      "execution_count": null,
      "id": "391c6216",
      "metadata": {
        "id": "391c6216"
      },
      "outputs": [],
      "source": [
        "def drive_preprocessing(df_drive):\n",
        "    df_drive['駆動方式'] = df_drive['駆動方式'].map(lambda x : x[:1])\n",
        "    df_drive['駆動方式'] = df_drive['駆動方式'].astype('int')"
      ]
    },
    {
      "cell_type": "code",
      "execution_count": null,
      "id": "6c8addb9",
      "metadata": {
        "id": "6c8addb9"
      },
      "outputs": [],
      "source": [
        "#テスト\n",
        "df_drive = df.copy()\n",
        "drive_preprocessing(df_drive)\n",
        "print(df_drive['駆動方式'].unique())\n",
        "df_drive.head(10)"
      ]
    },
    {
      "cell_type": "markdown",
      "id": "5cdac3e0",
      "metadata": {
        "id": "5cdac3e0"
      },
      "source": [
        "## 排気量"
      ]
    },
    {
      "cell_type": "code",
      "execution_count": null,
      "id": "61b5ed38",
      "metadata": {
        "scrolled": true,
        "id": "61b5ed38"
      },
      "outputs": [],
      "source": [
        "df_displacement = df.copy()\n",
        "df_displacement.排気量.value_counts()\n",
        "#先にccを取り除こう\n",
        "#空欄は0に置換しよう"
      ]
    },
    {
      "cell_type": "code",
      "execution_count": null,
      "id": "9b29d0b9",
      "metadata": {
        "id": "9b29d0b9"
      },
      "outputs": [],
      "source": [
        "#先にccを取り除こう\n",
        "df_displacement['排気量'] = df_displacement['排気量'].map(lambda x : x[:-2])\n",
        "df_displacement.排気量.unique()"
      ]
    },
    {
      "cell_type": "code",
      "execution_count": null,
      "id": "755dcbad",
      "metadata": {
        "id": "755dcbad"
      },
      "outputs": [],
      "source": [
        "#空欄は0に置換しよう\n",
        "df_displacement['排気量'].replace('', '0', inplace=True)\n",
        "df_displacement['排気量'].unique()"
      ]
    },
    {
      "cell_type": "code",
      "execution_count": null,
      "id": "c4ec392a",
      "metadata": {
        "id": "c4ec392a"
      },
      "outputs": [],
      "source": [
        "#int型に変換\n",
        "df_displacement['排気量'] = df_displacement['排気量'].astype('int')\n",
        "df_displacement['排気量'].dtypes"
      ]
    },
    {
      "cell_type": "code",
      "execution_count": null,
      "id": "17582db1",
      "metadata": {
        "id": "17582db1"
      },
      "outputs": [],
      "source": [
        "def displacement_preprocessing(df_displacement):\n",
        "    df_displacement['排気量'] = df_displacement['排気量'].map(lambda x : x[:-2])\n",
        "    df_displacement['排気量'].replace('', '0', inplace=True)\n",
        "    df_displacement['排気量'] = df_displacement['排気量'].astype('int')"
      ]
    },
    {
      "cell_type": "code",
      "execution_count": null,
      "id": "db1f9275",
      "metadata": {
        "id": "db1f9275"
      },
      "outputs": [],
      "source": [
        "#テスト\n",
        "df_displacement = df.copy()\n",
        "displacement_preprocessing(df_displacement)\n",
        "print(df_displacement['排気量'].dtypes)\n",
        "df_displacement['排気量'].unique()"
      ]
    },
    {
      "cell_type": "markdown",
      "id": "3a5a4f15",
      "metadata": {
        "id": "3a5a4f15"
      },
      "source": [
        "## ドア数"
      ]
    },
    {
      "cell_type": "code",
      "execution_count": null,
      "id": "5ab534d8",
      "metadata": {
        "id": "5ab534d8"
      },
      "outputs": [],
      "source": [
        "df_door = df.copy()\n",
        "df_door['ドア数'].value_counts()"
      ]
    },
    {
      "cell_type": "code",
      "execution_count": null,
      "id": "ba97ee92",
      "metadata": {
        "id": "ba97ee92"
      },
      "outputs": [],
      "source": [
        "#'ドア'を除去する\n",
        "df_door['ドア数'] = df_door['ドア数'].map(lambda x :x[:-2])\n",
        "df_door['ドア数'].unique()"
      ]
    },
    {
      "cell_type": "code",
      "execution_count": null,
      "id": "2ea743f4",
      "metadata": {
        "id": "2ea743f4"
      },
      "outputs": [],
      "source": [
        "#欠損値に付き合っている程暇ではないので、ここは0で置換する\n",
        "df_door['ドア数'].replace('', '0', inplace=True)\n",
        "df_door['ドア数'].unique()"
      ]
    },
    {
      "cell_type": "code",
      "execution_count": null,
      "id": "8e24a6b6",
      "metadata": {
        "id": "8e24a6b6"
      },
      "outputs": [],
      "source": [
        "#int型にする\n",
        "df_door['ドア数'] = df_door['ドア数'].astype('int')\n",
        "df_door['ドア数'].dtypes"
      ]
    },
    {
      "cell_type": "code",
      "execution_count": null,
      "id": "936c6050",
      "metadata": {
        "id": "936c6050"
      },
      "outputs": [],
      "source": [
        "def door_preprocessing(df_door):\n",
        "    df_door['ドア数'] = df_door['ドア数'].map(lambda x :x[:-2])\n",
        "    df_door['ドア数'].replace('', '0', inplace=True)\n",
        "    df_door['ドア数'] = df_door['ドア数'].astype('int')"
      ]
    },
    {
      "cell_type": "code",
      "execution_count": null,
      "id": "d73a4bd3",
      "metadata": {
        "id": "d73a4bd3"
      },
      "outputs": [],
      "source": [
        "#テスト\n",
        "df_door = df.copy()\n",
        "door_preprocessing(df_door)\n",
        "print(df_door['ドア数'].dtypes)\n",
        "df_door['ドア数'].value_counts()"
      ]
    },
    {
      "cell_type": "markdown",
      "id": "54fc49b2",
      "metadata": {
        "id": "54fc49b2"
      },
      "source": [
        "## 乗車定員"
      ]
    },
    {
      "cell_type": "code",
      "execution_count": null,
      "id": "8ac1671b",
      "metadata": {
        "id": "8ac1671b"
      },
      "outputs": [],
      "source": [
        "df_capacity = df.copy()\n",
        "df_capacity['乗車定員'].value_counts()"
      ]
    },
    {
      "cell_type": "code",
      "execution_count": null,
      "id": "33c6745c",
      "metadata": {
        "id": "33c6745c"
      },
      "outputs": [],
      "source": [
        "#\"名\",\"以\",\"上\"を除去する\n",
        "df_capacity['乗車定員'] = df_capacity['乗車定員'].str.translate(str.maketrans({\"名\":\"\",\"以\":\"\",\"上\":\"\"}))\n",
        "df_capacity['乗車定員'].unique()"
      ]
    },
    {
      "cell_type": "code",
      "execution_count": null,
      "id": "cfe65ada",
      "metadata": {
        "id": "cfe65ada"
      },
      "outputs": [],
      "source": [
        "df_capacity['乗車定員'][df_capacity['乗車定員']==''] = 0\n",
        "df_capacity['乗車定員'].unique()"
      ]
    },
    {
      "cell_type": "code",
      "execution_count": null,
      "id": "341086d6",
      "metadata": {
        "id": "341086d6"
      },
      "outputs": [],
      "source": [
        "df_capacity['乗車定員'] = df_capacity['乗車定員'].astype('int')\n",
        "df_capacity['乗車定員'].dtypes"
      ]
    },
    {
      "cell_type": "code",
      "execution_count": null,
      "id": "4f9d902d",
      "metadata": {
        "id": "4f9d902d"
      },
      "outputs": [],
      "source": [
        "def capacity_preprocessing(df_capacity):\n",
        "    df_capacity['乗車定員'] = df_capacity['乗車定員'].str.translate(str.maketrans({\"名\":\"\",\"以\":\"\",\"上\":\"\"}))\n",
        "    df_capacity['乗車定員'][df_capacity['乗車定員']==''] = 0\n",
        "    df_capacity['乗車定員'] = df_capacity['乗車定員'].astype('int')"
      ]
    },
    {
      "cell_type": "code",
      "execution_count": null,
      "id": "32672e93",
      "metadata": {
        "id": "32672e93"
      },
      "outputs": [],
      "source": [
        "#テスト\n",
        "df_capacity = df.copy()\n",
        "capacity_preprocessing(df_capacity)\n",
        "print(df_capacity['乗車定員'].dtypes)\n",
        "df_capacity['乗車定員'].value_counts()"
      ]
    },
    {
      "cell_type": "markdown",
      "id": "34a656f0",
      "metadata": {
        "id": "34a656f0"
      },
      "source": [
        "## 燃料"
      ]
    },
    {
      "cell_type": "code",
      "execution_count": null,
      "id": "ba45aefd",
      "metadata": {
        "id": "ba45aefd"
      },
      "outputs": [],
      "source": [
        "df_fuel = df.copy()\n",
        "df_fuel['燃料'].value_counts()"
      ]
    },
    {
      "cell_type": "code",
      "execution_count": null,
      "id": "502f3891",
      "metadata": {
        "id": "502f3891"
      },
      "outputs": [],
      "source": [
        "from sklearn.preprocessing import LabelEncoder\n",
        "LE_fuel = LabelEncoder()\n",
        "LE_fuel.fit(df_fuel['燃料'])\n",
        "df_fuel['燃料'] = LE_fuel.transform(df_fuel['燃料'])\n",
        "print(LE_fuel.classes_)\n",
        "df_fuel['燃料'].unique()"
      ]
    },
    {
      "cell_type": "code",
      "execution_count": null,
      "id": "a10408c7",
      "metadata": {
        "id": "a10408c7"
      },
      "outputs": [],
      "source": [
        "def fuel_preprocessing(df_fuel):\n",
        "    from sklearn.preprocessing import LabelEncoder\n",
        "    global LE_fuel\n",
        "    LE_fuel = LabelEncoder()\n",
        "    LE_fuel.fit(df_fuel['燃料'])\n",
        "    df_fuel['燃料'] = LE_fuel.transform(df_fuel['燃料'])"
      ]
    },
    {
      "cell_type": "code",
      "execution_count": null,
      "id": "847fb539",
      "metadata": {
        "id": "847fb539"
      },
      "outputs": [],
      "source": [
        "#テスト\n",
        "df_fuel = df.copy()\n",
        "fuel_preprocessing(df_fuel)\n",
        "print(LE_fuel.classes_)\n",
        "df_fuel['燃料'].value_counts()"
      ]
    },
    {
      "cell_type": "markdown",
      "id": "dd2ae849",
      "metadata": {
        "id": "dd2ae849"
      },
      "source": [
        "## ハンドル"
      ]
    },
    {
      "cell_type": "code",
      "execution_count": null,
      "id": "4ddcf3a5",
      "metadata": {
        "id": "4ddcf3a5"
      },
      "outputs": [],
      "source": [
        "df_handle = df.copy()\n",
        "df_handle['ハンドル'].value_counts()"
      ]
    },
    {
      "cell_type": "code",
      "execution_count": null,
      "id": "38551c1d",
      "metadata": {
        "id": "38551c1d"
      },
      "outputs": [],
      "source": [
        "from sklearn.preprocessing import LabelEncoder\n",
        "LE_handle = LabelEncoder()\n",
        "LE_handle.fit(df_handle['ハンドル'])\n",
        "df_handle['ハンドル'] = LE_handle.transform(df_handle['ハンドル'])\n",
        "print(LE_handle.classes_)\n",
        "df_handle['ハンドル'].unique()"
      ]
    },
    {
      "cell_type": "code",
      "execution_count": null,
      "id": "278a9626",
      "metadata": {
        "id": "278a9626"
      },
      "outputs": [],
      "source": [
        "def handle_preprocessing(df_handle):\n",
        "    from sklearn.preprocessing import LabelEncoder\n",
        "    global LE_handle\n",
        "    LE_handle = LabelEncoder()\n",
        "    LE_handle.fit(df_handle['ハンドル'])\n",
        "    df_handle['ハンドル'] = LE_handle.transform(df_handle['ハンドル'])"
      ]
    },
    {
      "cell_type": "code",
      "execution_count": null,
      "id": "c7146f6a",
      "metadata": {
        "id": "c7146f6a"
      },
      "outputs": [],
      "source": [
        "#テスト\n",
        "df_handle = df.copy()\n",
        "handle_preprocessing(df_handle)\n",
        "print(LE_handle.classes_)\n",
        "df_handle['ハンドル'].unique()"
      ]
    },
    {
      "cell_type": "markdown",
      "id": "c774a5eb",
      "metadata": {
        "id": "c774a5eb"
      },
      "source": [
        "## 車台番号"
      ]
    },
    {
      "cell_type": "code",
      "execution_count": null,
      "id": "f5b4f6da",
      "metadata": {
        "id": "f5b4f6da"
      },
      "outputs": [],
      "source": [
        "df_number = df.copy()\n",
        "df_number['車台番号'].value_counts()"
      ]
    },
    {
      "cell_type": "code",
      "execution_count": null,
      "id": "f86118cd",
      "metadata": {
        "id": "f86118cd"
      },
      "outputs": [],
      "source": [
        "#(下3桁)を削除\n",
        "df_number['車台番号'] = df_number['車台番号'].map(lambda x : x.replace('（下3桁）', ''))\n",
        "df_number['車台番号'].unique()"
      ]
    },
    {
      "cell_type": "code",
      "execution_count": null,
      "id": "30dffe9a",
      "metadata": {
        "id": "30dffe9a"
      },
      "outputs": [],
      "source": [
        "#(下3桁)と同時に4M-等を削除\n",
        "nums = {'（下3桁）':\"\"\n",
        "        ,'BVF':\"-1\"\n",
        "        ,'4M-':\"-2\"\n",
        "        ,'36L':\"-3\"\n",
        "        ,'40A':\"-4\"\n",
        "        ,'25-':\"-5\"\n",
        "        ,'5S-':\"-6\"\n",
        "        ,'RF-':\"-7\"\n",
        "        ,'KL-':\"-8\"\n",
        "        ,'FF-':\"-9\"\n",
        "       }\n",
        "for num in nums:\n",
        "    print(num)\n",
        "    df_number['車台番号'] = df_number['車台番号'].map(lambda x : x.replace(num, nums[num]))\n",
        "df_number['車台番号'].unique()"
      ]
    },
    {
      "cell_type": "code",
      "execution_count": null,
      "id": "720ee967",
      "metadata": {
        "scrolled": true,
        "id": "720ee967"
      },
      "outputs": [],
      "source": [
        "#dtypeをint型に変換する\n",
        "df_number['車台番号'] = df_number['車台番号'].astype('int')\n",
        "print(df_number['車台番号'].dtypes)\n",
        "df_number['車台番号'].unique()"
      ]
    },
    {
      "cell_type": "code",
      "execution_count": null,
      "id": "7b7e2c49",
      "metadata": {
        "id": "7b7e2c49"
      },
      "outputs": [],
      "source": [
        "def number_preprocessing(df_number):\n",
        "    nums = {'（下3桁）':\"\"\n",
        "            ,'BVF':\"-1\"\n",
        "            ,'4M-':\"-2\"\n",
        "            ,'36L':\"-3\"\n",
        "            ,'40A':\"-4\"\n",
        "            ,'25-':\"-5\"\n",
        "            ,'5S-':\"-6\"\n",
        "            ,'RF-':\"-7\"\n",
        "            ,'KL-':\"-8\"\n",
        "            ,'FF-':\"-9\"\n",
        "           }\n",
        "    \n",
        "    for num in nums:\n",
        "        df_number['車台番号'] = df_number['車台番号'].map(lambda x : x.replace(num, nums[num]))\n",
        "        \n",
        "    df_number['車台番号'] = df_number['車台番号'].astype('int')"
      ]
    },
    {
      "cell_type": "code",
      "execution_count": null,
      "id": "f76de037",
      "metadata": {
        "scrolled": true,
        "id": "f76de037"
      },
      "outputs": [],
      "source": [
        "#テスト\n",
        "df_number = df.copy()\n",
        "number_preprocessing(df_number)\n",
        "print(df_number['車台番号'].dtypes)\n",
        "df_number['車台番号'].unique()"
      ]
    },
    {
      "cell_type": "markdown",
      "id": "67a2b6af",
      "metadata": {
        "id": "67a2b6af"
      },
      "source": [
        "## 記録簿"
      ]
    },
    {
      "cell_type": "code",
      "execution_count": null,
      "id": "1214e106",
      "metadata": {
        "id": "1214e106"
      },
      "outputs": [],
      "source": [
        "df_record = df.copy()\n",
        "df_record.記録簿.value_counts()"
      ]
    },
    {
      "cell_type": "code",
      "execution_count": null,
      "id": "8b531f2f",
      "metadata": {
        "id": "8b531f2f"
      },
      "outputs": [],
      "source": [
        "#「記録簿あり」を1に変換する\n",
        "df_record['記録簿'] = df_record['記録簿'].map(lambda x : 0 if (x=='') else 1)\n",
        "\n",
        "print(df_record['記録簿'].dtypes)\n",
        "df_record['記録簿'].unique()"
      ]
    },
    {
      "cell_type": "code",
      "execution_count": null,
      "id": "92982988",
      "metadata": {
        "id": "92982988"
      },
      "outputs": [],
      "source": [
        "def record_preprocessing(df_record):\n",
        "    df_record['記録簿'] = df_record['記録簿'].map(lambda x : 0 if (x=='') else 1)"
      ]
    },
    {
      "cell_type": "code",
      "execution_count": null,
      "id": "0ef25e67",
      "metadata": {
        "id": "0ef25e67"
      },
      "outputs": [],
      "source": [
        "#テスト\n",
        "df_record = df.copy()\n",
        "record_preprocessing(df_record)\n",
        "df_record['記録簿'].value_counts()"
      ]
    },
    {
      "cell_type": "markdown",
      "id": "9928d4df",
      "metadata": {
        "id": "9928d4df"
      },
      "source": [
        "## リサイクル料"
      ]
    },
    {
      "cell_type": "code",
      "execution_count": null,
      "id": "0183e0f6",
      "metadata": {
        "id": "0183e0f6"
      },
      "outputs": [],
      "source": [
        "df_recycle = df.copy()\n",
        "df_recycle['リサイクル料'].value_counts()"
      ]
    },
    {
      "cell_type": "code",
      "execution_count": null,
      "id": "d6b31da0",
      "metadata": {
        "id": "d6b31da0"
      },
      "outputs": [],
      "source": [
        "from sklearn.preprocessing import LabelEncoder\n",
        "LE_recycle = LabelEncoder()\n",
        "LE_recycle.fit(df_recycle['リサイクル料'])\n",
        "df_recycle['リサイクル料'] = LE_recycle.transform(df_recycle['リサイクル料'])\n",
        "df_recycle['リサイクル料'].unique()"
      ]
    },
    {
      "cell_type": "code",
      "execution_count": null,
      "id": "10b3d5d7",
      "metadata": {
        "id": "10b3d5d7"
      },
      "outputs": [],
      "source": [
        "def recycle_preprocessing(df_recycle):\n",
        "    from sklearn.preprocessing import LabelEncoder\n",
        "    global LE_recycle\n",
        "    LE_recycle = LabelEncoder()\n",
        "    LE_recycle.fit(df_recycle['リサイクル料'])\n",
        "    df_recycle['リサイクル料'] = LE_recycle.transform(df_recycle['リサイクル料'])"
      ]
    },
    {
      "cell_type": "code",
      "execution_count": null,
      "id": "55864552",
      "metadata": {
        "id": "55864552"
      },
      "outputs": [],
      "source": [
        "#テスト\n",
        "df_recycle = df.copy()\n",
        "recycle_preprocessing(df_recycle)\n",
        "print(LE_recycle.classes_)\n",
        "df_recycle['リサイクル料'].unique()"
      ]
    },
    {
      "cell_type": "markdown",
      "id": "8211a0de",
      "metadata": {
        "id": "8211a0de"
      },
      "source": [
        "## 整備"
      ]
    },
    {
      "cell_type": "code",
      "execution_count": null,
      "id": "85794f40",
      "metadata": {
        "id": "85794f40"
      },
      "outputs": [],
      "source": [
        "df_maintenance = df.copy()\n",
        "df_maintenance['整備'].value_counts()"
      ]
    },
    {
      "cell_type": "code",
      "execution_count": null,
      "id": "47e95639",
      "metadata": {
        "id": "47e95639"
      },
      "outputs": [],
      "source": [
        "#整備フラグを作成すべき\n",
        "#整備フラグが0のやつだけ整備費カラムに金額を入れて特徴量を作りたい\n",
        "\n",
        "df_maintenance['整備フラグ'] = 0\n",
        "df_maintenance['整備フラグ'] = df_maintenance['整備フラグ'].mask(df_maintenance['整備']=='法定整備付', 1)\n",
        "df_maintenance['整備フラグ'] = df_maintenance['整備フラグ'].mask(df_maintenance['整備']=='法定整備なし', 2)\n",
        "\n",
        "print(df_maintenance['整備フラグ'].unique())\n",
        "#df_maintenance.head(10)"
      ]
    },
    {
      "cell_type": "code",
      "execution_count": null,
      "id": "6e4b4e27",
      "metadata": {
        "id": "6e4b4e27"
      },
      "outputs": [],
      "source": [
        "df_maintenance[df_maintenance['整備']==\"法定整備別\"]\n",
        "#0にするか"
      ]
    },
    {
      "cell_type": "code",
      "execution_count": null,
      "id": "bc17b584",
      "metadata": {
        "scrolled": true,
        "id": "bc17b584"
      },
      "outputs": [],
      "source": [
        "df_maintenance['整備費'] = 0\n",
        "df_maintenance['整備費'] = df_maintenance['整備'].map(lambda x : x[9:-2] if ('整備費' in x) else '0')\n",
        "\n",
        "df_maintenance['整備費'].unique()"
      ]
    },
    {
      "cell_type": "code",
      "execution_count": null,
      "id": "682b152f",
      "metadata": {
        "id": "682b152f"
      },
      "outputs": [],
      "source": [
        "#カンマを取り除いてint型に変換\n",
        "df_maintenance['整備費'] = df_maintenance['整備費'].str.translate(str.maketrans({\",\":\"\"}))\n",
        "print(df_maintenance['整備費'].unique()) #0のデータ型をstrにしないと0がnanになってしまう\n",
        "df_maintenance['整備費'] = df_maintenance['整備費'].astype('int')\n",
        "\n",
        "print(df_maintenance['整備費'].dtypes)\n",
        "df_maintenance['整備費'].unique()"
      ]
    },
    {
      "cell_type": "code",
      "execution_count": null,
      "id": "f6ff721a",
      "metadata": {
        "scrolled": true,
        "id": "f6ff721a"
      },
      "outputs": [],
      "source": [
        "#整備カラムを削除する\n",
        "del df_maintenance['整備']\n",
        "df_maintenance.head(1)"
      ]
    },
    {
      "cell_type": "code",
      "execution_count": null,
      "id": "95d9645d",
      "metadata": {
        "id": "95d9645d"
      },
      "outputs": [],
      "source": [
        "def maintenance_preprocessing(df_maintenance):\n",
        "    df_maintenance['整備フラグ'] = 0\n",
        "    df_maintenance['整備フラグ'] = df_maintenance['整備フラグ'].mask(df_maintenance['整備']=='法定整備付', 1)\n",
        "    df_maintenance['整備フラグ'] = df_maintenance['整備フラグ'].mask(df_maintenance['整備']=='法定整備なし', 2)\n",
        "    \n",
        "    df_maintenance['整備費'] = 0\n",
        "    df_maintenance['整備費'] = df_maintenance['整備'].map(lambda x : x[9:-2] if ('整備費' in x) else '0')\n",
        "    \n",
        "    df_maintenance['整備費'] = df_maintenance['整備費'].str.translate(str.maketrans({\",\":\"\"}))\n",
        "    df_maintenance['整備費'] = df_maintenance['整備費'].astype('int')\n",
        "    \n",
        "    del df_maintenance['整備']\n"
      ]
    },
    {
      "cell_type": "code",
      "execution_count": null,
      "id": "8264146c",
      "metadata": {
        "id": "8264146c"
      },
      "outputs": [],
      "source": [
        "#テスト\n",
        "df_maintenance = df.copy()\n",
        "maintenance_preprocessing(df_maintenance)\n",
        "print(df_maintenance['整備費'].dtypes)\n",
        "df_maintenance.head(1)"
      ]
    },
    {
      "cell_type": "markdown",
      "id": "fbdb4e6e",
      "metadata": {
        "id": "fbdb4e6e"
      },
      "source": [
        "## ID車両(グー鑑定)"
      ]
    },
    {
      "cell_type": "code",
      "execution_count": null,
      "id": "599f88b8",
      "metadata": {
        "id": "599f88b8"
      },
      "outputs": [],
      "source": [
        "df_judgement = df.copy()\n",
        "df_judgement['ID車両(グー鑑定)'].value_counts()\n",
        "#空白は0で埋める\n",
        "#外装、内装は1~5の整数\n",
        "#機関は「正常」以外なかったので、特徴量にしない\n",
        "#修復歴は無か有のどちらか\n",
        "#修復歴が有の場合、軽度・中度・重度のランク付がなされている\n",
        "#鑑定日は全ての修復歴に入っている\n",
        "#外装、内装、修復歴、鑑定日で分けちゃう？"
      ]
    },
    {
      "cell_type": "code",
      "execution_count": null,
      "id": "c073f509",
      "metadata": {
        "id": "c073f509"
      },
      "outputs": [],
      "source": [
        "#修復歴を作成する(空白は0で埋める)\n",
        "#無->1、有(軽度)->2、有(中度)->3、有(重度)->4\n",
        "df_judgement['修復歴'] = 0\n",
        "#df_judgement['修復歴'] = df_judgement['修復歴'].mask(df_judgement['ID車両(グー鑑定)'].str.contains('無'), 1)\n",
        "#df_judgement['修復歴'] = df_judgement['修復歴'].mask(df_judgement['ID車両(グー鑑定)'].str.contains('軽度'), 2)\n",
        "#df_judgement['修復歴'] = df_judgement['修復歴'].mask(df_judgement['ID車両(グー鑑定)'].str.contains('中度'), 3)\n",
        "#df_judgement['修復歴'] = df_judgement['修復歴'].mask(df_judgement['ID車両(グー鑑定)'].str.contains('重度'), 4)\n",
        "\n",
        "for num, name in enumerate(['無','軽度','中度','重度']):\n",
        "    df_judgement['修復歴'] = df_judgement['修復歴'].mask(df_judgement['ID車両(グー鑑定)'].str.contains(name), num+1)\n",
        "\n",
        "print(df_judgement['修復歴'].unique())\n",
        "df_judgement['修復歴'].value_counts()"
      ]
    },
    {
      "cell_type": "code",
      "execution_count": null,
      "id": "8f1fb74c",
      "metadata": {
        "id": "8f1fb74c"
      },
      "outputs": [],
      "source": [
        "#外装・内装カラムを作成\n",
        "df_judgement['外装'] = df_judgement['ID車両(グー鑑定)'].map(lambda x : int(x[3:4]) if ('鑑定日' in x) else 0)\n",
        "print(\"外装：\",df_judgement['外装'].unique())\n",
        "\n",
        "df_judgement['内装'] = df_judgement['ID車両(グー鑑定)'].map(lambda x : int(x[8:9]) if ('鑑定日' in x) else 0)\n",
        "print(\"内装：\",df_judgement['内装'].unique())"
      ]
    },
    {
      "cell_type": "code",
      "execution_count": null,
      "id": "aee48bf6",
      "metadata": {
        "scrolled": true,
        "id": "aee48bf6"
      },
      "outputs": [],
      "source": [
        "#鑑定日カラムを作成\n",
        "df_judgement['鑑定日'] = df_judgement['ID車両(グー鑑定)'].map(lambda x : x[-11:-1] if ('鑑定日' in x) else \"0\")\n",
        "df_judgement['鑑定日'] = df_judgement['鑑定日'].str.translate(str.maketrans({\"-\":\"\"}))\n",
        "df_judgement['鑑定日'] = df_judgement['鑑定日'].astype('int')\n",
        "\n",
        "df_judgement['鑑定日'].unique()"
      ]
    },
    {
      "cell_type": "code",
      "execution_count": null,
      "id": "871bdcc6",
      "metadata": {
        "id": "871bdcc6"
      },
      "outputs": [],
      "source": [
        "#ID車両(グー鑑定)カラムを削除\n",
        "del df_judgement['ID車両(グー鑑定)']\n",
        "df_judgement.head(1)"
      ]
    },
    {
      "cell_type": "code",
      "execution_count": null,
      "id": "d6dc93f1",
      "metadata": {
        "id": "d6dc93f1"
      },
      "outputs": [],
      "source": [
        "def judgement_preprocessing(df_judgement):\n",
        "    df_judgement['修復歴'] = 0\n",
        "    for num, name in enumerate(['無','軽度','中度','重度']):\n",
        "        df_judgement['修復歴'] = df_judgement['修復歴'].mask(df_judgement['ID車両(グー鑑定)'].str.contains(name), num+1)\n",
        "        \n",
        "    df_judgement['外装'] = df_judgement['ID車両(グー鑑定)'].map(lambda x : int(x[3:4]) if ('鑑定日' in x) else 0)\n",
        "\n",
        "    df_judgement['内装'] = df_judgement['ID車両(グー鑑定)'].map(lambda x : int(x[8:9]) if ('鑑定日' in x) else 0)\n",
        "    \n",
        "    df_judgement['鑑定日'] = df_judgement['ID車両(グー鑑定)'].map(lambda x : x[-11:-1] if ('鑑定日' in x) else \"0\")\n",
        "    df_judgement['鑑定日'] = df_judgement['鑑定日'].str.translate(str.maketrans({\"-\":\"\"}))\n",
        "    df_judgement['鑑定日'] = df_judgement['鑑定日'].astype('int')\n",
        "    \n",
        "    del df_judgement['ID車両(グー鑑定)']\n",
        "    "
      ]
    },
    {
      "cell_type": "code",
      "execution_count": null,
      "id": "064f1c08",
      "metadata": {
        "id": "064f1c08"
      },
      "outputs": [],
      "source": [
        "#テスト\n",
        "df_judgement = df.copy()\n",
        "judgement_preprocessing(df_judgement)\n",
        "for name in ['修復歴','外装','内装','鑑定日']:\n",
        "    print(name,\"：\",df_judgement[name].unique())\n",
        "df_judgement.head(1)"
      ]
    },
    {
      "cell_type": "markdown",
      "id": "0c0246a0",
      "metadata": {
        "id": "0c0246a0"
      },
      "source": [
        "## 全長・全幅・全高・車両重量・燃費"
      ]
    },
    {
      "cell_type": "code",
      "execution_count": null,
      "id": "6ec8c07b",
      "metadata": {
        "id": "6ec8c07b"
      },
      "outputs": [],
      "source": [
        "df_length = df.copy()\n",
        "df_length['全長'].value_counts()"
      ]
    },
    {
      "cell_type": "code",
      "execution_count": null,
      "id": "d6235a93",
      "metadata": {
        "scrolled": true,
        "id": "d6235a93"
      },
      "outputs": [],
      "source": [
        "df_width = df.copy()\n",
        "df_width['全幅'].value_counts()"
      ]
    },
    {
      "cell_type": "code",
      "execution_count": null,
      "id": "efdfd3cc",
      "metadata": {
        "id": "efdfd3cc"
      },
      "outputs": [],
      "source": [
        "df_height = df.copy()\n",
        "df_height['全高'].value_counts()\n",
        "#3つともmm※1で終わっている\n",
        "#同じ処理でまとめられないか"
      ]
    },
    {
      "cell_type": "code",
      "execution_count": null,
      "id": "101f41d7",
      "metadata": {
        "id": "101f41d7"
      },
      "outputs": [],
      "source": [
        "#もしかしたらlwhwfにできるかも\n",
        "df_weight = df.copy()\n",
        "df_weight['車両重量'].value_counts()"
      ]
    },
    {
      "cell_type": "code",
      "execution_count": null,
      "id": "ef591f47",
      "metadata": {
        "id": "ef591f47"
      },
      "outputs": [],
      "source": [
        "df_fuelconsumption = df.copy()\n",
        "df_fuelconsumption['燃費'].value_counts()"
      ]
    },
    {
      "cell_type": "code",
      "execution_count": null,
      "id": "978c503d",
      "metadata": {
        "id": "978c503d"
      },
      "outputs": [],
      "source": [
        "#一応全長において全ての必要な処理を記述してみる\n",
        "df_length['全長'] = df_length['全長'].map(lambda x : x[:-4] if (\"mm※1\" in x) else \"0\")\n",
        "df_length['全長'] = df_length['全長'].str.translate(str.maketrans({\",\":\"\"}))\n",
        "df_length['全長'] = df_length['全長'].astype('int')\n",
        "\n",
        "df_length['全長'].unique()"
      ]
    },
    {
      "cell_type": "code",
      "execution_count": null,
      "id": "1197bd98",
      "metadata": {
        "id": "1197bd98"
      },
      "outputs": [],
      "source": [
        "def lwhwf_preprocessing(df_lwhwf):\n",
        "    lwhwf_names = [\"全長\",\"全幅\",\"全高\",\"車両重量\",\"燃費\"]\n",
        "    lwhwf_dtypes = ['int','int','int','int','float']\n",
        "    for lwhwf_name,lwhwf_dtype  in zip(lwhwf_names,lwhwf_dtypes):\n",
        "        df_lwhwf[lwhwf_name] = df_lwhwf[lwhwf_name].map(lambda x : x[:-4] if (\"※\" in str(x)) else \"0\")\n",
        "        df_lwhwf[lwhwf_name] = df_lwhwf[lwhwf_name].str.translate(str.maketrans({\",\":\"\",\"k\":\"\",\"m\":\"\"}))\n",
        "        df_lwhwf[lwhwf_name] = df_lwhwf[lwhwf_name].astype(lwhwf_dtype)\n",
        "    "
      ]
    },
    {
      "cell_type": "code",
      "execution_count": null,
      "id": "3f144423",
      "metadata": {
        "id": "3f144423"
      },
      "outputs": [],
      "source": [
        "#テスト\n",
        "df_lwhwf = df.copy()\n",
        "lwhwf_preprocessing(df_lwhwf)\n",
        "df_lwhwf.head(10)"
      ]
    },
    {
      "cell_type": "markdown",
      "id": "0d867fde",
      "metadata": {
        "id": "0d867fde"
      },
      "source": [
        "## 使用燃料"
      ]
    },
    {
      "cell_type": "code",
      "execution_count": null,
      "id": "1226780f",
      "metadata": {
        "id": "1226780f"
      },
      "outputs": [],
      "source": [
        "df_usingfuel = df.copy()\n",
        "df_usingfuel['使用燃料'].value_counts()\n",
        "#lwhwffにできない悔しさ"
      ]
    },
    {
      "cell_type": "code",
      "execution_count": null,
      "id": "d914abea",
      "metadata": {
        "id": "d914abea"
      },
      "outputs": [],
      "source": [
        "from sklearn.preprocessing import LabelEncoder\n",
        "df_usingfuel['使用燃料'][df_usingfuel['使用燃料']==''] = \"0\"\n",
        "LE_usingfuel = LabelEncoder()\n",
        "LE_usingfuel.fit(df_usingfuel['使用燃料'])\n",
        "df_usingfuel['使用燃料'] = LE_usingfuel.transform(df_usingfuel['使用燃料'])\n",
        "\n",
        "print(LE_usingfuel.classes_)\n",
        "df_usingfuel['使用燃料'].value_counts()"
      ]
    },
    {
      "cell_type": "code",
      "execution_count": null,
      "id": "75163c4c",
      "metadata": {
        "id": "75163c4c"
      },
      "outputs": [],
      "source": [
        "def usingfuel_preprocessing(df_usingfuel):\n",
        "    from sklearn.preprocessing import LabelEncoder\n",
        "    df_usingfuel['使用燃料'][df_usingfuel['使用燃料']==''] = \"0\"\n",
        "    global LE_usingfuel\n",
        "    LE_usingfuel = LabelEncoder()\n",
        "    LE_usingfuel.fit(df_usingfuel['使用燃料'])\n",
        "    df_usingfuel['使用燃料'] = LE_usingfuel.transform(df_usingfuel['使用燃料'])\n",
        "    "
      ]
    },
    {
      "cell_type": "code",
      "execution_count": null,
      "id": "d69755c3",
      "metadata": {
        "id": "d69755c3"
      },
      "outputs": [],
      "source": [
        "#テスト\n",
        "df_usingfuel = df.copy()\n",
        "usingfuel_preprocessing(df_usingfuel)\n",
        "print(LE_usingfuel.classes_)\n",
        "df_usingfuel['使用燃料'].unique()"
      ]
    },
    {
      "cell_type": "markdown",
      "id": "4153e67c",
      "metadata": {
        "id": "4153e67c"
      },
      "source": [
        "## データ前処理　最終関数2"
      ]
    },
    {
      "cell_type": "code",
      "execution_count": null,
      "id": "5e21aa80",
      "metadata": {
        "id": "5e21aa80"
      },
      "outputs": [],
      "source": [
        "def kkkcom_preprocessing_under(df):\n",
        "    mission_preprocessing(df)\n",
        "    drive_preprocessing(df)\n",
        "    displacement_preprocessing(df)\n",
        "    door_preprocessing(df)\n",
        "    capacity_preprocessing(df)\n",
        "    fuel_preprocessing(df)\n",
        "    handle_preprocessing(df)\n",
        "    number_preprocessing(df)\n",
        "    record_preprocessing(df)\n",
        "    recycle_preprocessing(df)\n",
        "    maintenance_preprocessing(df)\n",
        "    judgement_preprocessing(df)\n",
        "    lwhwf_preprocessing(df)\n",
        "    usingfuel_preprocessing(df)\n",
        "    "
      ]
    },
    {
      "cell_type": "code",
      "execution_count": null,
      "id": "72728645",
      "metadata": {
        "id": "72728645"
      },
      "outputs": [],
      "source": [
        "#テスト\n",
        "df_under = df.copy()\n",
        "kkkcom_preprocessing_under(df_under)\n",
        "df_under.head(10)"
      ]
    }
  ],
  "metadata": {
    "kernelspec": {
      "display_name": "Python 3",
      "language": "python",
      "name": "python3"
    },
    "language_info": {
      "codemirror_mode": {
        "name": "ipython",
        "version": 3
      },
      "file_extension": ".py",
      "mimetype": "text/x-python",
      "name": "python",
      "nbconvert_exporter": "python",
      "pygments_lexer": "ipython3",
      "version": "3.7.4"
    },
    "colab": {
      "name": "中古車価格予測AI(価格.com)_データ前処理検討2.ipynb",
      "provenance": [],
      "include_colab_link": true
    }
  },
  "nbformat": 4,
  "nbformat_minor": 5
}