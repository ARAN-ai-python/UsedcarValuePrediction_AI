{
  "cells": [
    {
      "cell_type": "markdown",
      "metadata": {
        "id": "view-in-github",
        "colab_type": "text"
      },
      "source": [
        "<a href=\"https://colab.research.google.com/github/ARAN1218/UsedcarValuePrediction_AI/blob/main/jupyter%20notebook/7.%E4%B8%AD%E5%8F%A4%E8%BB%8A%E4%BE%A1%E6%A0%BC%E4%BA%88%E6%B8%ACAI(%E4%BE%A1%E6%A0%BC_com)_%E3%82%B5%E3%83%BC%E3%83%93%E3%82%B9%E4%BD%9C%E6%88%90(%E3%83%AD%E3%83%BC%E3%82%AB%E3%83%AB).ipynb\" target=\"_parent\"><img src=\"https://colab.research.google.com/assets/colab-badge.svg\" alt=\"Open In Colab\"/></a>"
      ]
    },
    {
      "cell_type": "code",
      "execution_count": null,
      "id": "4a8f2534",
      "metadata": {
        "id": "4a8f2534"
      },
      "outputs": [],
      "source": [
        "%run ./UsedCar_functions.ipynb\n",
        "import_test()"
      ]
    },
    {
      "cell_type": "code",
      "execution_count": null,
      "id": "98bab8c1",
      "metadata": {
        "id": "98bab8c1"
      },
      "outputs": [],
      "source": [
        "import numpy as np\n",
        "import pandas as pd\n",
        "\n",
        "df = pd.read_pickle('Car_Bigdata_Merged.pickle').drop_duplicates()\n",
        "print(len(df))\n",
        "df.head(10)"
      ]
    },
    {
      "cell_type": "code",
      "execution_count": null,
      "id": "276b958e",
      "metadata": {
        "id": "276b958e"
      },
      "outputs": [],
      "source": [
        "kkkcom_preprocessing(df)\n",
        "print(len(df))\n",
        "df.head(1)"
      ]
    },
    {
      "cell_type": "code",
      "execution_count": null,
      "id": "a58ae23e",
      "metadata": {
        "id": "a58ae23e"
      },
      "outputs": [],
      "source": [
        "print(LE_mission.classes_)\n",
        "print(LE_fuel.classes_)\n",
        "print(LE_handle.classes_)\n",
        "print(LE_usingfuel.classes_)"
      ]
    },
    {
      "cell_type": "code",
      "execution_count": null,
      "id": "f6a1cc20",
      "metadata": {
        "id": "f6a1cc20"
      },
      "outputs": [],
      "source": [
        "#xgboost,lightgbm,ランダムフォレストのアンサンブルで任意データ予測関数作り\n",
        "def kkkcom_prediction():\n",
        "    import xgboost as xgb\n",
        "    import lightgbm as lgb\n",
        "    import pandas as pd\n",
        "    import pickle\n",
        "    from pprint import pprint\n",
        "    from time import sleep\n",
        "    \n",
        "    columns = ['車名', '地域', '年式', '走行距離', '車検', '修復歴'\n",
        "               , '未使用車', 'ワンオーナー', '禁煙車', 'ミッション', '駆動方式'\n",
        "               , '排気量', 'ドア数', '乗車定員', '燃料', 'ハンドル', '記録簿'\n",
        "               , '燃費', '使用燃料', 'エアコン', 'パワーステアリング', 'パワーウィンドウ'\n",
        "               , 'キーレスエントリー', 'エアバッグ', 'ABS', 'アルミホイール', '盗難防止システム'\n",
        "               , 'バックモニターカメラ', 'ベンチシート', 'フルフラット', 'CDデッキ', 'カーナビ'\n",
        "               , 'テレビ', 'ETC', '両側スライドドア両側電動', '両側スライドドア'\n",
        "               , 'スライドドア電動あり', 'スライドドア', '寒冷地仕様', 'パワーシート'\n",
        "               , '本革シート', 'サンルーフ', 'ディスチャージドランプ', 'エアロパーツ'\n",
        "               , '3列シート', 'ウォークスルー', 'ローダウン', '福祉車両', '修復レベル'\n",
        "               , '保証フラグ', '保証期間', '保証距離'\n",
        "              ]\n",
        "    \n",
        "    #車名と地域を取得する\n",
        "    with open('Car_LE_name.pickle', mode='rb') as fp:\n",
        "        LE_n = pickle.load(fp)\n",
        "    with open('Car_LE_area.pickle', mode='rb') as fp:\n",
        "        LE_a = pickle.load(fp)\n",
        "    \n",
        "    #inputメソッドで任意データを入力する\n",
        "    #基本編\n",
        "    pprint(sorted(LE_n.classes_))\n",
        "    sleep(0.1)\n",
        "    name = input('上記の選択肢より、車の種類を選んでください>')\n",
        "    pprint(sorted(LE_a.classes_))\n",
        "    area = input('上記の選択肢より、地域を入力してください>')\n",
        "    \n",
        "    year = int(input('年式を入力してください(ex. 2021)>'))\n",
        "    distance = int(input('走行距離を入力してください(単位：km)(ex. 10km->10)>'))\n",
        "    inspection = float(input('次回車検年月と現在の年月の差を入力してください(ex 現在年月が2021年7月で、次回車検年月が2022年9月->202209-202107=102を入力)(車検整備付：400、新車未登録：500、不明：0)>'))\n",
        "    repair = int(input('修復歴の有無を入力してください(修復歴がある：1、修復歴がない：0)>'))\n",
        "    unused = int(input('未使用かどうかを入力してください(未使用車である：1、未使用車でない：0)>'))\n",
        "    oneowner = int(input('ワンオーナー車かどうかを入力してください(ワンオーナー車である：1、ワンオーナー車でない：0)>'))\n",
        "    nosmoking = int(input('禁煙車かどうかを入力してください(禁煙車である：1、禁煙車でない：0)>'))\n",
        "    mission = int(input('ミッションを入力してください(AT:1、CVT:2、MT:3)>'))\n",
        "    drive = int(input('駆動方式を入力してください(2WD:2、4WD:4)>'))\n",
        "    displacement = int(input('排気量を入力してください(ex. 660cc->660)>'))\n",
        "    door = int(input('ドア数を入力してください(ex. 4個->4)>'))\n",
        "    capacity = int(input('乗車定員を入力してください(ex. 4人->4)>'))\n",
        "    fuel = int(input('燃料を入力してください(その他：0、ガソリン：1、ディーゼル：2)>'))\n",
        "    handle = int(input('ハンドルを入力してください(右ハンドル：0、左ハンドル：1)>'))\n",
        "    record = int(input('記録簿の有無を入力してください(有り：1、無し：0)>'))\n",
        "    fuelconsumption = float(input('燃費を入力してください(単位：km/L)(ex. 27.4km/L->27.4)>'))\n",
        "    usingfuel = int(input('使用燃料を入力してください(その他：0、ディーゼル：1、ハイオク：2、レギュラー：3)>'))\n",
        "    repair_lv = int(input('過去の傷の修復レベルを入力してください(無傷：0、軽度：1、中度：2、重度：3)>'))\n",
        "    is_gua = int(input('保証フラグを入力してください(保証無し：0、有償保証付き：1、無償保証付き：2)>'))\n",
        "    gua_span = int(input('保証期間を入力してください(単位：ヶ月)(ex. 12ヶ月->12)>'))\n",
        "    gua_dist = int(input('保証距離を入力してください(単位：km)(ex. 10km->10、無制限->999999)>'))\n",
        "    \n",
        "    #オプション編\n",
        "    print(\n",
        "        '------------------------------------------------------------------------------------------',\n",
        "        \"\\n\",\n",
        "        'ここからはオプションについて入力します。装備がある場合は「1」を、ない場合は「0」を入力してください。',\n",
        "        \"\\n\",\n",
        "        '------------------------------------------------------------------------------------------'\n",
        "    )\n",
        "    aircon = int(input('エアコンを入力してください>'))\n",
        "    power_s = int(input('パワーステアリングを入力してください>'))\n",
        "    power_w = int(input('パワーウィンドウを入力してください>'))\n",
        "    keyless = int(input('キーレスエントリーを入力してください>'))\n",
        "    airbag = int(input('エアバッグを入力してください>'))\n",
        "    absabs = int(input('ABSを入力してください>'))\n",
        "    al_w = int(input('アルミホイールを入力してください>'))\n",
        "    nosteal = int(input('盗難防止システムを入力してください>'))\n",
        "    bmc = int(input('バックモニターカメラを入力してください>'))\n",
        "    bs = int(input('ベンチシートを入力してください>'))\n",
        "    ff = int(input('フルフラットを入力してください>'))\n",
        "    cd = int(input('CDデッキを入力してください>'))\n",
        "    navi = int(input('カーナビを入力してください>'))\n",
        "    tv = int(input('テレビを入力してください>'))\n",
        "    etc = int(input('ETCを入力してください>'))\n",
        "    bothslide_e = int(input('両側スライドドア(両側電動)を入力してください>'))\n",
        "    bothslide = int(input('両側スライドドアを入力してください>'))\n",
        "    slide_e = int(input('スライドドア電動ありを入力してください>'))\n",
        "    slide = int(input('スライドドアを入力してください>'))\n",
        "    cold = int(input('寒冷地仕様を入力してください>'))\n",
        "    power_seat = int(input('パワーシートを入力してください>'))\n",
        "    leather = int(input('本革シートを入力してください>'))\n",
        "    sun = int(input('サンルーフを入力してください>'))\n",
        "    dcl = int(input('ディスチャージドランプを入力してください>'))\n",
        "    aero = int(input('エアロパーツを入力してください>'))\n",
        "    seat_3 = int(input('3列シートを入力してください>'))\n",
        "    walk = int(input('ウォークスルーを入力してください>'))\n",
        "    low = int(input('ローダウンを入力してください>'))\n",
        "    welfare = int(input('福祉車両を入力してください>'))\n",
        "\n",
        "    \n",
        "    d_try = {\n",
        "        \"車名\":name\n",
        "        ,\"年式\":year\n",
        "        ,\"走行距離\":distance\n",
        "        ,\"地域\":area\n",
        "        ,\"車検\":inspection\n",
        "        ,\"修復歴\":repair\n",
        "        ,\"未使用車\":unused\n",
        "        ,\"ワンオーナー\":oneowner\n",
        "        ,\"禁煙車\":nosmoking\n",
        "        ,\"ミッション\":mission\n",
        "        ,\"駆動方式\":drive\n",
        "        ,\"排気量\":displacement\n",
        "        ,\"ドア数\":door\n",
        "        ,\"乗車定員\":capacity\n",
        "        ,\"燃料\":fuel\n",
        "        ,\"ハンドル\":handle\n",
        "        ,\"記録簿\":record\n",
        "        ,\"燃費\":fuelconsumption\n",
        "        ,\"使用燃料\":usingfuel\n",
        "        \n",
        "        ,\"エアコン\":aircon\n",
        "        ,\"パワーステアリング\":power_s\n",
        "        ,\"パワーウィンドウ\":power_w\n",
        "        ,\"キーレスエントリー\":keyless\n",
        "        ,\"エアバッグ\":airbag\n",
        "        ,\"ABS\":absabs\n",
        "        ,\"アルミホイール\":al_w\n",
        "        ,\"盗難防止システム\":nosteal\n",
        "        ,\"バックモニターカメラ\":bmc\n",
        "        ,\"ベンチシート\":bs\n",
        "        ,\"フルフラット\":ff\n",
        "        ,\"CDデッキ\":cd\n",
        "        ,\"カーナビ\":navi\n",
        "        ,\"テレビ\":tv\n",
        "        ,\"ETC\":etc\n",
        "        ,\"両側スライドドア両側電動\":bothslide_e\n",
        "        ,\"両側スライドドア\":bothslide\n",
        "        ,\"スライドドア電動あり\":slide_e\n",
        "        ,\"スライドドア\":slide\n",
        "        ,\"寒冷地仕様\":cold\n",
        "        ,\"パワーシート\":power_seat\n",
        "        ,\"本革シート\":leather\n",
        "        ,\"サンルーフ\":sun\n",
        "        ,\"ディスチャージドランプ\":dcl\n",
        "        ,\"エアロパーツ\":aero\n",
        "        ,\"3列シート\":seat_3\n",
        "        ,\"ウォークスルー\":walk\n",
        "        ,\"ローダウン\":low\n",
        "        ,\"福祉車両\":welfare\n",
        "        ,\"修復レベル\":repair_lv\n",
        "        ,\"保証フラグ\":is_gua\n",
        "        ,\"保証期間\":gua_span\n",
        "        ,\"保証距離\":gua_dist\n",
        "    }\n",
        "    \n",
        "    #ユーザに入力情報を表示する\n",
        "    global df_try\n",
        "    df_try = pd.DataFrame(d_try, index=['own'])\n",
        "    display(df_try)\n",
        "    \n",
        "    #入力したデータを予測に使えるように整形する\n",
        "    df_try['車名'] = LE_name.transform(df_try['車名'])\n",
        "    df_try['地域'] = LE_area.transform(df_try['地域'])\n",
        "    merge_preprocessing(df_try)\n",
        "    display(df_try)\n",
        "    \n",
        "    #予め保存しておいたモデルを読み込む\n",
        "    with open('Carmodel_xgb.pickle', mode='rb') as fp:\n",
        "        Carmodel_xgb = pickle.load(fp)\n",
        "    with open('Carmodel_lgb.pickle', mode='rb') as fp:\n",
        "        Carmodel_lgb = pickle.load(fp)\n",
        "\n",
        "    #種々のモデルにデータを入力して予測させる\n",
        "    pred_xgb = Carmodel_xgb.predict(xgb.DMatrix(df_try))\n",
        "    pred_lgb = Carmodel_lgb.predict(df_try)\n",
        "    \n",
        "    #平均をとる・加重平均をとる等の方法で最終的な予測値を決定する\n",
        "    pred_final = (pred_xgb + pred_lgb) / 2\n",
        "    \n",
        "    #体裁を整えて予測結果を出力する\n",
        "    print('あなたの車の売値相場は',pred_final,'万円です！')\n"
      ]
    },
    {
      "cell_type": "code",
      "execution_count": null,
      "id": "d4bcce8a",
      "metadata": {
        "scrolled": true,
        "id": "d4bcce8a"
      },
      "outputs": [],
      "source": [
        "kkkcom_prediction()"
      ]
    },
    {
      "cell_type": "code",
      "execution_count": null,
      "id": "fb89ad45",
      "metadata": {
        "id": "fb89ad45"
      },
      "outputs": [],
      "source": [
        "df[df['車名']==2805]"
      ]
    }
  ],
  "metadata": {
    "kernelspec": {
      "display_name": "Python 3",
      "language": "python",
      "name": "python3"
    },
    "language_info": {
      "codemirror_mode": {
        "name": "ipython",
        "version": 3
      },
      "file_extension": ".py",
      "mimetype": "text/x-python",
      "name": "python",
      "nbconvert_exporter": "python",
      "pygments_lexer": "ipython3",
      "version": "3.7.4"
    },
    "colab": {
      "name": "中古車価格予測AI(価格.com)_サービス作成(ローカル).ipynb",
      "provenance": [],
      "include_colab_link": true
    }
  },
  "nbformat": 4,
  "nbformat_minor": 5
}