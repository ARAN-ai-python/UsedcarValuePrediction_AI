{
  "cells": [
    {
      "cell_type": "markdown",
      "metadata": {
        "id": "view-in-github",
        "colab_type": "text"
      },
      "source": [
        "<a href=\"https://colab.research.google.com/github/ARAN1218/UsedcarValuePrediction_AI/blob/main/jupyter%20notebook/2.%E4%B8%AD%E5%8F%A4%E8%BB%8A%E4%BE%A1%E6%A0%BC%E4%BA%88%E6%B8%ACAI(%E4%BE%A1%E6%A0%BC_com)_%E3%83%87%E3%83%BC%E3%82%BF%E9%80%A3%E7%B5%90%E6%A4%9C%E8%A8%8E.ipynb\" target=\"_parent\"><img src=\"https://colab.research.google.com/assets/colab-badge.svg\" alt=\"Open In Colab\"/></a>"
      ]
    },
    {
      "cell_type": "code",
      "execution_count": null,
      "id": "012f09e1",
      "metadata": {
        "id": "012f09e1"
      },
      "outputs": [],
      "source": [
        "import numpy as np\n",
        "import pandas as pd\n",
        "\n",
        "pd.set_option('display.max_rows',10)\n",
        "\n",
        "file_name = \"Car_Bigdata/Car_{}.pickle\"\n",
        "display(pd.read_pickle(file_name.format(1)).head(10))"
      ]
    },
    {
      "cell_type": "code",
      "execution_count": null,
      "id": "24b00679",
      "metadata": {
        "id": "24b00679"
      },
      "outputs": [],
      "source": [
        "#試しに1と2を連結させてみる\n",
        "file_initial = pd.read_pickle(file_name.format(1))\n",
        "file_next = pd.read_pickle(file_name.format(2))\n",
        "\n",
        "file_combined = pd.concat([file_initial, file_next])\n",
        "display(file_combined.head(10))"
      ]
    },
    {
      "cell_type": "code",
      "execution_count": null,
      "id": "6dc45dae",
      "metadata": {
        "id": "6dc45dae"
      },
      "outputs": [],
      "source": [
        "#forループでファイル番号を回して、連続で連結させてみる。\n",
        "\n",
        "file_numbers = [i for i in range(2,18+1)]\n",
        "file_merged = pd.read_pickle(file_name.format(1))\n",
        "\n",
        "for file_number in file_numbers:\n",
        "    file_next = pd.read_pickle(file_name.format(file_number))\n",
        "    file_merged = pd.concat([file_merged, file_next])\n",
        "\n",
        "display(file_merged.head(10))"
      ]
    },
    {
      "cell_type": "code",
      "execution_count": null,
      "id": "eb3b9cd4",
      "metadata": {
        "id": "eb3b9cd4"
      },
      "outputs": [],
      "source": [
        "#関数にしてみる\n",
        "\n",
        "def file_merge(file_num_first=1, file_num_last=55):\n",
        "    #読み出すフォルダ/ファイルの型を宣言\n",
        "    file_name = \"Car_Bigdata/Car_{}.pickle\"\n",
        "    \n",
        "    #読み出すファイルが1つだけならそのまま一つだけ読み込んで返し、違うなら最初の都道府県だけ読み込ませておく\n",
        "    if(file_num_first != file_num_last):\n",
        "        file_merged = pd.read_pickle(file_name.format(file_num_first))\n",
        "    else:\n",
        "        return pd.read_pickle(file_name.format(file_num_first))\n",
        "    \n",
        "    #最初の都道府県の次の都道府県のデータを下に繋げていく\n",
        "    for file_num in range(file_num_first+1, file_num_last+1):\n",
        "        file_next = pd.read_pickle(file_name.format(file_num))\n",
        "        file_merged = pd.concat([file_merged, file_next])\n",
        "        \n",
        "    #file_merged.drop_duplicates(subset='ページ', inplace=True)\n",
        "    file_merged.reset_index(drop=True, inplace=True)\n",
        "    \n",
        "    return file_merged\n"
      ]
    },
    {
      "cell_type": "code",
      "execution_count": null,
      "id": "121ff14b",
      "metadata": {
        "id": "121ff14b"
      },
      "outputs": [],
      "source": [
        "file_test = file_merge()\n",
        "#display(file_test.head(10))\n",
        "#print(file_test['車名'][file_test['車名'].str.contains('長野ダイハツ販売')].value_counts())\n",
        "print(len(file_test))\n",
        "print(len(file_test['車名'].unique()))\n",
        "print(sorted(file_test['車名'].unique()))\n",
        "#もしかしたら一個ずつコースかもしれん"
      ]
    },
    {
      "cell_type": "code",
      "execution_count": null,
      "id": "d8dff13b",
      "metadata": {
        "id": "d8dff13b"
      },
      "outputs": [],
      "source": [
        "file_tests = file_test['車名'].map(lambda x : x.split()[1] if (' ' in x) else x)\n",
        "file_tests = file_tests.replace('衝突軽減ブレーキ', '')\n",
        "file_tests = file_tests.map(lambda x : x.rstrip(' '))\n",
        "print(file_tests[file_tests==''])\n",
        "print(file_tests.nunique())\n",
        "print(sorted(file_tests.unique()))"
      ]
    },
    {
      "cell_type": "code",
      "execution_count": null,
      "id": "d9944abd",
      "metadata": {
        "id": "d9944abd"
      },
      "outputs": [],
      "source": [
        "print(file_test['車名'][10477])\n",
        "b = file_test['車名'][10477]\n",
        "b = b.replace('衝突軽減ブレーキ', '')\n",
        "b = b.rstrip(' ')\n",
        "print(\"|\"+b+\"|\")\n",
        "#空欄になっている->除去が正常に完了した"
      ]
    },
    {
      "cell_type": "code",
      "execution_count": null,
      "id": "3fd930cc",
      "metadata": {
        "id": "3fd930cc"
      },
      "outputs": [],
      "source": [
        "a = \" abc \"\n",
        "a = a.rstrip(' ')\n",
        "print(\"|\"+a+\"|\")"
      ]
    },
    {
      "cell_type": "code",
      "execution_count": null,
      "id": "c7c20967",
      "metadata": {
        "id": "c7c20967"
      },
      "outputs": [],
      "source": [
        "#連結したファイルを保存する\n",
        "#file_test.to_pickle('Car_Bigdata_Merged.pickle')"
      ]
    },
    {
      "cell_type": "code",
      "execution_count": null,
      "id": "89aa53da",
      "metadata": {
        "id": "89aa53da"
      },
      "outputs": [],
      "source": [
        "#読み込んでみる\n",
        "pd.set_option('display.max_rows',10)\n",
        "display(pd.read_pickle('Car_Bigdata_Merged.pickle').head(10))"
      ]
    },
    {
      "cell_type": "code",
      "execution_count": null,
      "id": "f78299c3",
      "metadata": {
        "id": "f78299c3"
      },
      "outputs": [],
      "source": [
        "for name in file_test.columns:\n",
        "    print(file_test[name].value_counts())"
      ]
    },
    {
      "cell_type": "code",
      "execution_count": null,
      "id": "e4a83ab9",
      "metadata": {
        "id": "e4a83ab9"
      },
      "outputs": [],
      "source": [
        "#重複データを除いたver\n",
        "file_duplicated = file_test.drop_duplicates()\n",
        "print(len(file_duplicated))\n",
        "for name in file_duplicated.columns:\n",
        "    print(file_duplicated[name].value_counts())"
      ]
    },
    {
      "cell_type": "code",
      "execution_count": null,
      "id": "9257fc17",
      "metadata": {
        "id": "9257fc17"
      },
      "outputs": [],
      "source": [
        "file_duplicated[file_duplicated[\"ID車両(グー鑑定)\"] == \"\"]"
      ]
    },
    {
      "cell_type": "code",
      "execution_count": null,
      "id": "659405c0",
      "metadata": {
        "id": "659405c0"
      },
      "outputs": [],
      "source": [
        "#使用燃料が分からない車の殆どは安い車(=レギュラーやディーゼル)ではないのか\n",
        "#だったらnanでまとめても上手く機能するか\n",
        "file_duplicated[file_duplicated[\"使用燃料\"]==\"\"]['車名'].unique()"
      ]
    },
    {
      "cell_type": "code",
      "execution_count": null,
      "id": "fbe44b72",
      "metadata": {
        "id": "fbe44b72"
      },
      "outputs": [],
      "source": [
        "#試しに生データにおいて重複データを取り除いてみる\n",
        "\n",
        "print(len(file_test.drop_duplicates()))\n",
        "print(len(file_test))\n",
        "#これ結構データ被りあるのでは"
      ]
    },
    {
      "cell_type": "code",
      "execution_count": null,
      "id": "54c2bfc9",
      "metadata": {
        "id": "54c2bfc9"
      },
      "outputs": [],
      "source": [
        "#重複しているページを数える\n",
        "\n",
        "print((file_test[\"ページ\"].value_counts() == 2).sum())\n",
        "print(file_test[\"ページ\"].value_counts() == 2)\n",
        "#ページの重複は同じ車を参照しているだけに過ぎないので、削除安定か"
      ]
    },
    {
      "cell_type": "code",
      "execution_count": null,
      "id": "77036e42",
      "metadata": {
        "id": "77036e42"
      },
      "outputs": [],
      "source": [
        "#あるオプションが含まれているかどうかを数える\n",
        "\n",
        "print(len(file_test))\n",
        "print(file_test['オプション'].str.contains('エアコン').sum())"
      ]
    },
    {
      "cell_type": "code",
      "execution_count": null,
      "id": "5c78f78b",
      "metadata": {
        "id": "5c78f78b"
      },
      "outputs": [],
      "source": [
        "#モデルへの入力はinput関数を使ってやればアプリっぽくなるのではないか\n",
        "inputed = input(\"数字を入力してください->\")\n",
        "print(inputed)"
      ]
    },
    {
      "cell_type": "code",
      "execution_count": null,
      "id": "71992806",
      "metadata": {
        "id": "71992806"
      },
      "outputs": [],
      "source": [
        ""
      ]
    }
  ],
  "metadata": {
    "kernelspec": {
      "display_name": "Python 3",
      "language": "python",
      "name": "python3"
    },
    "language_info": {
      "codemirror_mode": {
        "name": "ipython",
        "version": 3
      },
      "file_extension": ".py",
      "mimetype": "text/x-python",
      "name": "python",
      "nbconvert_exporter": "python",
      "pygments_lexer": "ipython3",
      "version": "3.7.4"
    },
    "colab": {
      "name": "中古車価格予測AI(価格.com)_データ連結検討.ipynb",
      "provenance": [],
      "include_colab_link": true
    }
  },
  "nbformat": 4,
  "nbformat_minor": 5
}