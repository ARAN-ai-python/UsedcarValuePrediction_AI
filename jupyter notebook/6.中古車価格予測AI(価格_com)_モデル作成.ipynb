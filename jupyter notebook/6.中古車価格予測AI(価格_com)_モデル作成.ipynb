{
  "cells": [
    {
      "cell_type": "markdown",
      "metadata": {
        "id": "view-in-github",
        "colab_type": "text"
      },
      "source": [
        "<a href=\"https://colab.research.google.com/github/ARAN1218/UsedcarValuePrediction_AI/blob/main/jupyter%20notebook/6.%E4%B8%AD%E5%8F%A4%E8%BB%8A%E4%BE%A1%E6%A0%BC%E4%BA%88%E6%B8%ACAI(%E4%BE%A1%E6%A0%BC_com)_%E3%83%A2%E3%83%87%E3%83%AB%E4%BD%9C%E6%88%90.ipynb\" target=\"_parent\"><img src=\"https://colab.research.google.com/assets/colab-badge.svg\" alt=\"Open In Colab\"/></a>"
      ]
    },
    {
      "cell_type": "code",
      "execution_count": null,
      "id": "15d3556a",
      "metadata": {
        "id": "15d3556a"
      },
      "outputs": [],
      "source": [
        "%run ./UsedCar_functions.ipynb\n",
        "import_test()"
      ]
    },
    {
      "cell_type": "code",
      "execution_count": null,
      "id": "9d0fc692",
      "metadata": {
        "id": "9d0fc692"
      },
      "outputs": [],
      "source": [
        "import numpy as np\n",
        "import pandas as pd\n",
        "import re\n",
        "from pprint import pprint\n",
        "from time import sleep\n",
        "\n",
        "#pandasのデータフレームの行・列表示制限を解除\n",
        "pd.set_option('display.max_rows',None)\n",
        "pd.set_option('display.max_columns',None)\n",
        "\n",
        "#numpyの表示数制限を解除\n",
        "np.set_printoptions(threshold=np.inf)\n",
        "\n",
        "\n",
        "df = pd.read_pickle('Car_Bigdata_Merged.pickle').drop_duplicates()\n",
        "print(len(df))\n",
        "df.head(10)"
      ]
    },
    {
      "cell_type": "code",
      "execution_count": null,
      "id": "eddd1e64",
      "metadata": {
        "id": "eddd1e64"
      },
      "outputs": [],
      "source": [
        "kkkcom_preprocessing(df)\n",
        "print(len(df))\n",
        "df.head(1)"
      ]
    },
    {
      "cell_type": "markdown",
      "id": "48a9a61f",
      "metadata": {
        "id": "48a9a61f"
      },
      "source": [
        "#1000万円以上の車をデータから排除してみる\n",
        "#df = df[df['総額'] < 1000]\n",
        "index = df[df['総額'] > 1000].index\n",
        "df_e = df.copy()\n",
        "df_e.drop(index, inplace=True)\n",
        "print(len(df.drop(index)))\n",
        "print(len(df_e))\n",
        "#死ぬほど精度が改善された"
      ]
    },
    {
      "cell_type": "code",
      "execution_count": null,
      "id": "0b13776b",
      "metadata": {
        "id": "0b13776b"
      },
      "outputs": [],
      "source": [
        "#教師データとテストデータに分ける\n",
        "from sklearn.model_selection import train_test_split\n",
        "\n",
        "df_l,df_t = train_test_split(df,test_size=0.20,random_state=71,shuffle=True)\n",
        "print(len(df_l), len(df_t))"
      ]
    },
    {
      "cell_type": "code",
      "execution_count": null,
      "id": "0152f161",
      "metadata": {
        "id": "0152f161"
      },
      "outputs": [],
      "source": [
        "#ラベルエンコーダーの存在を確認\n",
        "print(len(LE_area.classes_))\n",
        "print(len(LE_name.classes_))"
      ]
    },
    {
      "cell_type": "code",
      "execution_count": null,
      "id": "a85e772e",
      "metadata": {
        "id": "a85e772e"
      },
      "outputs": [],
      "source": [
        "#ラベルエンコーダーの要素をpickleファイルで保存\n",
        "import pickle\n",
        "#with open('Car_LE_area.pickle', mode='wb') as fp:\n",
        "    #pickle.dump(LE_area, fp)\n",
        "#with open('Car_LE_name.pickle', mode='wb') as fp:\n",
        "    #pickle.dump(LE_name, fp)"
      ]
    },
    {
      "cell_type": "code",
      "execution_count": null,
      "id": "e376a04b",
      "metadata": {
        "id": "e376a04b"
      },
      "outputs": [],
      "source": [
        "#取り出しテスト\n",
        "with open('Car_LE_area.pickle', mode='rb') as fp:\n",
        "    LE_a = pickle.load(fp)\n",
        "print(LE_a.classes_)"
      ]
    },
    {
      "cell_type": "code",
      "execution_count": null,
      "id": "a030f7de",
      "metadata": {
        "id": "a030f7de"
      },
      "outputs": [],
      "source": [
        "#説明変数の相関関係を見てみる\n",
        "import matplotlib.pyplot as plt\n",
        "%matplotlib inline\n",
        "import japanize_matplotlib\n",
        "import seaborn as sns\n",
        "\n",
        "plt.figure(figsize=(40, 40))\n",
        "plt.rcParams[\"font.size\"] = 12\n",
        "sns.heatmap(df.corr(), annot=True, fmt='.2f')\n",
        "#全長・全幅・全高・重量は全て足す、もしくは消してもいいかも\n",
        "#車台番号も消す\n",
        "\n",
        "#エアコン　＋　パワーステアリング　＋　エアバッグ　＋　パワーウィンドウ　＋　キーレスエントリー　＋　ABS　＋　保証フラグ\n",
        "#CDデッキ　＋　カーナビ　＋　テレビ　＋　ETC\n",
        "#パワーシート　＋　本革シート　＋　サンルーフ\n",
        "#3列シート　＋　ウォークスルー　＋　両側スライドドア両側電動"
      ]
    },
    {
      "cell_type": "markdown",
      "id": "bc2822a9",
      "metadata": {
        "id": "bc2822a9"
      },
      "source": [
        "#任意データを扱う際の特徴量の調整\n",
        "\n",
        "df_erace = df.copy()\n",
        "\n",
        "eraces = [\n",
        "    '全長'\n",
        "    ,'全幅'\n",
        "    ,'全高'\n",
        "    ,'車両重量'\n",
        "    ,'車台番号'\n",
        "    ,'内装'\n",
        "    ,'外装'\n",
        "    ,'鑑定日'\n",
        "    ,'リサイクル料'\n",
        "    ,'整備フラグ'\n",
        "    ,'整備費'\n",
        "]\n",
        "\n",
        "for erace in eraces:\n",
        "    del df_erace[erace]\n",
        "df_erace.head(1)"
      ]
    },
    {
      "cell_type": "code",
      "execution_count": null,
      "id": "dc0e7d3a",
      "metadata": {
        "id": "dc0e7d3a"
      },
      "outputs": [],
      "source": [
        "dfdf = pd.concat([df_l, df_t])\n",
        "print(len(dfdf[dfdf['総額'] > 1000]))\n",
        "print(len(dfdf[dfdf['総額'] > 900]))\n",
        "print(len(dfdf[dfdf['総額'] > 800]))\n",
        "print(len(dfdf[dfdf['総額'] > 700]))\n",
        "print(len(dfdf[dfdf['総額'] > 600]))\n",
        "print(len(dfdf[dfdf['総額'] > 500]))\n",
        "print(len(dfdf[dfdf['総額'] > 400]))\n",
        "print(len(dfdf[dfdf['総額'] > 300]))\n",
        "print(len(dfdf[dfdf['総額'] > 200]))\n",
        "print(len(dfdf[dfdf['総額'] > 100]))\n",
        "print(len(dfdf))"
      ]
    },
    {
      "cell_type": "code",
      "execution_count": null,
      "id": "d5b0ee4d",
      "metadata": {
        "id": "d5b0ee4d"
      },
      "outputs": [],
      "source": [
        "#XGBOOST\n",
        "import xgboost as xgb\n",
        "from sklearn.metrics import mean_absolute_error\n",
        "from sklearn.metrics import mean_squared_error\n",
        "\n",
        "train = df_l.drop(['総額'], axis=1)\n",
        "target = df_l['総額']\n",
        "test_x = df_t.drop(['総額'], axis=1)\n",
        "test_y = df_t['総額']\n",
        "tr_x,va_x,tr_y,va_y = train_test_split(train, target, test_size=0.20, random_state=71, shuffle=True)\n",
        "print(tr_x.shape, va_x.shape, tr_y.shape, va_y.shape)\n",
        "\n",
        "dtrain = xgb.DMatrix(tr_x,label=tr_y)\n",
        "dvalid = xgb.DMatrix(va_x,label=va_y)\n",
        "dtest = xgb.DMatrix(test_x)\n",
        "\n",
        "num_round = 10000\n",
        "early_stopping_rounds = 250\n",
        "params = {\n",
        "    'objective':'reg:squarederror'\n",
        "    ,'silent':1\n",
        "    ,'random_state':71\n",
        "}\n",
        "watchlist = [(dtrain,'train'),(dvalid,'eval')]\n",
        "model_xgb = xgb.train(params_xgb\n",
        "                      ,dtrain\n",
        "                      ,num_round\n",
        "                      ,early_stopping_rounds=early_stopping_rounds\n",
        "                      ,evals=watchlist\n",
        "                     )\n",
        "pred = model_xgb.predict(dtest)\n",
        "\n",
        "display(pd.DataFrame({'総額':test_y, '予測値':pred}))\n",
        "print('MAE:',mean_absolute_error(test_y,pred))\n",
        "print('MSE:',mean_squared_error(test_y,pred))\n",
        "print('RMSE:',np.sqrt(mean_squared_error(test_y,pred)))"
      ]
    },
    {
      "cell_type": "markdown",
      "id": "66740531",
      "metadata": {
        "id": "66740531"
      },
      "source": [
        "MAE: 13.188769603035603\n",
        "MSE: 704.4652900557686\n",
        "RMSE: 26.541765013950535"
      ]
    },
    {
      "cell_type": "code",
      "execution_count": null,
      "id": "328ce139",
      "metadata": {
        "scrolled": true,
        "id": "328ce139"
      },
      "outputs": [],
      "source": [
        "#クロスバリデーションでモデル評価\n",
        "import xgboost as xgb\n",
        "from sklearn.model_selection import KFold\n",
        "from sklearn.metrics import mean_absolute_error\n",
        "from sklearn.metrics import mean_squared_error\n",
        "\n",
        "train = df_l.drop(['総額'], axis=1)\n",
        "target = df_l['総額']\n",
        "test_x = df_t.drop(['総額'], axis=1)\n",
        "test_y = df_t['総額']\n",
        "\n",
        "mae_final = []\n",
        "rmse_final = []\n",
        "\n",
        "for choice in [0.04]:\n",
        "    score = 0\n",
        "    mae_scores = []\n",
        "    rmse_scores = []\n",
        "    n_splits = 4\n",
        "\n",
        "    kf = KFold(n_splits=n_splits, shuffle=True, random_state=71)\n",
        "    for tr_idx, va_idx in kf.split(train):\n",
        "        tr_x, va_x = train.iloc[tr_idx], train.iloc[va_idx]\n",
        "        tr_y, va_y = target.iloc[tr_idx], target.iloc[va_idx]\n",
        "\n",
        "        dtrain = xgb.DMatrix(tr_x, label=tr_y)\n",
        "        dvalid = xgb.DMatrix(va_x, label=va_y)\n",
        "\n",
        "        num_round = 10000\n",
        "        early_stopping_rounds= 10 / choice\n",
        "        params_xgb = {\n",
        "            'objective':'reg:squarederror'\n",
        "            ,'max_depth':7\n",
        "            ,'min_child_weight':1\n",
        "            ,'colsample_bytree':0.6\n",
        "            ,'colsample_bylevel':0.9\n",
        "            ,'subsample':1.0\n",
        "            ,'gamma':0.7\n",
        "            ,'eta':choice\n",
        "            ,'random_state':71\n",
        "        }\n",
        "        watchlist = [(dtrain,'train'),(dvalid,'eval')]\n",
        "        model_xgb_cv = xgb.train(params_xgb\n",
        "                              ,dtrain\n",
        "                              ,num_round\n",
        "                              ,early_stopping_rounds=early_stopping_rounds\n",
        "                              ,evals=watchlist\n",
        "                             )\n",
        "\n",
        "        mae_scores.append(mean_absolute_error(va_y, model_xgb_cv.predict(dvalid)))\n",
        "        rmse_scores.append(np.sqrt(mean_squared_error(va_y, model_xgb_cv.predict(dvalid))))\n",
        "\n",
        "\n",
        "    #print('mae_scores:', np.mean(mae_scores))\n",
        "    #print('rsme_mean_score:', np.mean(rmse_scores))\n",
        "    mae_final.append(np.mean(mae_scores))\n",
        "    rmse_final.append(np.mean(rmse_scores))\n",
        "    \n",
        "    \n",
        "print('mae:',mae_final)\n",
        "print('rmse:',rmse_final)\n"
      ]
    },
    {
      "cell_type": "code",
      "execution_count": null,
      "id": "628d6e6c",
      "metadata": {
        "id": "628d6e6c"
      },
      "outputs": [],
      "source": [
        "[i/10 for i in range(1, 5, 1)]"
      ]
    },
    {
      "cell_type": "markdown",
      "id": "7f9d5e96",
      "metadata": {
        "id": "7f9d5e96"
      },
      "source": [
        "1:max_depth=11  \n",
        "mae_scores: 13.90052226444734\n",
        "rsme_mean_score: 29.11761931911799\n",
        "\n",
        "2:max_depth=12  \n",
        "mae_scores: 13.986222617038937\n",
        "rsme_mean_score: 29.81873635572923\n",
        "\n",
        "3:max_depth=10  \n",
        "mae_scores: 13.84769351934502\n",
        "rsme_mean_score: 28.89949069213789\n",
        "\n",
        "4:max_depth=9  \n",
        "mae_scores: 13.726994562852473\n",
        "rsme_mean_score: 28.616398550169905\n",
        "\n",
        "5:max_depth=8  \n",
        "mae_scores: 13.704141782676208\n",
        "rsme_mean_score: 28.10427173419359\n",
        "\n",
        "6:max_depth=7  \n",
        "mae_scores: 13.724626269824387\n",
        "rsme_mean_score: 27.947585963704896\n",
        "\n",
        "best_max_depth = 7"
      ]
    },
    {
      "cell_type": "markdown",
      "id": "111a4925",
      "metadata": {
        "id": "111a4925"
      },
      "source": [
        "mcw  \n",
        "1\n",
        "mae_scores: 13.724626269824387\n",
        "rsme_mean_score: 27.947585963704896\n",
        "\n",
        "2\n",
        "mae_scores: 13.73181773923687\n",
        "rsme_mean_score: 27.97679259660446\n",
        "\n",
        "3  \n",
        "mae_scores: 13.842130482613534\n",
        "rsme_mean_score: 28.31382503828325\n",
        "\n",
        "4  \n",
        "mae_scores: 13.833118414156235\n",
        "rsme_mean_score: 28.169220158876485\n",
        "\n",
        "5  \n",
        "mae_scores: 13.855032887814776\n",
        "rsme_mean_score: 28.02544441242168\n",
        "\n",
        "0  \n",
        "mae_scores: 13.724626269824387\n",
        "rsme_mean_score: 27.947585963704896\n",
        "\n",
        "best_mcw = 1"
      ]
    },
    {
      "cell_type": "markdown",
      "id": "a8520677",
      "metadata": {
        "id": "a8520677"
      },
      "source": [
        "bytree  \n",
        "0.5  \n",
        "mae: 13.89422047589046\n",
        "rmse: 27.91681662554806\n",
        "\n",
        "0.6  \n",
        "mae_scores: 13.560807028324092\n",
        "rsme_mean_score: 27.704014078379934\n",
        "\n",
        "0.7  \n",
        "mae_scores: 13.533897310546003\n",
        "rsme_mean_score: 27.870886392046696\n",
        "\n",
        "0.8  \n",
        "13.619656501227743\n",
        "28.006358153286076\n",
        "\n",
        "0.9  \n",
        "13.744821258608017\n",
        "28.064578084316974\n",
        "\n",
        "best bytree = 0.6"
      ]
    },
    {
      "cell_type": "markdown",
      "id": "f50ea685",
      "metadata": {
        "id": "f50ea685"
      },
      "source": [
        "bylevel  \n",
        "0.6\n",
        "27.998994508520113\n",
        "\n",
        "0.7\n",
        "27.730962055702705\n",
        "\n",
        "0.8\n",
        "27.57552498446637\n",
        "\n",
        "0.9\n",
        "27.423643009609695\n",
        "\n",
        "1.0  \n",
        "13.560807028324092\n",
        "27.704014078379934\n",
        "\n",
        "best bylevel = 0.9"
      ]
    },
    {
      "cell_type": "markdown",
      "id": "3356993b",
      "metadata": {
        "id": "3356993b"
      },
      "source": [
        "subsample  \n",
        "0.6\n",
        "29.89845403131721\n",
        "\n",
        "0.7\n",
        "29.432146411441273\n",
        "\n",
        "0.8\n",
        "28.9629208455904\n",
        "\n",
        "0.9\n",
        "28.25420103296127\n",
        "\n",
        "1.0\n",
        "27.423643009609695\n",
        "\n",
        "1.1  \n",
        "27.423643009609695\n",
        "\n",
        "best subsample = 1.0"
      ]
    },
    {
      "cell_type": "markdown",
      "id": "a58b05f5",
      "metadata": {
        "id": "a58b05f5"
      },
      "source": [
        "gamma  \n",
        "0  \n",
        "13.561457520835786\n",
        "\n",
        "0.05  \n",
        "27.558314000272397\n",
        "\n",
        "0.1  \n",
        "27.497965077503135\n",
        "\n",
        "0.2  \n",
        "27.545711806992568\n",
        "\n",
        "0.3  \n",
        "27.5369030902494\n",
        "\n",
        "0.4  \n",
        "27.518063687575818\n",
        "\n",
        "0.5  \n",
        "27.489749907827374\n",
        "\n",
        "0.6  \n",
        "27.554992213544526\n",
        "\n",
        "0.7  \n",
        "27.43563970897009\n",
        "\n",
        "0.8  \n",
        "27.55549706965453\n",
        "\n",
        "0.9  \n",
        "27.486652752597106\n",
        "\n",
        "best gamma = 0.7"
      ]
    },
    {
      "cell_type": "markdown",
      "id": "f0221fd3",
      "metadata": {
        "id": "f0221fd3"
      },
      "source": [
        "eta  \n",
        "0.08  \n",
        "25.640303999652186\n",
        "\n",
        "0.06  \n",
        "25.527947230585553\n",
        "\n",
        "0.04  \n",
        "25.438190605564394\n",
        "\n",
        "best eta = 0.04"
      ]
    },
    {
      "cell_type": "code",
      "execution_count": null,
      "id": "d88ad292",
      "metadata": {
        "id": "d88ad292"
      },
      "outputs": [],
      "source": [
        "10/0.04"
      ]
    },
    {
      "cell_type": "code",
      "execution_count": null,
      "id": "1972b1d1",
      "metadata": {
        "id": "1972b1d1"
      },
      "outputs": [],
      "source": [
        "num_round = 10000\n",
        "early_stopping_rounds= 250\n",
        "params_xgb = {\n",
        "            'objective':'reg:squarederror'\n",
        "            ,'max_depth':7\n",
        "            ,'min_child_weight':1\n",
        "            ,'colsample_bytree':0.6\n",
        "            ,'colsample_bylevel':0.9\n",
        "            ,'subsample':1.0\n",
        "            ,'gamma':0.7\n",
        "            ,'eta':0.04\n",
        "            ,'random_state':71\n",
        "        }"
      ]
    },
    {
      "cell_type": "markdown",
      "id": "614e66c5",
      "metadata": {
        "id": "614e66c5"
      },
      "source": [
        "チューニング前：  \n",
        "MAE: 13.048171154501699  \n",
        "MSE: 680.3767685237565  \n",
        "RMSE: 26.084032827071745  \n",
        "\n",
        "チューニング後：  \n",
        "MAE: 13.177211887619478  \n",
        "MSE: 689.2265611579014  \n",
        "RMSE: 26.253124788449497"
      ]
    },
    {
      "cell_type": "code",
      "execution_count": null,
      "id": "50fc6f17",
      "metadata": {
        "id": "50fc6f17"
      },
      "outputs": [],
      "source": [
        "#サービス用のモデルを作成\n",
        "\n",
        "import pickle\n",
        "#with open('Carmodel_xgb.pickle', mode='wb') as fp:\n",
        "    #pickle.dump(model_xgb, fp)"
      ]
    },
    {
      "cell_type": "code",
      "execution_count": null,
      "id": "990e5117",
      "metadata": {
        "id": "990e5117"
      },
      "outputs": [],
      "source": [
        "with open('Carmodel_xgb.pickle', mode='rb') as fp:\n",
        "    model = pickle.load(fp)\n",
        "    \n",
        "model.predict(xgb.DMatrix(test_x))"
      ]
    },
    {
      "cell_type": "code",
      "execution_count": null,
      "id": "9a4fedb3",
      "metadata": {
        "scrolled": true,
        "id": "9a4fedb3"
      },
      "outputs": [],
      "source": [
        "#ハイパーパラメータチューニング\n",
        "import optuna\n",
        "from sklearn.model_selection import KFold\n",
        "from sklearn.metrics import mean_absolute_error\n",
        "from sklearn.metrics import mean_squared_error\n",
        "\n",
        "def opt_xgb(trial):\n",
        "    params = {\n",
        "        'objective':'reg:squarederror'\n",
        "        #,'n_estimators':trial.suggest_int('n_estimators', 0, 1000)\n",
        "        ,'max_depth':trial.suggest_int('max_depth', 3, 9)\n",
        "        ,'min_child_weight':trial.suggest_int('min_child_weight', 1, 5)\n",
        "        ,'subsample':trial.suggest_discrete_uniform('subsample', 0.6, 1.0, 0.1)\n",
        "        ,'colsample_bytree':trial.suggest_discrete_uniform('colsample_bytree', 0.6, 1.0, 0.1)\n",
        "        ,'colsample_bylevel':trial.suggest_discrete_uniform('colsample_bylevel', 0.6, 1.0, 0.1)\n",
        "        ,'gamma':trial.suggest_loguniform('gamma', 0.0, 4.0)\n",
        "        ,'random_state':71\n",
        "    }\n",
        "    \n",
        "    num_round = 20\n",
        "    early_stopping_rounds=20\n",
        "    scores = []\n",
        "    \n",
        "    kf = KFold(n_splits=4, shuffle=True, random_state=71)\n",
        "    for tr_idx, va_idx in kf.split(train):\n",
        "        tr_x, va_x = train.iloc[tr_idx], train.iloc[va_idx]\n",
        "        tr_y, va_y = target.iloc[tr_idx], target.iloc[va_idx]\n",
        "        dtrain = xgb.DMatrix(tr_x, label=tr_y)\n",
        "        dvalid = xgb.DMatrix(va_x, label=va_y)\n",
        "        \n",
        "        watchlist = [(dtrain,'train'),(dvalid,'eval')]\n",
        "        xgb_tuna = xgb.train(params\n",
        "                             ,dtrain\n",
        "                             ,num_round\n",
        "                             ,early_stopping_rounds=early_stopping_rounds\n",
        "                             ,evals=watchlist\n",
        "                            )\n",
        "        pred_tuna = xgb_tuna.predict(dvalid)\n",
        "        score = np.sqrt(mean_squared_error(list(va_y), pred_tuna))\n",
        "        scores.append(score)\n",
        "        \n",
        "    return np.mean(scores)\n",
        "\n",
        "study = optuna.create_study()\n",
        "study.optimize(opt_xgb\n",
        "               ,n_trials=100\n",
        "               #,timeout=300\n",
        "              )\n",
        "\n",
        "print(study.best_params,'\\n','\\n')\n",
        "print(study.best_value,'\\n','\\n')\n",
        "print(study.best_trial,'\\n','\\n')"
      ]
    },
    {
      "cell_type": "code",
      "execution_count": null,
      "id": "37bedf99",
      "metadata": {
        "id": "37bedf99"
      },
      "outputs": [],
      "source": [
        "#XGBOOST(パラメータチューニング後テスト)\n",
        "import xgboost as xgb\n",
        "from sklearn.metrics import mean_absolute_error\n",
        "from sklearn.metrics import mean_squared_error\n",
        "\n",
        "train = df_l.drop(['総額'], axis=1)\n",
        "target = df_l['総額']\n",
        "test_x = df_t.drop(['総額'], axis=1)\n",
        "test_y = df_t['総額']\n",
        "tr_x,va_x,tr_y,va_y = train_test_split(train, target, test_size=0.20, random_state=71, shuffle=True)\n",
        "print(tr_x.shape, va_x.shape, tr_y.shape, va_y.shape)\n",
        "\n",
        "dtrain = xgb.DMatrix(tr_x,label=tr_y)\n",
        "dvalid = xgb.DMatrix(va_x,label=va_y)\n",
        "dtest = xgb.DMatrix(test_x)\n",
        "\n",
        "num_round = 1000\n",
        "early_stopping_rounds=20\n",
        "watchlist = [(dtrain,'train'),(dvalid,'eval')]\n",
        "model_xgb = xgb.train(params_xgb\n",
        "                      ,dtrain\n",
        "                      ,num_round\n",
        "                      ,early_stopping_rounds=early_stopping_rounds\n",
        "                      ,evals=watchlist\n",
        "                     )\n",
        "pred = model_xgb.predict(dtest)\n",
        "\n",
        "display(pd.DataFrame({'総額':test_y, '予測値':pred}))\n",
        "print('MAE:',mean_absolute_error(test_y,pred))\n",
        "print('MSE:',mean_squared_error(test_y,pred))\n",
        "print('RMSE:',np.sqrt(mean_squared_error(test_y,pred)))"
      ]
    },
    {
      "cell_type": "code",
      "execution_count": null,
      "id": "79abd85f",
      "metadata": {
        "id": "79abd85f"
      },
      "outputs": [],
      "source": [
        "#LIGHTGBM\n",
        "import lightgbm as lgb\n",
        "from sklearn.metrics import mean_absolute_error\n",
        "from sklearn.metrics import mean_squared_error\n",
        "\n",
        "train = df_l.drop(['総額'], axis=1)\n",
        "target = df_l['総額']\n",
        "test_x = df_t.drop(['総額'], axis=1)\n",
        "test_y = df_t['総額']\n",
        "tr_x,va_x,tr_y,va_y = train_test_split(train, target, test_size=0.20, random_state=71, shuffle=True)\n",
        "\n",
        "ltrain = lgb.Dataset(tr_x,tr_y)\n",
        "lvalid = lgb.Dataset(va_x,va_y)\n",
        "#ltest = lgb.Dataset(test_x) 予測をする際はDataset型にしていないデータを用いる\n",
        "\n",
        "#パラメータ準備\n",
        "params = {'objective':'regression'\n",
        "          ,'metrics':'rmse'\n",
        "          ,'silent':1\n",
        "          ,'random_state':71\n",
        "         }\n",
        "\n",
        "#lgb_best_params = study_lgb.best_params\n",
        "#lgb_best_params['objective'] = 'regression'\n",
        "#lgb_best_params['metrics'] = 'rmse'\n",
        "#print(best_params)\n",
        "\n",
        "num_round = 10000\n",
        "early_stopping_rounds = 125\n",
        "\n",
        "#LIGHTGBMモデルに機械学習\n",
        "model_lgb = lgb.train(params_lgb\n",
        "                      ,ltrain\n",
        "                      ,num_boost_round=num_round\n",
        "                      ,early_stopping_rounds=early_stopping_rounds\n",
        "                      ,valid_names=['train','valid']\n",
        "                      ,valid_sets=[ltrain,lvalid]\n",
        "                     )\n",
        "pred = model_lgb.predict(test_x) #データを変換せず、そのまま用いる\n",
        "\n",
        "display(pd.DataFrame({'総額':test_y, '予測値':pred}))\n",
        "print('MAE:',mean_absolute_error(test_y,pred))\n",
        "print('MSE:',mean_squared_error(test_y,pred))\n",
        "print('RMSE:',np.sqrt(mean_squared_error(test_y,pred)))"
      ]
    },
    {
      "cell_type": "code",
      "execution_count": null,
      "id": "49a567f5",
      "metadata": {
        "id": "49a567f5"
      },
      "outputs": [],
      "source": [
        "#サービス用のモデルを作成\n",
        "\n",
        "import pickle\n",
        "#with open('Carmodel_lgb.pickle', mode='wb') as fp:\n",
        "    #pickle.dump(model_lgb, fp)"
      ]
    },
    {
      "cell_type": "code",
      "execution_count": null,
      "id": "c5996b82",
      "metadata": {
        "id": "c5996b82"
      },
      "outputs": [],
      "source": [
        "with open('Carmodel_lgb.pickle', mode='rb') as fp:\n",
        "    model = pickle.load(fp)\n",
        "    \n",
        "model.predict(test_x)"
      ]
    },
    {
      "cell_type": "code",
      "execution_count": null,
      "id": "1b843b1f",
      "metadata": {
        "id": "1b843b1f"
      },
      "outputs": [],
      "source": [
        "#クロスバリデーションでモデル評価\n",
        "import lightgbm as lgb\n",
        "from sklearn.model_selection import KFold\n",
        "from sklearn.metrics import mean_squared_error\n",
        "\n",
        "train = df_l.drop(['総額'], axis=1)\n",
        "target = df_l['総額']\n",
        "test_x = df_t.drop(['総額'], axis=1)\n",
        "test_y = df_t['総額']\n",
        "\n",
        "score = []\n",
        "scores = []\n",
        "n_splits = 4\n",
        "\n",
        "kf = KFold(n_splits=n_splits, shuffle=True, random_state=71)\n",
        "for tr_idx, va_idx in kf.split(train):\n",
        "    tr_x, va_x = train.iloc[tr_idx], train.iloc[va_idx]\n",
        "    tr_y, va_y = target.iloc[tr_idx], target.iloc[va_idx]\n",
        "    \n",
        "    ltrain = lgb.Dataset(tr_x, tr_y)\n",
        "    lvalid = lgb.Dataset(va_x, va_y)\n",
        "    \n",
        "    num_round = 10000\n",
        "    early_stopping_rounds = 10 / 0.08\n",
        "    params_lgb = {\n",
        "        'objective':'regression'\n",
        "        ,'metrics':'rmse'\n",
        "        ,'num_leaves':25\n",
        "        ,'max_depth':8\n",
        "        ,'min_data_in_leaf':10\n",
        "        ,'bagging_fraction':0.9\n",
        "        ,'bagging_freq':0\n",
        "        ,'feature_fraction':0.9\n",
        "        ,'learning_rate':0.08\n",
        "        ,'random_state':71\n",
        "    }\n",
        "    model_lgb_cv = lgb.train(params_lgb\n",
        "                          ,ltrain\n",
        "                          ,num_boost_round=num_round\n",
        "                          ,early_stopping_rounds=early_stopping_rounds\n",
        "                          ,valid_names=['train','valid']\n",
        "                          ,valid_sets=[ltrain,lvalid]\n",
        "                         )\n",
        "    \n",
        "    score.append(model_lgb_cv.predict(va_x))\n",
        "    scores.append(np.sqrt(mean_squared_error(va_y, model_lgb_cv.predict(va_x))))\n",
        "    \n",
        "print('rsme_scores:', scores)\n",
        "print('rsme_mean_score:', np.mean(scores))\n"
      ]
    },
    {
      "cell_type": "markdown",
      "id": "d62b8c27",
      "metadata": {
        "id": "d62b8c27"
      },
      "source": [
        "0.05  \n",
        "27.090037035141165\n",
        "\n",
        "0.06  \n",
        "27.123245831268306\n",
        "\n",
        "0.07  \n",
        "27.158117678019327\n",
        "\n",
        "0.08  \n",
        "27.070208352531992\n",
        "\n",
        "0.09  \n",
        "27.182676215866678\n",
        "\n",
        "0.10  \n",
        "27.157925769898576\n",
        "\n",
        "0.12  \n",
        "27.62\n"
      ]
    },
    {
      "cell_type": "markdown",
      "id": "5065e85f",
      "metadata": {
        "id": "5065e85f"
      },
      "source": [
        "4:num_leaves=31  \n",
        "27.78884515490398\n",
        "\n",
        "5:num_leaves=62  \n",
        "27.811835567021962\n",
        "\n",
        "6:num_leaves=16  \n",
        "27.828023152686583\n",
        "\n",
        "7:num_leaves=40  \n",
        "27.809208495462922\n",
        "\n",
        "8:num_leaves=32  \n",
        "27.836055870397185\n",
        "\n",
        "9:num_leaves=20  \n",
        "27.91773047773696\n",
        "\n",
        "10:num_leaves=25  \n",
        "27.672723287195247-----\n",
        "\n",
        "10:num_leaves=26  \n",
        "27.849112368035268\n",
        "\n",
        "11:num_leaves=24  \n",
        "27.718650785083128\n",
        "\n",
        "10:num_leaves=22  \n",
        "27.796811594915834\n",
        "\n",
        "10:num_leaves=  \n",
        "\n",
        "best_num_leaves = 25"
      ]
    },
    {
      "cell_type": "markdown",
      "id": "c268802a",
      "metadata": {
        "id": "c268802a"
      },
      "source": [
        "1:max_depth=3  \n",
        "29.476478231223872\n",
        "\n",
        "5  \n",
        "29.476478231223872\n",
        "\n",
        "7  \n",
        "27.893220457229365\n",
        "\n",
        "9  \n",
        "27.98911154968422\n",
        "\n",
        "6  \n",
        "27.927626317533264\n",
        "\n",
        "8  \n",
        "27.786565845030943\n",
        "\n",
        "10  \n",
        "27.954221727185917\n",
        "\n",
        "best_max_depth = 8"
      ]
    },
    {
      "cell_type": "markdown",
      "id": "f542044f",
      "metadata": {
        "id": "f542044f"
      },
      "source": [
        "mdil = 10  \n",
        "27.507173369572342\n",
        "\n",
        "9  \n",
        "27.814311218017103\n",
        "\n",
        "11  \n",
        "27.59084952278239\n",
        "\n",
        "7  \n",
        "27.568238179352225\n",
        "\n",
        "best_mdil = 10"
      ]
    },
    {
      "cell_type": "markdown",
      "id": "3f8b2d10",
      "metadata": {
        "id": "3f8b2d10"
      },
      "source": [
        "b_fraction  \n",
        "0.8  \n",
        "27.507173369572342\n",
        "\n",
        "0.9  \n",
        "27.507173369572342\n",
        "\n",
        "1.0  \n",
        "27.507173369572342\n",
        "\n",
        "best_b_fraction = 0.9"
      ]
    },
    {
      "cell_type": "markdown",
      "id": "05473ec8",
      "metadata": {
        "id": "05473ec8"
      },
      "source": [
        "b_freq  \n",
        "1\n",
        "27.51878378307451\n",
        "\n",
        "2  \n",
        "27.73655470038359\n",
        "\n",
        "0  \n",
        "27.507173369572342\n",
        "\n",
        "best b_freq = 0"
      ]
    },
    {
      "cell_type": "markdown",
      "id": "258ea121",
      "metadata": {
        "id": "258ea121"
      },
      "source": [
        "ff  \n",
        "0.9\n",
        "27.25832808145858\n",
        "\n",
        "1.0  \n",
        "27.507173369572342\n",
        "\n",
        "0.8  \n",
        "27.310305373290937\n",
        "\n",
        "0.85  \n",
        "27.2862571991923\n",
        "\n",
        "0.88  \n",
        "27.49740756827952\n",
        "\n",
        "0.93  \n",
        "27.409478038549107\n",
        "\n",
        "best ff = 0.9"
      ]
    },
    {
      "cell_type": "markdown",
      "id": "9f0c18d8",
      "metadata": {
        "id": "9f0c18d8"
      },
      "source": [
        "best_score = 27.25832808145858"
      ]
    },
    {
      "cell_type": "markdown",
      "id": "09979d58",
      "metadata": {
        "id": "09979d58"
      },
      "source": [
        "best e_rate = 0.08"
      ]
    },
    {
      "cell_type": "code",
      "execution_count": null,
      "id": "234f60a3",
      "metadata": {
        "id": "234f60a3"
      },
      "outputs": [],
      "source": [
        "num_round = 10000\n",
        "early_stopping_rounds = 125\n",
        "params_lgb = {\n",
        "        'objective':'regression'\n",
        "        ,'metrics':'rmse'\n",
        "        ,'num_leaves':25\n",
        "        ,'learning_rate':0.08\n",
        "        ,'max_depth':8\n",
        "        ,'min_data_in_leaf':10\n",
        "        ,'bagging_fraction':0.9\n",
        "        ,'bagging_freq':0\n",
        "        ,'feature_fraction':0.9\n",
        "        ,'random_state':71\n",
        "    }"
      ]
    },
    {
      "cell_type": "markdown",
      "id": "9e450aec",
      "metadata": {
        "id": "9e450aec"
      },
      "source": [
        "チューニング前：27.298125526697884  \n",
        "チューニング後：26.365860771466078"
      ]
    },
    {
      "cell_type": "code",
      "execution_count": null,
      "id": "f66ba418",
      "metadata": {
        "scrolled": true,
        "id": "f66ba418"
      },
      "outputs": [],
      "source": [
        "#ハイパーパラメータチューニング\n",
        "import optuna\n",
        "import lightgbm as lgb\n",
        "from sklearn.model_selection import KFold\n",
        "from sklearn.metrics import mean_absolute_error\n",
        "from sklearn.metrics import mean_squared_error\n",
        "\n",
        "def opt_lgb(trial):\n",
        "    params = {\n",
        "        'objective':'regression',\n",
        "        'metrics':'rmse',\n",
        "        'lambda_l1': trial.suggest_loguniform('lambda_l1', 1e-8, 10.0),\n",
        "        'lambda_l2': trial.suggest_loguniform('lambda_l2', 1e-8, 10.0),\n",
        "        'num_leaves': trial.suggest_int('num_leaves', 2, 256),\n",
        "        'feature_fraction': trial.suggest_uniform('feature_fraction', 0.4, 1.0),\n",
        "        'bagging_fraction': trial.suggest_uniform('bagging_fraction', 0.4, 1.0),\n",
        "        'bagging_freq': trial.suggest_int('bagging_freq', 1, 7),\n",
        "        'min_child_samples': trial.suggest_int('min_child_samples', 5, 100),\n",
        "        'random_state':71,\n",
        "    }\n",
        "    \n",
        "    num_round = 10000\n",
        "    early_stopping_rounds=50\n",
        "    \n",
        "    tr_x,va_x,tr_y,va_y = train_test_split(train, target, test_size=0.20, random_state=71, shuffle=True)\n",
        "    ltrain = lgb.Dataset(tr_x, label=tr_y)\n",
        "    lvalid = lgb.Dataset(va_x, label=va_y)\n",
        "        \n",
        "    lgb_tuna = lgb.train(params\n",
        "                        ,ltrain\n",
        "                        ,num_round\n",
        "                        ,early_stopping_rounds=early_stopping_rounds\n",
        "                        ,valid_names=['train','valid']\n",
        "                        ,valid_sets=[ltrain,lvalid]\n",
        "                        ,verbose_eval=10\n",
        "                        )\n",
        "    pred_lgb_tuna = lgb_tuna.predict(va_x)\n",
        "    score = np.sqrt(mean_squared_error(list(va_y), pred_lgb_tuna))\n",
        "        \n",
        "    return score\n",
        "\n",
        "study_lgb = optuna.create_study()\n",
        "study_lgb.optimize(opt_lgb\n",
        "               ,n_trials=100\n",
        "               #,timeout=300\n",
        "              )\n",
        "\n",
        "print(study_lgb.best_params,'\\n','\\n')\n",
        "print(study_lgb.best_value,'\\n','\\n')\n",
        "print(study_lgb.best_trial,'\\n','\\n')"
      ]
    },
    {
      "cell_type": "markdown",
      "id": "ca82a409",
      "metadata": {
        "id": "ca82a409"
      },
      "source": [
        "{'lambda_l1': 5.2567979666623315e-08, 'lambda_l2': 1.2323671867671912e-05, 'num_leaves': 39, 'feature_fraction': 0.4467478135070575, 'bagging_fraction': 0.985036426081876, 'bagging_freq': 2, 'min_child_samples': 7} "
      ]
    },
    {
      "cell_type": "code",
      "execution_count": null,
      "id": "96b17305",
      "metadata": {
        "id": "96b17305"
      },
      "outputs": [],
      "source": [
        "#アンサンブル学習(xgboostとlightgbm)\n",
        "\n",
        "train = df_l.drop(['総額'], axis=1)\n",
        "target = df_l['総額']\n",
        "test_x = df_t.drop(['総額'], axis=1)\n",
        "test_y = df_t['総額']\n",
        "tr_x,va_x,tr_y,va_y = train_test_split(train, target, test_size=0.20, random_state=71, shuffle=True)\n",
        "\n",
        "dtrain = xgb.DMatrix(tr_x, label=tr_y)\n",
        "dvalid = xgb.DMatrix(va_x, label=va_y)\n",
        "dtest = xgb.DMatrix(test_x)\n",
        "ltrain = lgb.Dataset(tr_x, tr_y)\n",
        "lvalid = lgb.Dataset(va_x, va_y)\n",
        "ltest = test_x\n",
        "\n",
        "display(pd.DataFrame({'総額':test_y,\n",
        "                      'xgb':model_xgb.predict(dtest),\n",
        "                      'lgb':model_lgb.predict(ltest),\n",
        "                      'xlgb':(model_xgb.predict(dtest)+model_lgb.predict(ltest))/2\n",
        "                     }))\n",
        "\n",
        "print('XGB MAE:',mean_absolute_error(test_y,model_xgb.predict(dtest)))\n",
        "print('LGB MAE:',mean_absolute_error(test_y,model_lgb.predict(ltest)))\n",
        "print('ENS MAE:',mean_absolute_error(test_y,(model_xgb.predict(dtest)+model_lgb.predict(ltest))/2))\n",
        "print()\n",
        "print('XGB RMSE:',np.sqrt(mean_squared_error(test_y,model_xgb.predict(dtest))))\n",
        "print('LGB RMSE:',np.sqrt(mean_squared_error(test_y,model_lgb.predict(ltest))))\n",
        "print('ENS RMSE:',np.sqrt(mean_squared_error(test_y,(model_xgb.predict(dtest)+model_lgb.predict(ltest))/2)))"
      ]
    },
    {
      "cell_type": "code",
      "execution_count": null,
      "id": "0de52c03",
      "metadata": {
        "id": "0de52c03"
      },
      "outputs": [],
      "source": [
        "#重回帰分析\n",
        "from sklearn.linear_model import LinearRegression\n",
        "from sklearn.metrics import mean_absolute_error\n",
        "from sklearn.metrics import mean_squared_error\n",
        "\n",
        "train = df_l.drop(['総額'], axis=1)\n",
        "target = df_l['総額']\n",
        "test_x = df_t.drop(['総額'], axis=1)\n",
        "test_y = df_t['総額']\n",
        "\n",
        "model_lr = LinearRegression()\n",
        "model_lr.fit(train, target)\n",
        "\n",
        "pred = model_lr.predict(test_x)\n",
        "df_true = pd.DataFrame(list(test_y),columns=['総額'])\n",
        "df_pred = pd.DataFrame(pred,columns=['予測値'])\n",
        "\n",
        "print('MAE:',mean_absolute_error(test_y,pred))\n",
        "print('MSE:',mean_squared_error(test_y,pred))\n",
        "print('RMSE:',np.sqrt(mean_squared_error(test_y,pred)))\n",
        "display(pd.concat([df_true,df_pred], axis=1))"
      ]
    },
    {
      "cell_type": "code",
      "execution_count": null,
      "id": "a533199a",
      "metadata": {
        "id": "a533199a"
      },
      "outputs": [],
      "source": [
        "#ランダムフォレスト\n",
        "from sklearn.ensemble import RandomForestRegressor\n",
        "from sklearn.metrics import mean_absolute_error\n",
        "from sklearn.metrics import mean_squared_error\n",
        "\n",
        "train = df_l.drop(['総額'], axis=1)\n",
        "target = df_l['総額']\n",
        "test_x = df_t.drop(['総額'], axis=1)\n",
        "test_y = df_t['総額']\n",
        "tr_x,va_x,tr_y,va_y = train_test_split(train, target, test_size=0.20, random_state=71, shuffle=True)\n",
        "\n",
        "rf = RandomForestRegressor()\n",
        "rf.fit(tr_x, tr_y)\n",
        "pred_rf = rf.predict(test_x)\n",
        "\n",
        "print('MAE:',mean_absolute_error(test_y,pred_rf))\n",
        "print('MSE:',mean_squared_error(test_y,pred_rf))\n",
        "print('RMSE:',np.sqrt(mean_squared_error(test_y,pred_rf)))\n",
        "display(pd.DataFrame({'総額':test_y, '予測値':pred_rf}))\n",
        "#xgboostとlightgbmに匹敵する精度(というか、こっちの方が良いかもしれんね)\n",
        "#ただし、何か時間はかかっている"
      ]
    },
    {
      "cell_type": "code",
      "execution_count": null,
      "id": "f533534b",
      "metadata": {
        "id": "f533534b"
      },
      "outputs": [],
      "source": [
        "#ランダムフォレストモデルによる特徴量の重要度出力\n",
        "\n",
        "#特徴量の重要度を取得\n",
        "features = rf.feature_importances_\n",
        "#特徴量の名前ラベルを取得\n",
        "label = df_l.columns\n",
        "#特徴量の重要度順（降順）に並べて表示\n",
        "indices = np.argsort(features)[::-1]\n",
        "for i in range(len(features)):\n",
        "    print(str(i + 1) + \"   \" + str(label[indices[i]]) + \"   \" + str(features[indices[i]]))"
      ]
    },
    {
      "cell_type": "markdown",
      "id": "7abe12b4",
      "metadata": {
        "id": "7abe12b4"
      },
      "source": [
        "Index(['車名', '総額', '年式', '走行距離', '地域', '車検', '修復歴', '未使用車', 'ワンオーナー', '禁煙車',\n",
        "       'ミッション', '駆動方式', '排気量', 'ドア数', '乗車定員', '燃料', 'ハンドル', '記録簿', '燃費',\n",
        "       '使用燃料', 'エアコン', 'パワーステアリング', 'パワーウィンドウ', 'キーレスエントリー', 'エアバッグ', 'ABS',\n",
        "       'アルミホイール', '盗難防止システム', 'バックモニターカメラ', 'ベンチシート', 'フルフラット', 'CDデッキ',\n",
        "       'カーナビ', 'テレビ', 'ETC', '両側スライドドア両側電動', '両側スライドドア', 'スライドドア電動あり',\n",
        "       'スライドドア', '寒冷地仕様', 'パワーシート', '本革シート', 'サンルーフ', 'ディスチャージドランプ', 'エアロパーツ',\n",
        "       '3列シート', 'ウォークスルー', 'ローダウン', '福祉車両', '修復', '保証フラグ', '保証期間', '保証距離'],"
      ]
    },
    {
      "cell_type": "code",
      "execution_count": null,
      "id": "7aa26610",
      "metadata": {
        "id": "7aa26610"
      },
      "outputs": [],
      "source": [
        "df.head(1)"
      ]
    }
  ],
  "metadata": {
    "kernelspec": {
      "display_name": "Python 3",
      "language": "python",
      "name": "python3"
    },
    "language_info": {
      "codemirror_mode": {
        "name": "ipython",
        "version": 3
      },
      "file_extension": ".py",
      "mimetype": "text/x-python",
      "name": "python",
      "nbconvert_exporter": "python",
      "pygments_lexer": "ipython3",
      "version": "3.7.4"
    },
    "colab": {
      "name": "中古車価格予測AI(価格.com)_モデル作成.ipynb",
      "provenance": [],
      "include_colab_link": true
    }
  },
  "nbformat": 4,
  "nbformat_minor": 5
}