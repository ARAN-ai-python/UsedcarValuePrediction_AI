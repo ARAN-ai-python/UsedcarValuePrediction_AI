{
  "cells": [
    {
      "cell_type": "markdown",
      "metadata": {
        "id": "view-in-github",
        "colab_type": "text"
      },
      "source": [
        "<a href=\"https://colab.research.google.com/github/ARAN1218/UsedcarValuePrediction_AI/blob/main/jupyter%20notebook/3.%E4%B8%AD%E5%8F%A4%E8%BB%8A%E4%BE%A1%E6%A0%BC%E4%BA%88%E6%B8%ACAI(%E4%BE%A1%E6%A0%BC_com)_%E3%83%87%E3%83%BC%E3%82%BF%E5%89%8D%E5%87%A6%E7%90%86%E6%A4%9C%E8%A8%8E1.ipynb\" target=\"_parent\"><img src=\"https://colab.research.google.com/assets/colab-badge.svg\" alt=\"Open In Colab\"/></a>"
      ]
    },
    {
      "cell_type": "code",
      "execution_count": null,
      "id": "070d0ae5",
      "metadata": {
        "id": "070d0ae5"
      },
      "outputs": [],
      "source": [
        "#カラム毎に関数にして、それらを一つの関数で一気に実行する形にしようかと考えている。\n",
        "#ex.) def page_preprocessing(df):"
      ]
    },
    {
      "cell_type": "code",
      "execution_count": null,
      "id": "00e1600c",
      "metadata": {
        "id": "00e1600c"
      },
      "outputs": [],
      "source": [
        "import numpy as np\n",
        "import pandas as pd\n",
        "\n",
        "#pandasのデータフレームの行・列表示制限を解除\n",
        "pd.set_option('display.max_rows',None)\n",
        "pd.set_option('display.max_columns',None)\n",
        "\n",
        "#numpyの表示数制限を解除\n",
        "np.set_printoptions(threshold=np.inf)\n",
        "\n",
        "\n",
        "df = pd.read_pickle('Car_Bigdata_Merged.pickle').drop_duplicates()\n",
        "print(len(df))\n",
        "df.reset_index(inplace=True, drop=True)\n",
        "df.tail(10)"
      ]
    },
    {
      "cell_type": "code",
      "execution_count": null,
      "id": "d3c06e96",
      "metadata": {
        "id": "d3c06e96"
      },
      "outputs": [],
      "source": [
        "#url検索フォーム\n",
        "df['ページ'][1]"
      ]
    },
    {
      "cell_type": "code",
      "execution_count": null,
      "id": "b389d696",
      "metadata": {
        "id": "b389d696"
      },
      "outputs": [],
      "source": [
        "list(df.columns)"
      ]
    },
    {
      "cell_type": "code",
      "execution_count": null,
      "id": "8f751678",
      "metadata": {
        "id": "8f751678"
      },
      "outputs": [],
      "source": [
        "#pandasのデータフレームの行・列表示制限を解除\n",
        "pd.set_option('display.max_rows',None)\n",
        "pd.set_option('display.max_columns',None)\n",
        "\n",
        "#numpyの表示数制限を解除\n",
        "np.set_printoptions(threshold=np.inf)\n",
        "\n",
        "display(df.head(10))"
      ]
    },
    {
      "cell_type": "code",
      "execution_count": null,
      "id": "7d296075",
      "metadata": {
        "id": "7d296075"
      },
      "outputs": [],
      "source": [
        "len(df)"
      ]
    },
    {
      "cell_type": "code",
      "execution_count": null,
      "id": "9e862411",
      "metadata": {
        "id": "9e862411"
      },
      "outputs": [],
      "source": [
        "#for name in list(df.columns):\n",
        "    #print(df[name].unique())"
      ]
    },
    {
      "cell_type": "markdown",
      "id": "50a8e11c",
      "metadata": {
        "id": "50a8e11c"
      },
      "source": [
        "## ページの前処理"
      ]
    },
    {
      "cell_type": "code",
      "execution_count": null,
      "id": "5739f20b",
      "metadata": {
        "id": "5739f20b"
      },
      "outputs": [],
      "source": [
        "#いらないので取り除く\n",
        "df_page = df.copy()\n",
        "#df.drop([\"ページ\"],axis=1,inplace=True)"
      ]
    },
    {
      "cell_type": "code",
      "execution_count": null,
      "id": "a813729f",
      "metadata": {
        "id": "a813729f"
      },
      "outputs": [],
      "source": [
        "def page_preprocessing(df_page):\n",
        "    df_page.drop([\"ページ\"],axis=1,inplace=True)"
      ]
    },
    {
      "cell_type": "code",
      "execution_count": null,
      "id": "984b625f",
      "metadata": {
        "id": "984b625f"
      },
      "outputs": [],
      "source": [
        "#テスト\n",
        "page_preprocessing(df_page)\n",
        "display(df_page.head(10))"
      ]
    },
    {
      "cell_type": "markdown",
      "id": "2e7cb9cb",
      "metadata": {
        "id": "2e7cb9cb"
      },
      "source": [
        "## 車名の前処理"
      ]
    },
    {
      "cell_type": "code",
      "execution_count": null,
      "id": "a7b3a0be",
      "metadata": {
        "id": "a7b3a0be"
      },
      "outputs": [],
      "source": [
        "df_name = df.copy()\n",
        "print(df_name['車名'].unique())"
      ]
    },
    {
      "cell_type": "code",
      "execution_count": null,
      "id": "168f797b",
      "metadata": {
        "id": "168f797b"
      },
      "outputs": [],
      "source": [
        "#やばそう\n",
        "#絶対数が少ない車名をどうするか\n",
        "#同じ意味の車名をどうするか\n",
        "df_name = df.copy()\n",
        "df_name['車名'] = df_name['車名'].str.translate(str.maketrans({\"\\u3000\":\"|\", \"／\":\"|\"}))\n",
        "#display(df_name.head(10))\n",
        "#print(df_name['車名'].unique())\n",
        "#print(df_name['車名'].nunique())\n",
        "print(df_name['車名'].value_counts().head(100))"
      ]
    },
    {
      "cell_type": "code",
      "execution_count": null,
      "id": "eff25ad5",
      "metadata": {
        "id": "eff25ad5"
      },
      "outputs": [],
      "source": [
        "df_name['車名'] = df_name['車名'].map(lambda x : x.split('|')[0])\n",
        "np.set_printoptions(threshold=np.inf)\n",
        "print(sorted(df_name['車名'].unique()))\n",
        "np.set_printoptions(threshold=50000)\n",
        "#display(df_name.head(10))\n",
        "#print(sorted(df_name['車名'].unique()))\n",
        "#display(df_name[df_name['車名'].value_counts() > 3])"
      ]
    },
    {
      "cell_type": "code",
      "execution_count": null,
      "id": "b4d6a812",
      "metadata": {
        "id": "b4d6a812"
      },
      "outputs": [],
      "source": [
        "print(df_name['車名'][df_name['車名'].str.contains('ムーヴ Ｌ')].value_counts())\n",
        "df_name['車名'][df_name['車名'].str.contains('ムーヴ Ｌ')]\n",
        "#ＨＩＢＲＩＤ->ＨＹＢＲＩＤ\n",
        "#ＨＶ->ＨＹＢＲＩＤ\n",
        "\n",
        "#不要説単語\n",
        "#4WD\n",
        "#福祉車両\n",
        "#衝突軽減ブレーキ\n",
        "#前後衝突被害軽減ブレーキ\n",
        "#前後衝突被害軽減Ｂ\n",
        "#全方位モニター付カメラ\n",
        "#スマートキー\n",
        "#届出済未使用車\n",
        "#車いす移動車\n",
        "#衝突軽減\n",
        "#・\n",
        "#フルセグナビ\n",
        "#"
      ]
    },
    {
      "cell_type": "code",
      "execution_count": null,
      "id": "0ffdbeb0",
      "metadata": {
        "id": "0ffdbeb0"
      },
      "outputs": [],
      "source": [
        "dfdf = df_name[df_name['車名'].str.contains('ノート Ｓ')]\n",
        "dfdf[dfdf['駆動方式'] == \"2WD\"].head(10)"
      ]
    },
    {
      "cell_type": "code",
      "execution_count": null,
      "id": "f76b8f45",
      "metadata": {
        "id": "f76b8f45"
      },
      "outputs": [],
      "source": [
        "#print(len(df_name[df_name['車名'].str.contains('スペーシア')]))\n",
        "df_name[df_name['車名'].str.contains('スペーシアカスタム ６６０')].head(10)\n",
        "#スペーシアの中でも特別な車説->ただの燃費だったので削除対象\n",
        "#ラベルエンコーディング"
      ]
    },
    {
      "cell_type": "code",
      "execution_count": null,
      "id": "f590fa49",
      "metadata": {
        "id": "f590fa49"
      },
      "outputs": [],
      "source": [
        "from sklearn.preprocessing import LabelEncoder\n",
        "\n",
        "LE_name = LabelEncoder()\n",
        "LE_name.fit(df_name['車名'])\n",
        "df_name['車名'] = LE_name.transform(df_name['車名'])\n",
        "df_name.head(10)"
      ]
    },
    {
      "cell_type": "code",
      "execution_count": null,
      "id": "79e13f06",
      "metadata": {
        "id": "79e13f06"
      },
      "outputs": [],
      "source": [
        "def name_preprocessing(df_name):\n",
        "    df_name['車名'] = df_name['車名'].str.translate(str.maketrans({\"\\u3000\":\"|\", \"／\":\"|\"}))\n",
        "    df_name['車名'] = df_name['車名'].map(lambda x : x.split('|')[0])\n",
        "    "
      ]
    },
    {
      "cell_type": "markdown",
      "id": "00287571",
      "metadata": {
        "id": "00287571"
      },
      "source": [
        "## 価格の前処理"
      ]
    },
    {
      "cell_type": "code",
      "execution_count": null,
      "id": "54e5965a",
      "metadata": {
        "scrolled": true,
        "id": "54e5965a"
      },
      "outputs": [],
      "source": [
        "df_value = df.copy()\n",
        "print(len(df_value[df_value['価格'] == '応談']))\n",
        "df_value = df_value[df_value['価格'] != '応談']\n",
        "print(len(df_value[df_value['価格'] == '応談']))\n",
        "display(df_value[df_value['価格'] == '応談'].head(10))\n",
        "#応談の行を消すか、同じスペックの平均値(ex.911911カレラSは1809.2万円、ジムニーXCは275.5万円)で埋めるか迷う。\n",
        "#応談をNaN(数値データ)としてreplaceする可能性"
      ]
    },
    {
      "cell_type": "code",
      "execution_count": null,
      "id": "27d8d430",
      "metadata": {
        "scrolled": true,
        "id": "27d8d430"
      },
      "outputs": [],
      "source": [
        "df_value['価格'].replace('応談', np.nan, inplace=True)\n",
        "display(df_value['価格'].value_counts())\n",
        "#df_value['価格'].fillna('応談', inplace=True)\n",
        "print(df_value['価格'].unique())"
      ]
    },
    {
      "cell_type": "code",
      "execution_count": null,
      "id": "c23b3bcd",
      "metadata": {
        "id": "c23b3bcd"
      },
      "outputs": [],
      "source": [
        "#タイプの変換\n",
        "print(df_value.dtypes)\n",
        "\n",
        "df_value['価格'] = df_value['価格'].astype('float64')\n",
        "display(df_value.dtypes)"
      ]
    },
    {
      "cell_type": "code",
      "execution_count": null,
      "id": "4f4cc925",
      "metadata": {
        "id": "4f4cc925"
      },
      "outputs": [],
      "source": [
        "def value_preprocessing(df_value):\n",
        "    df_value['価格'].replace('応談', np.nan, inplace=True)\n",
        "    df_value['価格'] = df_value['価格'].astype('float64')"
      ]
    },
    {
      "cell_type": "code",
      "execution_count": null,
      "id": "a7fd6741",
      "metadata": {
        "id": "a7fd6741"
      },
      "outputs": [],
      "source": [
        "#テスト\n",
        "df_value = df.copy()\n",
        "value_preprocessing(df_value)\n",
        "print(len(df_value[df_value['価格'] == '応談']))\n",
        "display(df_value.dtypes)"
      ]
    },
    {
      "cell_type": "markdown",
      "id": "c35c505b",
      "metadata": {
        "id": "c35c505b"
      },
      "source": [
        "## 総額の前処理"
      ]
    },
    {
      "cell_type": "markdown",
      "id": "4a603fc7",
      "metadata": {
        "id": "4a603fc7"
      },
      "source": [
        "「車両価格」として記載された金額は車両本体価格+消費税の金額で、そのほか名義変更時に必要な税金や諸費用、車検の有無によっては車検費用などがかかります。そうした諸費用と合算したものが「支払総額」と呼ばれ、一般的な方法で車を購入する際の料金が含まれた金額をさします。"
      ]
    },
    {
      "cell_type": "code",
      "execution_count": null,
      "id": "c9d7231c",
      "metadata": {
        "id": "c9d7231c"
      },
      "outputs": [],
      "source": [
        "df_total = df.copy()\n",
        "df['総額'].unique()"
      ]
    },
    {
      "cell_type": "code",
      "execution_count": null,
      "id": "7771eb6a",
      "metadata": {
        "id": "7771eb6a"
      },
      "outputs": [],
      "source": [
        "display(df_total.query('総額 == \"\"').head(10))\n",
        "display(df_total.query('総額 == \"非課税\"').head(10))\n",
        "#恐らく価格＝総額ということだから、価格の値段を移して来ればいいか"
      ]
    },
    {
      "cell_type": "code",
      "execution_count": null,
      "id": "eefea048",
      "metadata": {
        "id": "eefea048"
      },
      "outputs": [],
      "source": [
        "df_total['総額'] = df_total['総額'].map(lambda x : x[4:])\n",
        "df_total['総額'].unique()"
      ]
    },
    {
      "cell_type": "code",
      "execution_count": null,
      "id": "cf1e43d7",
      "metadata": {
        "scrolled": true,
        "id": "cf1e43d7"
      },
      "outputs": [],
      "source": [
        "df_total['総額'] = df_total['総額'].map(lambda x : x.split(\"万\")[0])\n",
        "df_total['総額'].unique()"
      ]
    },
    {
      "cell_type": "code",
      "execution_count": null,
      "id": "43d251b7",
      "metadata": {
        "id": "43d251b7"
      },
      "outputs": [],
      "source": [
        "df_total['総額'][df_total['総額'] == \"非課税\"]"
      ]
    },
    {
      "cell_type": "code",
      "execution_count": null,
      "id": "7fd4bcc8",
      "metadata": {
        "scrolled": true,
        "id": "7fd4bcc8"
      },
      "outputs": [],
      "source": [
        "df_total['総額'].replace('非課税', '', inplace=True)\n",
        "df_total['総額'].mask(df_total['総額']==\"\", df_value['価格'], inplace=True)\n",
        "df_total['総額'].astype('float64')\n",
        "df_total['総額'].unique()\n",
        "#応談をどう処理するかで決まる"
      ]
    },
    {
      "cell_type": "code",
      "execution_count": null,
      "id": "79e02b8b",
      "metadata": {
        "id": "79e02b8b"
      },
      "outputs": [],
      "source": [
        "def total_preprocessing(df_total):\n",
        "    df_total['総額'] = df_total['総額'].map(lambda x : x[4:])\n",
        "    df_total['総額'] = df_total['総額'].map(lambda x : x.split(\"万\")[0])\n",
        "    df_total['総額'].replace('非課税', '', inplace=True)\n",
        "    df_total['総額'].mask(df_total['総額']==\"\", df_total['価格'], inplace=True)\n",
        "    df_total['総額'] = df_total['総額'].astype('float64')\n",
        "    df_total.drop(['価格'], axis=1, inplace=True)\n",
        "    df_total.dropna(how='any', inplace=True)"
      ]
    },
    {
      "cell_type": "code",
      "execution_count": null,
      "id": "99bd24ee",
      "metadata": {
        "id": "99bd24ee"
      },
      "outputs": [],
      "source": [
        "#テスト\n",
        "df_total = df.copy()\n",
        "print(len(df_total))\n",
        "value_preprocessing(df_total)\n",
        "total_preprocessing(df_total)\n",
        "print(len(df_total))\n",
        "print(df_total['総額'].unique())\n",
        "display(df_total.head(10))\n",
        "display(df_total.dtypes)"
      ]
    },
    {
      "cell_type": "markdown",
      "id": "4c25aff6",
      "metadata": {
        "id": "4c25aff6"
      },
      "source": [
        "## 色の前処理"
      ]
    },
    {
      "cell_type": "code",
      "execution_count": null,
      "id": "e56a9ab0",
      "metadata": {
        "scrolled": true,
        "id": "e56a9ab0"
      },
      "outputs": [],
      "source": [
        "df_color = df.copy()\n",
        "df['色'].unique()"
      ]
    },
    {
      "cell_type": "code",
      "execution_count": null,
      "id": "64aecebe",
      "metadata": {
        "scrolled": true,
        "id": "64aecebe"
      },
      "outputs": [],
      "source": [
        "df_color['色'] = df_color['色'].str.translate(str.maketrans({\"\\u3000\":\" \"}))\n",
        "display(df_color.head(10))\n",
        "display(df_color['色'].value_counts())"
      ]
    },
    {
      "cell_type": "code",
      "execution_count": null,
      "id": "38bb4c23",
      "metadata": {
        "id": "38bb4c23"
      },
      "outputs": [],
      "source": [
        "#ブラック、ホワイト、ブルー...が含まれるものはそれぞれ統合してもいいんじゃないか\n",
        "df_color['色数字'] = 0\n",
        "#df_color['色数字'] = df_color['色数字'].mask(df_color['色']==\"ブラック\", '')\n",
        "df_color['色数字'] = df_color['色数字'].mask(df_color['色'].str.contains(\"ブラック\"), df_color['色数字'] + 101)\n",
        "df_color['色数字'] = df_color['色数字'].mask(df_color['色'].str.contains(\"ホワイト\"), df_color['色数字'] + 201)\n",
        "df_color['色数字'] = df_color['色数字'].mask(df_color['色'].str.contains(\"レッド\"), df_color['色数字'] + 301)\n",
        "display(df_color['色数字'].value_counts())\n",
        "df_color['色'][df_color['色数字']==0].value_counts()"
      ]
    },
    {
      "cell_type": "code",
      "execution_count": null,
      "id": "debf5d77",
      "metadata": {
        "scrolled": true,
        "id": "debf5d77"
      },
      "outputs": [],
      "source": [
        "#forループで解決\n",
        "#素数をかければ唯一の値になる(<-思いついた時天才かと思った)\n",
        "#メタリックとかマイカとかクリスタルとか、色の属性は桁数を変えて足した値で表現すればいいかも\n",
        "#色相関に合わせて数字を変えた方がいい？\n",
        "#メタリック、マイカ、クリスタル、ガラスフレーク、ライト、スカイ、ＩＩ, Ｍ, ダーク, スチール(スティール), ブライト\n",
        "#ミッドナイト、ディープ、クール、ソニック、ターコイズ、グリ、モダン、スポーティー、コバルト、ソーダ\n",
        "#スパークル、アーバン、シャイン、\n",
        "df_color['色数字'] = 1\n",
        "df_color_columns = {\"ブラック\":2\n",
        "                    ,\"黒\":2\n",
        "                    ,\"クロ\":2\n",
        "                    ,\"ブラツク\":2\n",
        "                    ,\"ＢＬＡＣＫ\":2\n",
        "                    ,\"Ｘ０７\":2\n",
        "                    ,\"ダーク\":2\n",
        "                    ,\"ネロ\":2\n",
        "                    ,\"カンナディフチーレ\":2\n",
        "                    ,\"ＮＥＲＯ\":2\n",
        "                    ,\"フラック\":2\n",
        "                    ,\"ライノー\":2\n",
        "                    ,\"プレミアムグラマー\":2\n",
        "                    ,\"ホワイト\":3\n",
        "                    ,\"シロ\":3\n",
        "                    ,\"白\":3\n",
        "                    ,\"ＷＨＩＴＥ\":3\n",
        "                    ,\"Ｗｈｉｔｅ\":3\n",
        "                    ,\"ヴアンコアヴス\":3\n",
        "                    ,\"ソニッククオーツ\":3\n",
        "                    ,\"パール\":5\n",
        "                    ,\"Ｗ２５\":5\n",
        "                    ,\"Ｗ２４\":5\n",
        "                    ,\"ＺＶＲ\":5\n",
        "                    ,\"シルバー\":7\n",
        "                    ,\"シルバ−\":7\n",
        "                    ,\"ブラウン\":11\n",
        "                    ,\"茶\":11\n",
        "                    ,\"ブロンズ\":11\n",
        "                    ,\"ブロンド\":11\n",
        "                    ,\"ブロンゾ\":11\n",
        "                    ,\"チャ\":11\n",
        "                    ,\"モカ\":11\n",
        "                    ,\"マロン\":11\n",
        "                    ,\"エボニー\":11\n",
        "                    ,\"ビターショコラ\":11\n",
        "                    ,\"アンドラ\":11\n",
        "                    ,\"ブルー\":13\n",
        "                    ,\"ブル−\":13\n",
        "                    ,\"ブル ポディオ\":13\n",
        "                    ,\"アオ\":13\n",
        "                    ,\"青\":13\n",
        "                    ,\"Ｂｌｕ\":13\n",
        "                    ,\"Ｂ８２\":13\n",
        "                    ,\"ＺＹＷ\":13\n",
        "                    ,\"ミツドナイトブル\":13\n",
        "                    ,\"ジーンズ\":13\n",
        "                    ,\"ミズイロ\":17\n",
        "                    ,\"水色\":17\n",
        "                    ,\"ソーダ\":17\n",
        "                    ,\"アクア\":17\n",
        "                    ,\"モーニングミスト\":17\n",
        "                    ,\"ターコイズ\":17\n",
        "                    ,\"チーフＣ／Ｃ\":17\n",
        "                    ,\"アイボリー\":19\n",
        "                    ,\"レッド\":23\n",
        "                    ,\"アカ\":23\n",
        "                    ,\"赤\":23\n",
        "                    ,\"ロッソアバルト\":23\n",
        "                    ,\"マグマ\":23\n",
        "                    ,\"Ｍａｇｍａ\":23\n",
        "                    ,\"Ａｍｏｒｅ\":23\n",
        "                    ,\"Ａｂａｒｔｈ\":23\n",
        "                    ,\"スナッズベリー\":23\n",
        "                    ,\"Ｒ７５\":23\n",
        "                    ,\"ファイアー\":23\n",
        "                    ,\"ＲＥＤ\":23\n",
        "                    ,\"Ｒｅｄ\":23\n",
        "                    ,\"エネルギア\":23\n",
        "                    ,\"リッド\":23\n",
        "                    ,\"ベージュ\":29\n",
        "                    ,\"グリーン\":31\n",
        "                    ,\"緑\":31\n",
        "                    ,\"ミドリ\":31\n",
        "                    ,\"ＧＲＥＥＮ\":31\n",
        "                    ,\"Ｇｒｅｅｎ\":31\n",
        "                    ,\"グレー\":37\n",
        "                    ,\"灰\":37\n",
        "                    ,\"ＧＲＥＹ\":37\n",
        "                    ,\"Ｇｒｅｙ\":37\n",
        "                    ,\"ストームベイ\":37\n",
        "                    ,\"ストーム・ベイ\":37\n",
        "                    ,\"ＧＲＡＮＩＴＥ ＣＲＹＳＴＡＬ ＭＥＴ． Ｃ／Ｃ\":37\n",
        "                    ,\"Ｓ４２\":37\n",
        "                    ,\"グリジオ\":37\n",
        "                    ,\"ＧＲＩＧＩＯ\":37\n",
        "                    ,\"グレイ\":37\n",
        "                    ,\"サロス\":37\n",
        "                    ,\"アルミニウム\":37\n",
        "                    ,\"セメント\":37\n",
        "                    ,\"プレミアムサンライ\":37\n",
        "                    ,\"グリ シャーク\":37\n",
        "                    ,\"ピンク\":41\n",
        "                    ,\"Ｒ７４\":41\n",
        "                    ,\"パープル\":43\n",
        "                    ,\"ムラサキ\":43\n",
        "                    ,\"紫\":43\n",
        "                    ,\"ウィスパー\":43\n",
        "                    ,\"Ｈｅｌｌｒａｉｓｉｎ\":43\n",
        "                    ,\"プルーン\":43\n",
        "                    ,\"オレンジ\":47\n",
        "                    ,\"ダイダイ\":47\n",
        "                    ,\"ゴーマンゴー\":47\n",
        "                    ,\"オランジュ\":47\n",
        "                    ,\"ナチョ\":47\n",
        "                    ,\"ＯＧ\":47\n",
        "                    ,\"エメラルド\":53\n",
        "                    ,\"イエロー\":59\n",
        "                    ,\"キ\":59\n",
        "                    ,\"黄\":59\n",
        "                    ,\"レモン\":59\n",
        "                    ,\"モデナ\":59\n",
        "                    ,\"ジョンシリウス\":59\n",
        "                    ,\"アイボ\":59\n",
        "                    ,\"カーキ\":61\n",
        "                    ,\"ワイン\":67\n",
        "                    ,\"ガン\":71\n",
        "                    ,\"ツートン\":73\n",
        "                    ,\"紺\":79\n",
        "                    ,\"コン\":79\n",
        "                    ,\"ノクターン\":79\n",
        "                    ,\"アンヴィル\":79\n",
        "                    ,\"ローズ\":83\n",
        "                    ,\"マゼンタ\":89\n",
        "                    ,\"ミント\":97\n",
        "                    ,\"ボルドー\":101\n",
        "                    ,\"オキサイド\":103\n",
        "                    ,\"ゴールド\":107\n",
        "                    ,\"オル\":107\n",
        "                    ,\"金\":107\n",
        "                    ,\"サンド\":107\n",
        "                    ,\"サーブル\":109\n",
        "                    ,\"チタニウムフラッシュ\":113\n",
        "                    ,\"特色\":127\n",
        "                    ,\"ルージュ\":131\n",
        "                    ,\"クリーム\":137\n",
        "                    ,\"ブラキッシュ\":139\n",
        "                    ,\"メタルストリーム\":149\n",
        "                    ,\"ブランナクレ\":151\n",
        "                    ,\"バイオレット\":157\n",
        "                    ,\"カッパー\":163\n",
        "                    ,\"コッパー\":163\n",
        "                    ,\"コッパ−\":163\n",
        "                    ,\"グリジオカンポボーロ\":167\n",
        "                    ,\"セラミック\":173\n",
        "                    ,\"ソノタ\":179\n",
        "                    ,\"Ｗ２４ Ｘ Ｔ３２\":181\n",
        "                    ,\"クリムゾン\":191\n",
        "                    ,\"マルーン\":193\n",
        "                    ,\"ルリ\":197\n",
        "                    ,\"グリジオレコード\":199\n",
        "                    ,\"ソニッククォーツ\":211\n",
        "                    ,\"バーチ\":223\n",
        "                    ,\"オリーブ\":227\n",
        "                    ,\"グラファイト\":229\n",
        "                    ,\"グラナイト\":233\n",
        "                    ,\"チタニウム\":239\n",
        "                    ,\"チタニュウム\":239\n",
        "                    ,\"マケナ\":241\n",
        "                    ,\"シトロン\":251\n",
        "                    ,\"Ｓ２８\":257\n",
        "                    ,\"アンバー\":263\n",
        "                    ,\"ネロスコルピオーネ\":269\n",
        "                    ,\"アルタンス\":271\n",
        "                    ,\"プラチナム\":277\n",
        "                    ,\"ノアール\":281\n",
        "                    ,\"ロッソコルサ\":283\n",
        "                    ,\"プラチナ\":293\n",
        "                    ,\"シアン\":307\n",
        "                    ,\"ピーチ\":311\n",
        "                    ,\"バニラ\":313\n",
        "                    ,\"ガレナ\":317\n",
        "                    ,\"ビアンコ\":331\n",
        "                    ,\"Ｂｉａｎｃｏ\":331\n",
        "                    ,\"スカーレット\":337\n",
        "                    ,\"スカ−レット\":337\n",
        "                    ,\"オルビザンタン\":347\n",
        "                    ,\"クレヨン\":349\n",
        "                    ,\"アメジスト\":353\n",
        "                    ,\"Ｃａｍｐｏｖｏｌｏ\":359\n",
        "                    ,\"Ｒｅｃｏｒｄ\":367\n",
        "                    ,\"コーラル\":373\n",
        "                    ,\"タングステン\":379\n",
        "                    ,\"Ｒ６７\":383\n",
        "                    ,\"メタル\":389\n",
        "                    ,\"Ｒ５９\":397\n",
        "                    ,\"シェリー\":401\n",
        "                    ,\"Ｒ７４\":409\n",
        "                    ,\"ブラン ナクレ\":419\n",
        "                    ,\"各色\":421\n",
        "                    ,\"ホライズンシー\":431\n",
        "                    \n",
        "                    #形容詞\n",
        "                    ,\"メタリック\":547\n",
        "                    ,\"マイカ\":557\n",
        "                    ,\"クリスタル\":563\n",
        "                    ,\"スチール\":569\n",
        "                    ,\"スティール\":571\n",
        "                    ,\"ディープ\":577\n",
        "                    ,\"クール\":587\n",
        "                    ,\"スパークル\":593\n",
        "                    ,\"ミッドナイト\":601\n",
        "                    ,\"ガラスフレーク\":607\n",
        "                    ,\"ライト\":613\n",
        "                    ,\"スカイ\":619\n",
        "                    ,\"ＩＩ\":631\n",
        "                    ,\"Ｍ\":641\n",
        "                    ,\"ブライト\":643\n",
        "                    ,\"シャイン\":647\n",
        "                    ,\"アーバン\":653\n",
        "                    ,\"スパークル\":659\n",
        "                    ,\"ソニック\":661\n",
        "                    ,\"スポーティー\":673\n",
        "                    ,\"コバルト\":677\n",
        "                   }\n",
        "\n",
        "#同じような色同士で分けたい(もっと小さな値で煮詰められる)\n",
        "\n",
        "#辞書をforループで回すと、keyが出力される\n",
        "for df_color_column in df_color_columns:\n",
        "    #print(df_color_column,df_color_columns[df_color_column])\n",
        "    df_color['色数字'] = df_color['色数字'].mask(df_color['色'].str.contains(df_color_column), df_color['色数字'] * df_color_columns[df_color_column])\n",
        "    \n",
        "display(df_color['色数字'].value_counts())\n",
        "display(df_color['色'][df_color['色数字']==1].value_counts())\n",
        "df_color['色'][(df_color['色数字']==470)]"
      ]
    },
    {
      "cell_type": "code",
      "execution_count": null,
      "id": "39ef7d87",
      "metadata": {
        "id": "39ef7d87"
      },
      "outputs": [],
      "source": [
        "df_color[df_color['色']=='ビターショコラ']\n",
        "df_color[df_color[\"色\"].str.contains(\"プレミアムホライズンＯＧ×ピュアＢＫ\")]"
      ]
    },
    {
      "cell_type": "code",
      "execution_count": null,
      "id": "42465850",
      "metadata": {
        "id": "42465850"
      },
      "outputs": [],
      "source": [
        "def color_preprocessing(df_color, df_color_columns):\n",
        "    df_color['色'] = df_color['色'].str.translate(str.maketrans({\"\\u3000\":\" \"}))\n",
        "    df_color['色数字'] = 1\n",
        "    for df_color_column in df_color_columns:\n",
        "        df_color['色数字'] = df_color['色数字'].mask(df_color['色'].str.contains(df_color_column), df_color['色数字'] * df_color_columns[df_color_column])\n",
        "    df_color['色'] = df_color['色数字']\n",
        "    df_color.drop(['色数字'], axis=1, inplace=True)\n",
        "    "
      ]
    },
    {
      "cell_type": "code",
      "execution_count": null,
      "id": "35cb7e8a",
      "metadata": {
        "id": "35cb7e8a"
      },
      "outputs": [],
      "source": [
        "#テスト\n",
        "df_color = df.copy()\n",
        "color_preprocessing(df_color, df_color_columns)\n",
        "display(df_color.head(10))\n",
        "df_color['色'].value_counts()"
      ]
    },
    {
      "cell_type": "markdown",
      "id": "49bc13e1",
      "metadata": {
        "id": "49bc13e1"
      },
      "source": [
        "from sklearn.preprocessing import LabelEncoder\n",
        "\n",
        "LE_color = LabelEncoder()\n",
        "LE_color.fit(df_color['色'])\n",
        "df_color['色'] = LE_color.transform(df_color['色'])\n",
        "df_color.head(10)"
      ]
    },
    {
      "cell_type": "markdown",
      "id": "5c5bf86e",
      "metadata": {
        "id": "5c5bf86e"
      },
      "source": [
        "## 年式の前処理"
      ]
    },
    {
      "cell_type": "code",
      "execution_count": null,
      "id": "5c0f9c9c",
      "metadata": {
        "scrolled": true,
        "id": "5c0f9c9c"
      },
      "outputs": [],
      "source": [
        "df_year = df.copy()\n",
        "df_year['年式'].unique()"
      ]
    },
    {
      "cell_type": "code",
      "execution_count": null,
      "id": "deb3a29b",
      "metadata": {
        "id": "deb3a29b"
      },
      "outputs": [],
      "source": [
        "df_year['年式'] = df_year['年式'].map(lambda x : x.split('(')[1]) #平成〇〇年対策\n",
        "df_year['年式'] = df_year['年式'].map(lambda x : x[:-3])\n",
        "df_year['年式'] = df_year['年式'].astype('int')\n",
        "display(df_year.head(10))\n",
        "print(df_year['年式'].unique())"
      ]
    },
    {
      "cell_type": "code",
      "execution_count": null,
      "id": "f76911b1",
      "metadata": {
        "id": "f76911b1"
      },
      "outputs": [],
      "source": [
        "def year_preprocessing(df_year):\n",
        "    df_year['年式'] = df_year['年式'].map(lambda x : x.split('(')[1]) #平成〇〇年対策\n",
        "    df_year['年式'] = df_year['年式'].map(lambda x : x[:-3])\n",
        "    df_year['年式'] = df_year['年式'].astype('int')\n",
        "    "
      ]
    },
    {
      "cell_type": "code",
      "execution_count": null,
      "id": "16ca0f74",
      "metadata": {
        "id": "16ca0f74"
      },
      "outputs": [],
      "source": [
        "#テスト\n",
        "df_year = df.copy()\n",
        "year_preprocessing(df_year)\n",
        "print(df_year['年式'].value_counts())\n",
        "display(df_year.head(10))"
      ]
    },
    {
      "cell_type": "markdown",
      "id": "7fc44d25",
      "metadata": {
        "id": "7fc44d25"
      },
      "source": [
        "## 走行距離の前処理"
      ]
    },
    {
      "cell_type": "code",
      "execution_count": null,
      "id": "19c3f04c",
      "metadata": {
        "id": "19c3f04c"
      },
      "outputs": [],
      "source": [
        "df_distance = df.copy()\n",
        "print(df_distance[df_distance['走行距離'].str.contains(\"\\x00\")])\n",
        "display(df_distance['走行距離'].value_counts())\n",
        "display(df_distance['ページ'][df_distance['走行距離']==''].head(10))\n",
        "display(df_distance['ページ'][df_distance['走行距離']=='−'].head(10))\n",
        "#'−'は新車で、走行距離が割り出せないからこの表記になっている。\n",
        "#''はよく分からない。どうしよ。"
      ]
    },
    {
      "cell_type": "code",
      "execution_count": null,
      "id": "bb9e8ad2",
      "metadata": {
        "scrolled": true,
        "id": "bb9e8ad2"
      },
      "outputs": [],
      "source": [
        "#--------------------------------------------------------------------------------------------------------------------------------------------------------------\n",
        "import re\n",
        "df_distance = df.copy()\n",
        "df_distance['走行距離'] = df_distance['走行距離'].str.translate(str.maketrans({\"k\":\"\", \"m\":\"\", \".\":\"\", \"−\":\"0\", \"－\":\"0\"}))\n",
        "#df_distance['走行距離'] = df_distance['走行距離'].map(lambda x : x[:-2])\n",
        "df_distance['走行距離'] = df_distance['走行距離'].map(lambda x : x.replace('万',\"000\"))\n",
        "df_distance['走行距離'] = df_distance['走行距離'].map(lambda x : re.sub('\\D',\"0\",x))\n",
        "#df_distance['走行距離'] = df_distance['走行距離'].map(lambda x : x.replace('\\x00',\"0\"))\n",
        "#df_distance['走行距離'] = df_distance['走行距離'].map(lambda x : x.replace(\" \",\"999999\"))\n",
        "#df_distance['走行距離'] = df_distance['走行距離'].map(lambda x : x.replace(\"a\",\"0\"))\n",
        "#df_distance['走行距離'] = df_distance['走行距離'].map(lambda x : x.stlip(\" \",\"\"))\n",
        "print(len(df_distance['走行距離'][df_distance['走行距離']==\"\"]))\n",
        "df_distance['走行距離'][df_distance['走行距離']==\"\"] = -1\n",
        "print(len(df_distance[df_distance['走行距離']==-1]))\n",
        "\n",
        "\n",
        "display(df_distance['走行距離'].value_counts().dtypes)\n",
        "display(df_distance['走行距離'][df_distance['走行距離']==np.nan])\n",
        "display(df_distance['走行距離'][df_distance['走行距離']==\"35\"].dtypes)\n",
        "df_distance['走行距離'] = df_distance['走行距離'].astype(\"float\")\n",
        "display(df_distance['走行距離'][df_distance['走行距離']==\"35\"].dtypes)\n",
        "display(df_distance['走行距離'].value_counts())\n",
        "display(df_distance.dtypes)\n",
        "#display(df_distance['走行距離'].value_counts())"
      ]
    },
    {
      "cell_type": "code",
      "execution_count": null,
      "id": "edd81d53",
      "metadata": {
        "id": "edd81d53"
      },
      "outputs": [],
      "source": [
        "def distance_preprocessing(df_distance):\n",
        "    import re\n",
        "    df_distance['走行距離'] = df_distance['走行距離'].str.translate(str.maketrans({\"k\":\"\", \"m\":\"\", \".\":\"\", \"−\":\"0\", \"－\":\"0\"}))\n",
        "    df_distance['走行距離'] = df_distance['走行距離'].map(lambda x : x.replace('万',\"000\"))\n",
        "    #df_distance['走行距離'] = df_distance['走行距離'].map(lambda x : re.sub('\\D',\"0\",x))\n",
        "    df_distance['走行距離'][df_distance['走行距離']==\"\"] = -1\n",
        "    df_distance['走行距離'] = df_distance['走行距離'].astype(\"float\")\n"
      ]
    },
    {
      "cell_type": "code",
      "execution_count": null,
      "id": "97c83795",
      "metadata": {
        "id": "97c83795"
      },
      "outputs": [],
      "source": [
        "#テスト\n",
        "df_distance = df.copy()\n",
        "distance_preprocessing(df_distance)\n",
        "display(df_distance.dtypes)\n",
        "display(df_distance['走行距離'].value_counts())\n",
        "#\"−\"と\"－\"の検証をしないとならない"
      ]
    },
    {
      "cell_type": "markdown",
      "id": "4d1cb0a1",
      "metadata": {
        "id": "4d1cb0a1"
      },
      "source": [
        "## 地域の前処理"
      ]
    },
    {
      "cell_type": "code",
      "execution_count": null,
      "id": "c241f9ac",
      "metadata": {
        "id": "c241f9ac"
      },
      "outputs": [],
      "source": [
        "from sklearn.preprocessing import LabelEncoder\n",
        "\n",
        "df_area = df.copy()\n",
        "\n",
        "LE_area = LabelEncoder()\n",
        "LE_area.fit(df_area['地域'])\n",
        "df_area['地域'] = LE_area.transform(df_area['地域'])\n",
        "print(LE_area.classes_)\n",
        "display(df_area.head(10))"
      ]
    },
    {
      "cell_type": "code",
      "execution_count": null,
      "id": "968a9068",
      "metadata": {
        "id": "968a9068"
      },
      "outputs": [],
      "source": [
        "def area_preprocessing(df_area):\n",
        "    from sklearn.preprocessing import LabelEncoder\n",
        "    global LE_area\n",
        "    LE_area = LabelEncoder()\n",
        "    LE_area.fit(df_area['地域'])\n",
        "    df_area['地域'] = LE_area.transform(df_area['地域'])\n",
        "    "
      ]
    },
    {
      "cell_type": "code",
      "execution_count": null,
      "id": "6e24f69b",
      "metadata": {
        "id": "6e24f69b"
      },
      "outputs": [],
      "source": [
        "#テスト\n",
        "df_area = df.copy()\n",
        "area_preprocessing(df_area)\n",
        "print(LE_area.classes_)\n",
        "display(df_area.head(10))"
      ]
    },
    {
      "cell_type": "markdown",
      "id": "5b65cdfd",
      "metadata": {
        "id": "5b65cdfd"
      },
      "source": [
        "## 車検の前処理"
      ]
    },
    {
      "cell_type": "code",
      "execution_count": null,
      "id": "fd89981a",
      "metadata": {
        "scrolled": true,
        "id": "fd89981a"
      },
      "outputs": [],
      "source": [
        "df_inspection = df.copy()\n",
        "df_inspection['車検'].unique()\n",
        "#車検の仕組みについて調べる必要がある。\n",
        "#現在の年からの差(月)で代入する？\n",
        "#新車だと3年(36ヶ月)後、中古だと2年(24ヶ月)毎に車検をしなければならない\n",
        "\n",
        "#車検整備付 = 0\n",
        "#新車未登録 = -1\n",
        "#車検整備なし = 24"
      ]
    },
    {
      "cell_type": "code",
      "execution_count": null,
      "id": "39cfbe42",
      "metadata": {
        "id": "39cfbe42"
      },
      "outputs": [],
      "source": [
        "df_inspection.query('車検 == \"\" and 未使用車 == \"○\"')\n",
        "#df_inspection[df_inspection['車検'] == \"\"]\n",
        "#未使用車とは名前の通り使われていないクルマのこと。ただし名義登録済みなので、新車ではなく、法律上は中古車扱い。"
      ]
    },
    {
      "cell_type": "code",
      "execution_count": null,
      "id": "e9349ff3",
      "metadata": {
        "scrolled": true,
        "id": "e9349ff3"
      },
      "outputs": [],
      "source": [
        "from datetime import datetime\n",
        "df_inspection = df.copy()\n",
        "\n",
        "\n",
        "#車検整備付 = 0\n",
        "#新車未登録 = -1\n",
        "#車検整備なし = 24\n",
        "#\"\" = np.nan\n",
        "#df_distance['車検'] = df_distance['車検'].map(lambda x : x.splitlines())\n",
        "df_inspection['車検'].replace(\"車検整備付\", \"3333/01\", inplace=True)\n",
        "df_inspection['車検'].replace(\"新車未登録\", \"4444/02\", inplace=True)\n",
        "df_inspection['車検'].replace(\"車検整備なし\", \"5555/03\", inplace=True)\n",
        "df_inspection['車検'][df_inspection['車検']==''] = \"6666/04\"\n",
        "#df_distance['走行距離'][df_distance['走行距離']==\"\"] = -1\n",
        "\n",
        "display(df_inspection['車検'].value_counts())\n",
        "\n",
        "df_inspection['車検'] = df_inspection['車検'].map(lambda x : datetime.strptime(x ,'%Y/%m'))\n",
        "display(df_inspection['車検'].unique())"
      ]
    },
    {
      "cell_type": "code",
      "execution_count": null,
      "id": "09160907",
      "metadata": {
        "id": "09160907"
      },
      "outputs": [],
      "source": [
        "#車検整備付 = 400\n",
        "#新車未登録 = 500\n",
        "#車検整備なし = -5000\n",
        "#\"\" = -(現在日時)\n",
        "df_inspection = df.copy()\n",
        "\n",
        "df_inspection['車検'] = df_inspection['車検'].str.translate(str.maketrans({\"/\":\"\"}))\n",
        "df_inspection['車検'][df_inspection['車検']=='車検整備付'] = 202507\n",
        "df_inspection['車検'][df_inspection['車検']=='新車未登録'] = 202607\n",
        "df_inspection['車検'][df_inspection['車検']=='車検整備なし'] = 197107\n",
        "df_inspection['車検'][df_inspection['車検']==''] = 0\n",
        "df_inspection['車検'] = df_inspection['車検'].astype('int')\n",
        "\n",
        "df_inspection['車検'].unique()"
      ]
    },
    {
      "cell_type": "code",
      "execution_count": null,
      "id": "74e6e96f",
      "metadata": {
        "id": "74e6e96f"
      },
      "outputs": [],
      "source": [
        "date = 202107 #データを取得した日時\n",
        "#df_inspection['車検'] = df_inspection['車検'].map(lambda x : x - date)\n",
        "df_inspection['車検'] = df_inspection['車検'] - date\n",
        "#df_inspection['車検'][df_inspection['車検']==-202107] = np.nan\n",
        "df_inspection['車検'].unique()"
      ]
    },
    {
      "cell_type": "code",
      "execution_count": null,
      "id": "2b219696",
      "metadata": {
        "id": "2b219696"
      },
      "outputs": [],
      "source": [
        "def inspection_preprocessing(df_inspection):\n",
        "    df_inspection['車検'] = df_inspection['車検'].str.translate(str.maketrans({\"/\":\"\"}))\n",
        "    df_inspection['車検'][df_inspection['車検']=='車検整備付'] = 202507\n",
        "    df_inspection['車検'][df_inspection['車検']=='新車未登録'] = 202607\n",
        "    df_inspection['車検'][df_inspection['車検']=='車検整備なし'] = 197107\n",
        "    df_inspection['車検'][df_inspection['車検']==''] = np.nan\n",
        "    df_inspection['車検'] = df_inspection['車検'].astype('float') #やはりケチらずにfloatにした\n",
        "    df_inspection['車検'] = df_inspection['車検'] - 202107\n",
        "    "
      ]
    },
    {
      "cell_type": "code",
      "execution_count": null,
      "id": "99a24d89",
      "metadata": {
        "id": "99a24d89"
      },
      "outputs": [],
      "source": [
        "#テスト\n",
        "df_inspection = df.copy()\n",
        "inspection_preprocessing(df_inspection)\n",
        "df_inspection['車検'].unique()"
      ]
    },
    {
      "cell_type": "code",
      "execution_count": null,
      "id": "9692ad9a",
      "metadata": {
        "id": "9692ad9a"
      },
      "outputs": [],
      "source": [
        "#date_now = datetime.now()\n",
        "date_now = int(\"20\"+datetime.now().strftime('%y%m'))\n",
        "print(date_now)\n",
        "\n",
        "#モデルを作る時は202107という固定の数字を引いて、予測に使うときはその時点の日付を引いた方が正確な予測になりそう"
      ]
    },
    {
      "cell_type": "markdown",
      "id": "029298a0",
      "metadata": {
        "id": "029298a0"
      },
      "source": [
        "## 修復歴"
      ]
    },
    {
      "cell_type": "code",
      "execution_count": null,
      "id": "22fcc1b3",
      "metadata": {
        "id": "22fcc1b3"
      },
      "outputs": [],
      "source": [
        "df_repair = df.copy()\n",
        "df_repair['修復歴'].value_counts()"
      ]
    },
    {
      "cell_type": "code",
      "execution_count": null,
      "id": "6cee9c60",
      "metadata": {
        "id": "6cee9c60"
      },
      "outputs": [],
      "source": [
        "#なし->0、あり->1\n",
        "import re\n",
        "df_repair['修復歴'] = df_repair['修復歴'].str.translate(str.maketrans({\"な\":\"0\",\"あ\":\"1\"}))\n",
        "df_repair['修復歴'] = df_repair['修復歴'].map(lambda x : re.sub(\"\\D\", \"\", x))\n",
        "df_repair['修復歴'] = df_repair['修復歴'].astype('int')\n",
        "df_repair['修復歴'].unique()\n",
        "#df_repair['修復歴'].replace('修復歴なし', 0, inplace=True)\n",
        "#df_repair['修復歴'].replace('', 1, inplace=True)"
      ]
    },
    {
      "cell_type": "code",
      "execution_count": null,
      "id": "9cab3e2f",
      "metadata": {
        "id": "9cab3e2f"
      },
      "outputs": [],
      "source": [
        "def repair_preprocessing(df_repair):\n",
        "    df_repair['修復歴'] = df_repair['修復歴'].str.translate(str.maketrans({\"な\":\"0\",\"あ\":\"1\"}))\n",
        "    df_repair['修復歴'] = df_repair['修復歴'].map(lambda x : re.sub(\"\\D\", \"\", x))\n",
        "    df_repair['修復歴'] = df_repair['修復歴'].astype('int')"
      ]
    },
    {
      "cell_type": "code",
      "execution_count": null,
      "id": "7e4f1954",
      "metadata": {
        "id": "7e4f1954"
      },
      "outputs": [],
      "source": [
        "#テスト\n",
        "df_repair = df.copy()\n",
        "repair_preprocessing(df_repair)\n",
        "df_repair['修復歴'].unique()"
      ]
    },
    {
      "cell_type": "markdown",
      "id": "1e9277be",
      "metadata": {
        "id": "1e9277be"
      },
      "source": [
        "## 未使用車"
      ]
    },
    {
      "cell_type": "code",
      "execution_count": null,
      "id": "27c09f35",
      "metadata": {
        "id": "27c09f35"
      },
      "outputs": [],
      "source": [
        "df_unused = df.copy()\n",
        "df_unused.未使用車.value_counts()"
      ]
    },
    {
      "cell_type": "code",
      "execution_count": null,
      "id": "a16e0bba",
      "metadata": {
        "id": "a16e0bba"
      },
      "outputs": [],
      "source": [
        "df_unused[df_unused[\"未使用車\"]==\"－\"]\n",
        "#未使用車ではなかった"
      ]
    },
    {
      "cell_type": "code",
      "execution_count": null,
      "id": "938b2cd4",
      "metadata": {
        "id": "938b2cd4"
      },
      "outputs": [],
      "source": [
        "#−and－->0、○->1\n",
        "df_unused['未使用車'] = df_unused['未使用車'].str.translate(str.maketrans({\"−\":\"0\", \"－\":\"0\", \"○\":\"1\"}))\n",
        "df_unused['未使用車'] = df_unused['未使用車'].astype('int')\n",
        "print(df_unused['未使用車'].dtypes)\n",
        "df_unused.未使用車.value_counts()"
      ]
    },
    {
      "cell_type": "code",
      "execution_count": null,
      "id": "3c7376c0",
      "metadata": {
        "id": "3c7376c0"
      },
      "outputs": [],
      "source": [
        "def unused_preprocessing(df_unused):\n",
        "    df_unused['未使用車'] = df_unused['未使用車'].str.translate(str.maketrans({\"−\":\"0\", \"－\":\"0\", \"○\":\"1\"}))\n",
        "    df_unused['未使用車'] = df_unused['未使用車'].astype('int')"
      ]
    },
    {
      "cell_type": "code",
      "execution_count": null,
      "id": "cb5129cb",
      "metadata": {
        "id": "cb5129cb"
      },
      "outputs": [],
      "source": [
        "#テスト\n",
        "df_unused = df.copy()\n",
        "unused_preprocessing(df_unused)\n",
        "print(df_unused['未使用車'].dtypes)\n",
        "df_unused.未使用車.value_counts()"
      ]
    },
    {
      "cell_type": "markdown",
      "id": "66c4bd31",
      "metadata": {
        "id": "66c4bd31"
      },
      "source": [
        "## ワンオーナー"
      ]
    },
    {
      "cell_type": "code",
      "execution_count": null,
      "id": "3399ba06",
      "metadata": {
        "id": "3399ba06"
      },
      "outputs": [],
      "source": [
        "df_oneowner = df.copy()\n",
        "df_oneowner.ワンオーナー.value_counts()\n",
        "#もしかしてunusedの流用でいけるか？"
      ]
    },
    {
      "cell_type": "code",
      "execution_count": null,
      "id": "320b7dd6",
      "metadata": {
        "id": "320b7dd6"
      },
      "outputs": [],
      "source": [
        "def oneowner_preprocessing(df_oneowner):\n",
        "    df_oneowner['ワンオーナー'] = df_oneowner['ワンオーナー'].str.translate(str.maketrans({\"−\":\"0\", \"－\":\"0\", \"○\":\"1\"}))\n",
        "    df_oneowner['ワンオーナー'] = df_oneowner['ワンオーナー'].astype('int')"
      ]
    },
    {
      "cell_type": "code",
      "execution_count": null,
      "id": "39245b4d",
      "metadata": {
        "id": "39245b4d"
      },
      "outputs": [],
      "source": [
        "#テスト\n",
        "df_oneowner = df.copy()\n",
        "oneowner_preprocessing(df_oneowner)\n",
        "df_oneowner.ワンオーナー.value_counts()"
      ]
    },
    {
      "cell_type": "markdown",
      "id": "ce194121",
      "metadata": {
        "id": "ce194121"
      },
      "source": [
        "## 禁煙車"
      ]
    },
    {
      "cell_type": "code",
      "execution_count": null,
      "id": "faca9c45",
      "metadata": {
        "id": "faca9c45"
      },
      "outputs": [],
      "source": [
        "df_nosmoking = df.copy()\n",
        "df_nosmoking['禁煙車'].value_counts()\n",
        "#またやん"
      ]
    },
    {
      "cell_type": "code",
      "execution_count": null,
      "id": "615c4efe",
      "metadata": {
        "id": "615c4efe"
      },
      "outputs": [],
      "source": [
        "def nosmoking_preprocessing(df_nosmoking):\n",
        "    df_nosmoking['禁煙車'] = df_nosmoking['禁煙車'].str.translate(str.maketrans({\"−\":\"0\", \"－\":\"0\", \"○\":\"1\"}))\n",
        "    df_nosmoking['禁煙車'] = df_nosmoking['禁煙車'].astype('int')"
      ]
    },
    {
      "cell_type": "code",
      "execution_count": null,
      "id": "9a5ccb91",
      "metadata": {
        "id": "9a5ccb91"
      },
      "outputs": [],
      "source": [
        "#テスト\n",
        "df_nosmoking = df.copy()\n",
        "nosmoking_preprocessing(df_nosmoking)\n",
        "df_nosmoking['禁煙車'].value_counts()"
      ]
    },
    {
      "cell_type": "markdown",
      "id": "1af2f744",
      "metadata": {
        "id": "1af2f744"
      },
      "source": [
        "## 保証"
      ]
    },
    {
      "cell_type": "code",
      "execution_count": null,
      "id": "287b728c",
      "metadata": {
        "id": "287b728c"
      },
      "outputs": [],
      "source": [
        "df_guarantee = df.copy()\n",
        "df_guarantee[\"保証\"][df_guarantee[\"保証\"].str.contains('距離')].value_counts()\n",
        "#販売店保証付...全て無料保証で、期間と距離の制約がある\n",
        "#販売店保証なし...完全になしか、有償保証がある"
      ]
    },
    {
      "cell_type": "code",
      "execution_count": null,
      "id": "e0ce637a",
      "metadata": {
        "id": "e0ce637a"
      },
      "outputs": [],
      "source": [
        "#販売店保証有無から取り掛かる\n",
        "#なし->0、有償->1、無料->2\n",
        "df_guarantee['保証フラグ'] = 0\n",
        "df_guarantee['保証フラグ'] = df_guarantee['保証フラグ'].mask(df_guarantee['保証'].str.contains('有償'), 1)\n",
        "df_guarantee['保証フラグ'] = df_guarantee['保証フラグ'].mask(df_guarantee['保証'].str.contains('無料'), 2)\n",
        "df_guarantee['保証フラグ'].value_counts()"
      ]
    },
    {
      "cell_type": "code",
      "execution_count": null,
      "id": "9ce42ab5",
      "metadata": {
        "id": "9ce42ab5"
      },
      "outputs": [],
      "source": [
        "df_guarantee['保証期間'] = df_guarantee['保証'].map(lambda x : len(x.split(\" \")) if ('無料保証' in x) else 0)\n",
        "df_guarantee['保証'][df_guarantee['保証期間']==2]"
      ]
    },
    {
      "cell_type": "code",
      "execution_count": null,
      "id": "9357483b",
      "metadata": {
        "id": "9357483b"
      },
      "outputs": [],
      "source": [
        "df_guarantee['保証期間'] = df_guarantee['保証'].map(lambda x : x.split(\" \")[1] if (('期限' in x) or ('期間' in x)) else 0)\n",
        "df_guarantee['保証距離'] = df_guarantee['保証'].map(lambda x : x.split(\" \")[2] if ('距離' in x) else 0)\n",
        "\n",
        "#df_guarantee['保証期間'] = df_guarantee['保証期間'].mask(df_guarantee['保証フラグ']==2, df_guarantee['保証'].split(\" \")[1])\n",
        "#df_guarantee['保証距離'] = df_guarantee['保証距離'].mask(df_guarantee['保証フラグ']==2, df_guarantee['保証'].split(\" \")[2])\n",
        "\n",
        "display(df_guarantee['保証期間'].value_counts())\n",
        "display(df_guarantee['保証距離'].value_counts())"
      ]
    },
    {
      "cell_type": "code",
      "execution_count": null,
      "id": "f6050d15",
      "metadata": {
        "id": "f6050d15"
      },
      "outputs": [],
      "source": [
        "a = re.sub(\"\\D\", \"\", df_guarantee['保証期間'][8])\n",
        "print(a)"
      ]
    },
    {
      "cell_type": "code",
      "execution_count": null,
      "id": "c0b077fc",
      "metadata": {
        "id": "c0b077fc"
      },
      "outputs": [],
      "source": [
        "#保証距離の「距離:無制限」を999999で置換する\n",
        "#数値データ以外(str型だけど)を取り去れば上手くいきそう\n",
        "import re\n",
        "\n",
        "df_guarantee['保証期間'] = df_guarantee['保証期間'].map(lambda x : re.sub(\"\\D\", \"\", str(x)))\n",
        "df_guarantee['保証距離'] = df_guarantee['保証距離'].map(lambda x : re.sub(\"\\D\", \"\", str(x)))\n",
        "\n",
        "df_guarantee['保証期間'].replace('', '999999', inplace=True)\n",
        "df_guarantee['保証距離'].replace('', '999999', inplace=True)\n",
        "\n",
        "df_guarantee['保証期間'] = df_guarantee['保証期間'].astype('int')\n",
        "df_guarantee['保証距離'] = df_guarantee['保証距離'].astype('int')\n",
        "\n",
        "display(df_guarantee['保証期間'].value_counts())\n",
        "display(df_guarantee['保証距離'].unique())"
      ]
    },
    {
      "cell_type": "code",
      "execution_count": null,
      "id": "d314a167",
      "metadata": {
        "id": "d314a167"
      },
      "outputs": [],
      "source": [
        "#保証期間は月の方を修正する？(xヶ月 = x//12 * 100 + x%12 * 1)\n",
        "#保証期間は年の方を修正する！(式はプログラム参照)\n",
        "#90733は無期限のやつ\n",
        "\n",
        "df_guarantee['保証期間'] = df_guarantee['保証期間'].map(lambda x : (int(str(x)[:4])-2021)*12 + (int(str(x)[4:])-7) if ((int(str(x)[:4]) - 2021) > 0) or (((int(str(x)[:4]) - 2021) == 0) and (int(str(x)[4:]) - 7 >= 0)) else x)\n",
        "df_guarantee['保証期間'] = df_guarantee['保証期間'].map(lambda x : (-1) * ((2021-int(str(x)[:4]))*12 + (7-int(str(x)[4:]))) if (x > 1000) else x)\n",
        "\n",
        "display(df_guarantee['保証期間'].value_counts())"
      ]
    },
    {
      "cell_type": "code",
      "execution_count": null,
      "id": "2f60f09c",
      "metadata": {
        "id": "2f60f09c"
      },
      "outputs": [],
      "source": [
        "df_guarantee[df_guarantee['保証期間']==90733]"
      ]
    },
    {
      "cell_type": "code",
      "execution_count": null,
      "id": "aabf973a",
      "metadata": {
        "id": "aabf973a"
      },
      "outputs": [],
      "source": [
        "a = 202107\n",
        "print(int(str(a)[:4]))\n",
        "print(int(str(a)[4:]))"
      ]
    },
    {
      "cell_type": "code",
      "execution_count": null,
      "id": "cd8b4b1c",
      "metadata": {
        "id": "cd8b4b1c"
      },
      "outputs": [],
      "source": [
        "def guarantee_preprocessing(df_guarantee):\n",
        "    import re\n",
        "    \n",
        "    #保証なし、保証付き(有償)、保証付き(無料)を識別する保証フラグ\n",
        "    df_guarantee['保証フラグ'] = 0\n",
        "    df_guarantee['保証フラグ'] = df_guarantee['保証フラグ'].mask(df_guarantee['保証'].str.contains('有償'), 1)\n",
        "    df_guarantee['保証フラグ'] = df_guarantee['保証フラグ'].mask(df_guarantee['保証'].str.contains('無料'), 2)\n",
        "    \n",
        "    #無料保証の期間(期限)、距離を特徴量として確保\n",
        "    df_guarantee['保証期間'] = df_guarantee['保証'].map(lambda x : x.split(\" \")[1] if (('期限' in x) or ('期間' in x)) else 0)\n",
        "    df_guarantee['保証距離'] = df_guarantee['保証'].map(lambda x : x.split(\" \")[2] if ('距離' in x) else 0)\n",
        "    \n",
        "    #保証期間と保証距離に無制限等の変数の数値化等を施す\n",
        "    for name in ['保証期間','保証距離']:\n",
        "        df_guarantee[name] = df_guarantee[name].map(lambda x : re.sub(\"\\D\", \"\", str(x)))\n",
        "        df_guarantee[name].replace('', '999999', inplace=True)\n",
        "        df_guarantee[name] = df_guarantee[name].astype('int')\n",
        "        \n",
        "    #保証期間は年と月に分けて計算し、最終的に何ヶ月保証期間があるかに直す\n",
        "    df_guarantee['保証期間'] = df_guarantee['保証期間'].map(lambda x : (int(str(x)[:4])-2021)*12 + (int(str(x)[4:])-7) if ((int(str(x)[:4]) - 2021) > 0) or (((int(str(x)[:4]) - 2021) == 0) and (int(str(x)[4:]) - 7 >= 0)) else x)\n",
        "    df_guarantee['保証期間'] = df_guarantee['保証期間'].map(lambda x : (-1) * ((2021-int(str(x)[:4]))*12 + (7-int(str(x)[4:]))) if (x > 1000) else x)\n",
        "    \n",
        "    #保証はいらない(保証は大切)\n",
        "    df_guarantee.drop(['保証'], axis=1, inplace=True)\n"
      ]
    },
    {
      "cell_type": "code",
      "execution_count": null,
      "id": "a758e417",
      "metadata": {
        "id": "a758e417"
      },
      "outputs": [],
      "source": [
        "#テスト\n",
        "df_guarantee = df.copy()\n",
        "guarantee_preprocessing(df_guarantee)\n",
        "df_guarantee.head(1)"
      ]
    },
    {
      "cell_type": "markdown",
      "id": "8e2295d0",
      "metadata": {
        "id": "8e2295d0"
      },
      "source": [
        "## データ前処理　最終関数1"
      ]
    },
    {
      "cell_type": "code",
      "execution_count": null,
      "id": "79833ab7",
      "metadata": {
        "id": "79833ab7"
      },
      "outputs": [],
      "source": [
        "def kkkcom_preprocessing(df, df_color_columns):\n",
        "    #df.reset_index(inplace=True, drop=True)\n",
        "    page_preprocessing(df)\n",
        "    #name_preprocessing(df)\n",
        "    value_preprocessing(df)\n",
        "    total_preprocessing(df)\n",
        "    color_preprocessing(df, df_color_columns)\n",
        "    year_preprocessing(df)\n",
        "    distance_preprocessing(df)\n",
        "    area_preprocessing(df)\n",
        "    inspection_preprocessing(df)\n",
        "    repair_preprocessing(df)\n",
        "    unused_preprocessing(df)\n",
        "    oneowner_preprocessing(df)\n",
        "    nosmoking_preprocessing(df)\n",
        "    guarantee_preprocessing(df)"
      ]
    },
    {
      "cell_type": "code",
      "execution_count": null,
      "id": "07f492b4",
      "metadata": {
        "scrolled": false,
        "id": "07f492b4"
      },
      "outputs": [],
      "source": [
        "#テスト\n",
        "df_final = df.copy()\n",
        "df_final = df_final.drop(df_final.index[[10616,28688,9973,32404]])\n",
        "kkkcom_preprocessing(df_final, df_color_columns)\n",
        "display(df_final.head(10))\n",
        "print(\"地域：\",LE_area.classes_)"
      ]
    },
    {
      "cell_type": "markdown",
      "id": "90289315",
      "metadata": {
        "id": "90289315"
      },
      "source": [
        "#総額とのクロス分析\n",
        "import matplotlib.pyplot as plt\n",
        "\n",
        "x = df_final['地域']\n",
        "y = df_final['総額']\n",
        "\n",
        "fig, ax = plt.subplots(2,1,figsize=(40,40))\n",
        "plt.rcParams[\"font.size\"] = 30\n",
        "#plt.figure(figsize=(40,40))\n",
        "#plt.tick_params(labelsize=24)\n",
        "ax[0].plot(x,y)\n",
        "#plt.show()\n",
        "x = df_final['走行距離']\n",
        "ax[1].plot(x,y)\n",
        "plt.show()"
      ]
    },
    {
      "cell_type": "code",
      "execution_count": null,
      "id": "bc7a747d",
      "metadata": {
        "id": "bc7a747d"
      },
      "outputs": [],
      "source": [
        "#全ての要素とクロス集計する関数\n",
        "def all_plot(df_final):\n",
        "    import matplotlib.pyplot as plt\n",
        "    import japanize_matplotlib\n",
        "    #from sklearn.linear_model import LinearRegression\n",
        "    \n",
        "    y = df_final['総額']\n",
        "    columns = ['総額','色','年式','走行距離','地域','車検','修復歴','未使用車','ワンオーナー'\n",
        "              ,'禁煙車','保証フラグ','保証期間','保証距離'\n",
        "              ]\n",
        "    \n",
        "    fig, ax = plt.subplots(len(columns),1,figsize=(40,30*len(columns)))\n",
        "    plt.rcParams[\"font.size\"] = 30\n",
        "    \n",
        "    #model_lr = LinearRegression()\n",
        "\n",
        "    for i,column in enumerate(columns):\n",
        "        x = df_final[column]\n",
        "        \n",
        "        ax[i].set_title(column)\n",
        "\n",
        "        ax[i].scatter(x,y)\n",
        "        \n",
        "        #model_lr.fit(x,y)\n",
        "        #ax[i].plot(x, model_lr.predict(x), color='black')\n",
        "        \n",
        "        print(column,'の相関係数：',x.corr(y))\n",
        "        \n",
        "    plt.show()\n"
      ]
    },
    {
      "cell_type": "code",
      "execution_count": null,
      "id": "f2a2af13",
      "metadata": {
        "scrolled": false,
        "id": "f2a2af13"
      },
      "outputs": [],
      "source": [
        "all_plot(df_final)"
      ]
    },
    {
      "cell_type": "code",
      "execution_count": null,
      "id": "bc3570b3",
      "metadata": {
        "id": "bc3570b3"
      },
      "outputs": [],
      "source": [
        "df_final[df_final['総額'] > 5000]\n",
        "#外れ値だから消した方が良くない？？"
      ]
    },
    {
      "cell_type": "code",
      "execution_count": null,
      "id": "ab07a410",
      "metadata": {
        "id": "ab07a410"
      },
      "outputs": [],
      "source": [
        "df_final.describe()"
      ]
    }
  ],
  "metadata": {
    "kernelspec": {
      "display_name": "Python 3",
      "language": "python",
      "name": "python3"
    },
    "language_info": {
      "codemirror_mode": {
        "name": "ipython",
        "version": 3
      },
      "file_extension": ".py",
      "mimetype": "text/x-python",
      "name": "python",
      "nbconvert_exporter": "python",
      "pygments_lexer": "ipython3",
      "version": "3.7.4"
    },
    "colab": {
      "name": "中古車価格予測AI(価格.com)_データ前処理検討1.ipynb",
      "provenance": [],
      "include_colab_link": true
    }
  },
  "nbformat": 4,
  "nbformat_minor": 5
}