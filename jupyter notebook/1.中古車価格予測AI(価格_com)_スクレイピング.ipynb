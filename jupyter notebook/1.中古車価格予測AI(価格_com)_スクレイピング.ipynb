{
  "cells": [
    {
      "cell_type": "markdown",
      "metadata": {
        "id": "view-in-github",
        "colab_type": "text"
      },
      "source": [
        "<a href=\"https://colab.research.google.com/github/ARAN1218/UsedcarValuePrediction_AI/blob/main/jupyter%20notebook/1.%E4%B8%AD%E5%8F%A4%E8%BB%8A%E4%BE%A1%E6%A0%BC%E4%BA%88%E6%B8%ACAI(%E4%BE%A1%E6%A0%BC_com)_%E3%82%B9%E3%82%AF%E3%83%AC%E3%82%A4%E3%83%94%E3%83%B3%E3%82%B0.ipynb\" target=\"_parent\"><img src=\"https://colab.research.google.com/assets/colab-badge.svg\" alt=\"Open In Colab\"/></a>"
      ]
    },
    {
      "cell_type": "markdown",
      "id": "0401d8df",
      "metadata": {
        "id": "0401d8df"
      },
      "source": [
        "Car_Bigdata"
      ]
    },
    {
      "cell_type": "code",
      "execution_count": null,
      "id": "2ec3a685",
      "metadata": {
        "id": "2ec3a685"
      },
      "outputs": [],
      "source": [
        "from bs4 import BeautifulSoup\n",
        "import requests\n",
        "from time import sleep\n",
        "import json\n",
        "import pandas as pd\n",
        "from tqdm.notebook import tqdm\n",
        "\n",
        "\n",
        "pd.set_option('display.max_columns',None)\n",
        "\n",
        "\n",
        "#pref[1~55] page[1~60]\n",
        "#長丁場になりそう\n",
        "page_start = 1\n",
        "page_end = 60\n",
        "car_start = 1\n",
        "car_end = 20\n",
        "pref_start = 1\n",
        "pref_end = 55\n",
        "pref_code = 55\n",
        "url = \"https://kakaku.com/kuruma/used/spec/Prefecture={}/Page={}/\""
      ]
    },
    {
      "cell_type": "code",
      "execution_count": null,
      "id": "82eaa19d",
      "metadata": {
        "id": "82eaa19d"
      },
      "outputs": [],
      "source": [
        "pre_results = []"
      ]
    },
    {
      "cell_type": "code",
      "execution_count": null,
      "id": "c9556f3f",
      "metadata": {
        "id": "c9556f3f"
      },
      "outputs": [],
      "source": [
        "#価格.comから中古車データを都道府県毎にスクレイピングするプログラム\n",
        "#Used_Car_Data_Scraping\n",
        "def UCDS(start,end,pref_code,pre_results=[]):\n",
        "    #pre_resultsに値があった場合(再開する場合)、読み込んだページ数をprogressに記録\n",
        "    d_list = pre_results\n",
        "    if len(d_list) > 0:\n",
        "        progress = list(pd.DataFrame(d_list)['ページ'].unique())\n",
        "    else:\n",
        "        progress = []\n",
        "        \n",
        "    print(\"Scraping Start!\")\n",
        "\n",
        "    #tqdmで進捗を監視\n",
        "    for i in tqdm(range(start, end+1)):\n",
        "\n",
        "        try:\n",
        "            target_url = url.format(pref_code, i)\n",
        "            print(target_url)\n",
        "            r = requests.get(target_url)\n",
        "            sleep(1)\n",
        "            soupr = BeautifulSoup(r.content, 'html.parser')\n",
        "            contents = soupr.find_all('div', class_=\"itemImgBox u-pRight15\")\n",
        "            #print(contents)\n",
        "            name_index = 0\n",
        "            for content in tqdm(contents):\n",
        "                car_links = content.find_all(\"a\")\n",
        "                #print(car_links)\n",
        "                names = soupr.find_all('a', onclick=\"if('function' == typeof window.onclickcatalyst) onclickcatalyst('spec_text');\")\n",
        "                #print(names[name_index].text)\n",
        "                for car_link in car_links:\n",
        "                    #既に読み込んだページは飛ばして効率化を図る\n",
        "                    if (car_link.get('href')[18:-1]) in progress:\n",
        "                        continue\n",
        "                    \n",
        "                    l = requests.get(\"https://kakaku.com\"+car_link.get('href'))\n",
        "                    sleep(1)\n",
        "                    soupl = BeautifulSoup(l.content, 'html.parser')\n",
        "                    info1 = soupl.find(\"table\", class_=\"specList\")\n",
        "                    info2 = soupl.find(\"div\", class_=\"carinfoArea\")\n",
        "                    #print(info1)\n",
        "\n",
        "                    page = car_link.get('href')[18:-1]\n",
        "                    #print(page)\n",
        "\n",
        "                    name = names[name_index].text\n",
        "                    name_index += 1\n",
        "                    print(name)\n",
        "                    value = soupl.find_all(\"span\", class_=\"num\")[1].text\n",
        "                    #print(value)\n",
        "                    total = soupl.find(\"span\", class_=\"total\").text\n",
        "                    #print(total)\n",
        "                    color = info1.find_all('td')[0].text\n",
        "                    #print(color)\n",
        "                    year = info1.find_all('td')[1].text\n",
        "                    #print(year)\n",
        "                    distance = info1.find_all('td')[2].text\n",
        "                    #print(distance)\n",
        "                    area = info1.find_all('td')[3].text\n",
        "                    #print(area)\n",
        "                    inspection = info1.find_all('td')[4].text\n",
        "                    #print(inspection)\n",
        "                    repair = info1.find_all('td')[5].text\n",
        "                    #print(repair)\n",
        "                    unused = info1.find_all('td')[6].text\n",
        "                    #print(unused)\n",
        "                    oneowner = info1.find_all('td')[7].text\n",
        "                    #print(oneowner)\n",
        "                    nosmoking = info1.find_all('td')[8].text\n",
        "                    #print(nosmoking)\n",
        "                    guarantee = info1.find_all('td')[9].text\n",
        "                    #print(guarantee)\n",
        "\n",
        "                    #print(\"\\n\")\n",
        "\n",
        "                    mission = info2.find_all('dd')[0].text\n",
        "                    #print(mission)\n",
        "                    drive = info2.find_all('dd')[3].text\n",
        "                    #print(drive)\n",
        "                    displacement = info2.find_all('dd')[6].text\n",
        "                    #print(displacement)\n",
        "                    door = info2.find_all('dd')[9].text\n",
        "                    #print(door)\n",
        "                    capacity = info2.find_all('dd')[12].text\n",
        "                    #print(capacity)\n",
        "                    fuel = info2.find_all('dd')[15].text\n",
        "                    #print(fuel)\n",
        "                    handle = info2.find_all('dd')[1].text\n",
        "                    #print(handle)\n",
        "                    number = info2.find_all('dd')[4].text\n",
        "                    #print(number)\n",
        "                    record = info2.find_all('dd')[7].text\n",
        "                    #print(record)\n",
        "                    recycle = info2.find_all('dd')[10].text\n",
        "                    #print(recycle)\n",
        "                    maintenance = info2.find_all('dd')[13].text\n",
        "                    #print(maintenance)\n",
        "                    judgement = info2.find_all('dd')[16].text\n",
        "                    #print(judgement)\n",
        "                    length = info2.find_all('dd')[2].text\n",
        "                    #print(length)\n",
        "                    width = info2.find_all('dd')[5].text\n",
        "                    #print(width)\n",
        "                    height = info2.find_all('dd')[8].text\n",
        "                    #print(height)\n",
        "                    weight = info2.find_all('dd')[11].text\n",
        "                    #print(weight)\n",
        "                    fuelconsumption = info2.find_all('dd')[14].text\n",
        "                    #print(fuelconsumption)\n",
        "                    usingfuel = info2.find_all('dd')[17].text\n",
        "                    #print(usingfuel)\n",
        "\n",
        "                    #print(\"\\n\")\n",
        "                    \n",
        "                    options = soupl.find_all('li', class_='yes')\n",
        "                    #print(options)\n",
        "                    options_list = \"\"\n",
        "                    for option in options:\n",
        "                        #print(option.text)\n",
        "                        options_list += str(option.text) + \" \"\n",
        "                    #print(options_list)\n",
        "\n",
        "                    d = {\n",
        "                        \"ページ\":page\n",
        "                        ,\"車名\":name\n",
        "\n",
        "                        #info1\n",
        "                        ,\"価格\":value\n",
        "                        ,\"総額\":total\n",
        "                        ,\"色\":color\n",
        "                        ,\"年式\":year\n",
        "                        ,\"走行距離\":distance\n",
        "                        ,\"地域\":area\n",
        "                        ,\"車検\":inspection\n",
        "                        ,\"修復歴\":repair\n",
        "                        ,\"未使用車\":unused\n",
        "                        ,\"ワンオーナー\":oneowner\n",
        "                        ,\"禁煙車\":nosmoking\n",
        "                        ,\"保証\":guarantee\n",
        "\n",
        "                        #info2\n",
        "                        ,\"ミッション\":mission\n",
        "                        ,\"駆動方式\":drive\n",
        "                        ,\"排気量\":displacement\n",
        "                        ,\"ドア数\":door\n",
        "                        ,\"乗車定員\":capacity\n",
        "                        ,\"燃料\":fuel\n",
        "                        ,\"ハンドル\":handle\n",
        "                        ,\"車台番号\":number\n",
        "                        ,\"記録簿\":record\n",
        "                        ,\"リサイクル料\":recycle\n",
        "                        ,\"整備\":maintenance\n",
        "                        ,\"ID車両(グー鑑定)\":judgement\n",
        "                        ,\"全長\":length\n",
        "                        ,\"全幅\":width\n",
        "                        ,\"全高\":height\n",
        "                        ,\"車両重量\":weight\n",
        "                        ,\"燃費\":fuelconsumption\n",
        "                        ,\"使用燃料\":usingfuel\n",
        "                        \n",
        "                        #info3\n",
        "                        ,\"オプション\":options_list\n",
        "                    }\n",
        "\n",
        "                    d_list.append(d)\n",
        "\n",
        "        #リストにある存在しないページにアクセスした場合、そのページの読み込みをスキップする。\n",
        "        except IndexError:\n",
        "            continue\n",
        "\n",
        "        #何らかの理由で中断された場合、その時点までに読み込んだデータを保存する。\n",
        "        except:\n",
        "            break\n",
        "\n",
        "    print(\"Scraping Completed!\")\n",
        "    return d_list\n"
      ]
    },
    {
      "cell_type": "code",
      "execution_count": null,
      "id": "02527fab",
      "metadata": {
        "scrolled": true,
        "id": "02527fab"
      },
      "outputs": [],
      "source": [
        "results = UCDS(page_start, page_end, pref_code, pre_results)\n",
        "pre_results = results\n",
        "display(pd.DataFrame(pre_results))"
      ]
    },
    {
      "cell_type": "code",
      "execution_count": null,
      "id": "517ec480",
      "metadata": {
        "id": "517ec480"
      },
      "outputs": [],
      "source": [
        "d_df = pd.DataFrame(results)\n",
        "for name in list(d_df.columns):\n",
        "    print(d_df[name].unique())\n",
        "    print(d_df[name].nunique())"
      ]
    },
    {
      "cell_type": "code",
      "execution_count": null,
      "id": "30a292fd",
      "metadata": {
        "id": "30a292fd"
      },
      "outputs": [],
      "source": [
        "d_df[d_df[\"オプション\"].str.contains('福祉車両')]"
      ]
    },
    {
      "cell_type": "code",
      "execution_count": null,
      "id": "7ea3b470",
      "metadata": {
        "id": "7ea3b470"
      },
      "outputs": [],
      "source": [
        "d_df.to_pickle('Car_{}.pickle'.format(pref_code))"
      ]
    },
    {
      "cell_type": "code",
      "execution_count": null,
      "id": "ac217b5c",
      "metadata": {
        "id": "ac217b5c"
      },
      "outputs": [],
      "source": [
        "display(pd.read_pickle(f'Car_{pref_code}.pickle'))"
      ]
    },
    {
      "cell_type": "code",
      "execution_count": null,
      "id": "bf574279",
      "metadata": {
        "id": "bf574279"
      },
      "outputs": [],
      "source": [
        "#スクレイピングメモ(オプションまで終わった都道府県)\n",
        "#1,2,3,4,5,6,7,8,9,10,11,12,13,14,15,16,17,18,19,20,21,22,23,24,25,26,27,28,29,30\n",
        "#31,32,33,34,35,36,37,38,39,40,41,42,43,44,45,46,47,48,49,50,51,52,53,54,55\n",
        "#Scraping Complited!"
      ]
    },
    {
      "cell_type": "code",
      "execution_count": null,
      "id": "b8817cb6",
      "metadata": {
        "id": "b8817cb6"
      },
      "outputs": [],
      "source": [
        "#urlエンコード　テスト\n",
        "#テスラ = %83e%83X%83%89\n",
        "\n",
        "import urllib.parse\n",
        "tesla = \"テスラ\"\n",
        "tesla_quote = urllib.parse.quote(tesla, encoding='shift-jis')\n",
        "print(tesla_quote)\n",
        "#これ応用したら任意の車のデータが自動でスクレイピング出来るようになるのでは"
      ]
    }
  ],
  "metadata": {
    "kernelspec": {
      "display_name": "Python 3",
      "language": "python",
      "name": "python3"
    },
    "language_info": {
      "codemirror_mode": {
        "name": "ipython",
        "version": 3
      },
      "file_extension": ".py",
      "mimetype": "text/x-python",
      "name": "python",
      "nbconvert_exporter": "python",
      "pygments_lexer": "ipython3",
      "version": "3.7.4"
    },
    "colab": {
      "name": "中古車価格予測AI(価格.com)_スクレイピング.ipynb",
      "provenance": [],
      "include_colab_link": true
    }
  },
  "nbformat": 4,
  "nbformat_minor": 5
}