{
  "cells": [
    {
      "cell_type": "markdown",
      "metadata": {
        "id": "view-in-github",
        "colab_type": "text"
      },
      "source": [
        "<a href=\"https://colab.research.google.com/github/ARAN1218/UsedcarValuePrediction_AI/blob/main/jupyter%20notebook/5.%E4%B8%AD%E5%8F%A4%E8%BB%8A%E4%BE%A1%E6%A0%BC%E4%BA%88%E6%B8%ACAI(%E4%BE%A1%E6%A0%BC_com)_%E3%83%87%E3%83%BC%E3%82%BF%E5%89%8D%E5%87%A6%E7%90%86%E6%A4%9C%E8%A8%8E3.ipynb\" target=\"_parent\"><img src=\"https://colab.research.google.com/assets/colab-badge.svg\" alt=\"Open In Colab\"/></a>"
      ]
    },
    {
      "cell_type": "code",
      "execution_count": null,
      "id": "1e7dd803",
      "metadata": {
        "id": "1e7dd803"
      },
      "outputs": [],
      "source": [
        "%run ./UsedCar_functions.ipynb\n",
        "import_test()"
      ]
    },
    {
      "cell_type": "code",
      "execution_count": null,
      "id": "c6a51625",
      "metadata": {
        "id": "c6a51625"
      },
      "outputs": [],
      "source": [
        "import numpy as np\n",
        "import pandas as pd\n",
        "import re\n",
        "from pprint import pprint\n",
        "\n",
        "#pandasのデータフレームの行・列表示制限を解除\n",
        "pd.set_option('display.max_rows',None)\n",
        "pd.set_option('display.max_columns',None)\n",
        "\n",
        "#numpyの表示数制限を解除\n",
        "np.set_printoptions(threshold=np.inf)\n",
        "\n",
        "\n",
        "df = pd.read_pickle('Car_Bigdata_Merged.pickle').drop_duplicates()\n",
        "#kkkcom_preprocessing_over(df)\n",
        "print(len(df))\n",
        "df.head(10)"
      ]
    },
    {
      "cell_type": "markdown",
      "id": "97b32136",
      "metadata": {
        "id": "97b32136"
      },
      "source": [
        "## オプション"
      ]
    },
    {
      "cell_type": "code",
      "execution_count": null,
      "id": "53b7d8c9",
      "metadata": {
        "id": "53b7d8c9"
      },
      "outputs": [],
      "source": [
        "df_option = df.copy()"
      ]
    },
    {
      "cell_type": "code",
      "execution_count": null,
      "id": "0c9c39b5",
      "metadata": {
        "id": "0c9c39b5"
      },
      "outputs": [],
      "source": [
        "len(df_option[df_option['オプション']==\"両側スライドドア\"])"
      ]
    },
    {
      "cell_type": "code",
      "execution_count": null,
      "id": "cc517c90",
      "metadata": {
        "id": "cc517c90"
      },
      "outputs": [],
      "source": [
        "def produce_row_option(row_names, slide_names):\n",
        "    import re\n",
        "    df_option['オプション'] = df_option['オプション'].str.translate(str.maketrans({r\"(\":\"\",r\")\":\"\",\"（\":\"\"}))\n",
        "    \n",
        "    for row_name in row_names:\n",
        "        print(len(df_option[df_option['オプション'].str.contains(row_name)]))\n",
        "        df_option[row_name] = df_option['オプション'].map(lambda x : 1 if (row_name in x) else 0)\n",
        "        df_option['オプション'] = df_option['オプション'].str.replace(row_name, '')\n",
        "        print(df_option[row_name].value_counts())\n",
        "        print()\n",
        "    display(df_option.head(1))\n"
      ]
    },
    {
      "cell_type": "code",
      "execution_count": null,
      "id": "542b6ab2",
      "metadata": {
        "scrolled": true,
        "id": "542b6ab2"
      },
      "outputs": [],
      "source": [
        "df_option = df.copy()\n",
        "#df_option['オプション'] = df_option['オプション'].str.translate(str.maketrans({\" \":\"\"}))\n",
        "produce_row_option(row_names, slide_names)"
      ]
    },
    {
      "cell_type": "code",
      "execution_count": null,
      "id": "46e3d4d1",
      "metadata": {
        "id": "46e3d4d1"
      },
      "outputs": [],
      "source": [
        "row_names = [\n",
        "    \"エアコン\"\n",
        "    ,\"パワーステアリング\"\n",
        "    ,\"パワーウィンドウ\"\n",
        "    ,\"キーレスエントリー\"\n",
        "    ,\"エアバッグ\"\n",
        "    ,\"ABS\"\n",
        "    ,\"アルミホイール\"\n",
        "    ,\"盗難防止システム\"\n",
        "    ,\"バックモニターカメラ\"\n",
        "    ,\"ベンチシート\"\n",
        "    ,\"フルフラット\"\n",
        "    ,\"CDデッキ\"\n",
        "    ,\"カーナビ\"\n",
        "    ,\"テレビ\"\n",
        "    ,\"ETC\"\n",
        "    ,\"両側スライドドア両側電動\"\n",
        "    ,\"両側スライドドア\"\n",
        "    ,\"寒冷地仕様\"\n",
        "    ,\"パワーシート\"\n",
        "    ,\"本革シート\"\n",
        "    ,\"サンルーフ\"\n",
        "    ,\"ディスチャージドランプ\"\n",
        "    ,\"エアロパーツ\"\n",
        "    ,\"3列シート\"\n",
        "    ,\"ウォークスルー\"\n",
        "    ,\"スライドドア電動あり\"\n",
        "    ,\"ローダウン\"\n",
        "    ,\"スライドドア\"\n",
        "    ,\"福祉車両\"\n",
        "]"
      ]
    },
    {
      "cell_type": "code",
      "execution_count": null,
      "id": "26999ca3",
      "metadata": {
        "id": "26999ca3"
      },
      "outputs": [],
      "source": [
        "display(df_option['オプション'].value_counts())"
      ]
    },
    {
      "cell_type": "code",
      "execution_count": null,
      "id": "554c3a9b",
      "metadata": {
        "id": "554c3a9b"
      },
      "outputs": [],
      "source": [
        "def option_preprocessing(df_option):\n",
        "    row_names = [\n",
        "        \"エアコン\"\n",
        "        ,\"パワーステアリング\"\n",
        "        ,\"パワーウィンドウ\"\n",
        "        ,\"キーレスエントリー\"\n",
        "        ,\"エアバッグ\"\n",
        "        ,\"ABS\"\n",
        "        ,\"アルミホイール\"\n",
        "        ,\"盗難防止システム\"\n",
        "        ,\"バックモニターカメラ\"\n",
        "        ,\"ベンチシート\"\n",
        "        ,\"フルフラット\"\n",
        "        ,\"CDデッキ\"\n",
        "        ,\"カーナビ\"\n",
        "        ,\"テレビ\"\n",
        "        ,\"ETC\"\n",
        "        ,\"両側スライドドア両側電動\"\n",
        "        ,\"両側スライドドア\"\n",
        "        ,\"スライドドア電動あり\"\n",
        "        ,\"スライドドア\"\n",
        "        ,\"寒冷地仕様\"\n",
        "        ,\"パワーシート\"\n",
        "        ,\"本革シート\"\n",
        "        ,\"サンルーフ\"\n",
        "        ,\"ディスチャージドランプ\"\n",
        "        ,\"エアロパーツ\"\n",
        "        ,\"3列シート\"\n",
        "        ,\"ウォークスルー\"\n",
        "        ,\"ローダウン\"\n",
        "        ,\"福祉車両\"\n",
        "    ]\n",
        "    \n",
        "    import re\n",
        "    df_option['オプション'] = df_option['オプション'].str.translate(str.maketrans({r\"(\":\"\",r\")\":\"\",\"（\":\"\"}))\n",
        "    \n",
        "    for row_name in row_names:\n",
        "        df_option[row_name] = df_option['オプション'].map(lambda x : 1 if (row_name in x) else 0)\n",
        "        df_option['オプション'] = df_option['オプション'].str.replace(row_name, '')\n",
        "        \n",
        "    del df_option['オプション']\n"
      ]
    },
    {
      "cell_type": "code",
      "execution_count": null,
      "id": "c2446186",
      "metadata": {
        "id": "c2446186"
      },
      "outputs": [],
      "source": [
        "#テスト\n",
        "df_option = df.copy()\n",
        "option_preprocessing(df_option)\n",
        "df_option.head(1)"
      ]
    },
    {
      "cell_type": "markdown",
      "id": "98223d20",
      "metadata": {
        "id": "98223d20"
      },
      "source": [
        "## 車名"
      ]
    },
    {
      "cell_type": "code",
      "execution_count": null,
      "id": "a3492d25",
      "metadata": {
        "id": "a3492d25"
      },
      "outputs": [],
      "source": [
        "df_name = df.copy()\n",
        "value_preprocessing(df_name)\n",
        "total_preprocessing(df_name)\n",
        "print(df_name['車名'].nunique())\n",
        "#pprint(sorted(df_name['車名'].unique()))\n",
        "df_name['車名'].value_counts()\n",
        "#禁煙車など、一般的にいらない単語だけを取り除いて後はユニークな特徴量とみなす\n",
        "#冷凍/冷凍車など、異音同義語を合わせる"
      ]
    },
    {
      "cell_type": "code",
      "execution_count": null,
      "id": "dc851e9c",
      "metadata": {
        "id": "dc851e9c"
      },
      "outputs": [],
      "source": [
        "df_name[df_name['車名']=='キャンター 全低床強化ダンプレンタカー貸出し２か月車両'].head(10)"
      ]
    },
    {
      "cell_type": "code",
      "execution_count": null,
      "id": "085a08cc",
      "metadata": {
        "id": "085a08cc"
      },
      "outputs": [],
      "source": [
        "pprint(sorted(df_name['車名'].unique()))"
      ]
    },
    {
      "cell_type": "code",
      "execution_count": null,
      "id": "57a21fd0",
      "metadata": {
        "id": "57a21fd0"
      },
      "outputs": [],
      "source": [
        "name_lists = [\n",
        "    \"２ＷＤ\"\n",
        "    ,\"４ＷＤ\"\n",
        "    ,\"右ハンドル\"\n",
        "    ,\"左ハンドル\"\n",
        "    ,\"未使用車バック\"\n",
        "    ,\"未登録車\"\n",
        "    ,\"未使用車\"\n",
        "    ,\"未登録\"\n",
        "    ,\"登録済\"\n",
        "    ,\"届出済\"\n",
        "    ,\"届け出済\"\n",
        "    ,\"届け出済み\"\n",
        "    ,\"シートヒーター\"\n",
        "    ,\"福祉車両\"\n",
        "    ,\"６６０\"\n",
        "    ,\"ワンセグ\"\n",
        "    ,\"特別仕様車\"\n",
        "    ,\"地デジナビＴＶカメラ\"\n",
        "    ,\"ディーゼル車\"\n",
        "    ,\"３ペダル\"\n",
        "    ,\"平ボディ\"\n",
        "    ,\"１０尺\"\n",
        "    ,\"ｔ積\"\n",
        "    ,\"５速\"\n",
        "    ,\"ＭＴＡ\"\n",
        "    ,\"スマートキー\"\n",
        "    ,\"新車\"\n",
        "    ,\"長野ダイハツ販売\"\n",
        "    ,\"認定中古車\"\n",
        "    ,\"オートマ\"\n",
        "    ,\"ＡＴ\"\n",
        "    ,\"ＭＴ\"\n",
        "    ,\"５ＭＴ\"\n",
        "    ,\"６ＭＴ\"\n",
        "    ,\"エアコン\"\n",
        "    ,\"助手席エアバック\"\n",
        "    ,\"助手席エアバッグ\"\n",
        "    ,\"保証付き\"\n",
        "    ,\"システム\"\n",
        "    ,\"ブレーキ\"\n",
        "    ,\"両側\"\n",
        "    ,\"電動\"\n",
        "    ,\"スライドドア\"\n",
        "    ,\"前後\"\n",
        "    ,\"衝突\"\n",
        "    ,\"被害\"\n",
        "    ,\"軽減\"\n",
        "    ,\"センサー\"\n",
        "    ,\"付\"\n",
        "    ,\"全方位\"\n",
        "    ,\"カメラ\"\n",
        "    ,\"キーレス\"\n",
        "    ,\"フルセグナビ\"\n",
        "    ,\"モニター\"\n",
        "    ,\"両側パワスラ\"\n",
        "    ,\"両側電動ドア\"\n",
        "    ,\"保証書\"\n",
        "    ,\"ＥＴＣ\"\n",
        "    ,\"Ｂカメラ\"\n",
        "    ,\"サンルーフ\"\n",
        "    ,\"デジタルミラ−\"\n",
        "    ,\"レーダー\"\n",
        "    ,\"禁煙車\"\n",
        "    ,\"試乗車\"\n",
        "    ,\"自社車\"\n",
        "    ,\"パワースライドドア\"\n",
        "    ,\"パワーウインドウ\"\n",
        "    ,\"岡モータース\"\n",
        "    ,\"走行距離４０ｋｍ\"\n",
        "    ,\"アイドリングストップ\"\n",
        "    ,\"バック パワー アイドリングスト\"\n",
        "    ,\"修復歴無\"\n",
        "    ,\"寒冷地仕様\"\n",
        "    ,\"新型\"\n",
        "    ,\"ワンオーナー\"\n",
        "    ,\"エアロメッキＬＥＤ１５アルミ\"\n",
        "    ,\"コンプリートカスタムデモカー\"\n",
        "    ,\"搭載！\"\n",
        "    ,\"９インチ純正ナビき\"\n",
        "    ,\"オートライト\"\n",
        "    ,\"運転席助手席\"\n",
        "    ,\"９インチナビＴＶバックデュアル\"\n",
        "    ,\"本革\"\n",
        "    ,\"シート\"\n",
        "    ,\"リアゲート\"\n",
        "    ,\"クルーズコントロール\"\n",
        "    ,\"スズキセーフティサポート\"\n",
        "    ,\"ＡＣ１００Ｖ 防止 クルーズ パワスラ シ\"\n",
        "    ,\"海外仕様\"\n",
        "    ,\"．\"\n",
        "    ,\"標準\"\n",
        "    ,\"（３０ｋｗｈ）\"\n",
        "    ,\"（先進快適ＰＫＧ）\"\n",
        "    ,\"※元レンタカー\"\n",
        "    ,\"Ｖｅｒ\"\n",
        "    ,\"片側パワスラ  ＡＡＣ ステリモ\"\n",
        "    ,\"パワステ\"\n",
        "    ,\"パワスラ\"\n",
        "    ,\"仕様\"\n",
        "    ,\"片側\"\n",
        "    ,\"、Ｗキャブ６人乗り、ディーゼル、、即納可能、尿素無しモデル\"\n",
        "    ,\"ユーザー買取車 ＬＥＤコンフォートパッケージ 前席 ＢＴ接続 ビルトイン\"\n",
        "    ,\"７人乗り\"\n",
        "    ,\"障害物\"\n",
        "    ,\"ピラーレス\"\n",
        "    ,\"ナビ装着パッケージ\"\n",
        "    ,\"リアワイド\"\n",
        "    ,\"リモートコントロールスイッチ\"\n",
        "    ,\"フロン\"\n",
        "    ,\"純正オーディオ\"\n",
        "    ,\"地デジナビ純正バック\"\n",
        "]\n",
        "\n",
        "change_lists = {\n",
        "    \"ＩＩＩ\":\"３\"\n",
        "    ,\"ＩＩ\":\"２\"\n",
        "    ,\"冷凍車\":\"冷凍\"\n",
        "    ,\"新明和製\":\"新明和\"\n",
        "    ,\"Ｅｄ\":\"エディション\"\n",
        "    ,\"ヤリス ヤリス\":\"ヤリス\"\n",
        "    ,\"ライズ ライズ\":\"ライズ\"\n",
        "    ,\"ＫＣ パワステ農繁\":\"ＫＣパワステ農繁\"\n",
        "    ,\"ＭＯＤＥ\":\"モード\"\n",
        "    ,\"＿\":\"-\"\n",
        "    ,\"‐\":\"−\"\n",
        "    ,\"−Ｍ\":\"Ｍ\"\n",
        "    ,\"アルファード アルファード\":\"アルファード\"\n",
        "    ,\"ジムニー ジムニー\":\"ジムニー\"\n",
        "    ,\"Ｔｒａｉｌｈａｗｋ\":\"トレイルホーク\"\n",
        "    ,\" 農繁\":\"農繁\"\n",
        "    ,\"２０２１ｙモデル\":\"２０２１年モデル\"\n",
        "    ,\"Ｒ Ｔ\":\"ＲＴ\"\n",
        "    ,\"Ｃｕｓｔｏｍ\":\"カスタム\"\n",
        "    ,\"Ｌ ホンダセンシング\":\"Ｌホンダセンシング\"\n",
        "    ,\"Ａｄｖｅｎｔｕｒｅ\":\"アドベンチャー\"\n",
        "    ,\"Ａｄｖａｎｃｅ\":\"アドバンス\"\n",
        "}\n",
        "\n",
        "#アルトワークス モンスタースポーツ江戸川店仕様コンプリートカー'アルトワークス モンスタースポーツ江戸川店コンプリート',\n",
        "#キャリイトラック 冷凍車 冷凍\n",
        "#'キャンター 新明和','キャンター 新明和製'\n",
        "#'スクラムトラック ＫＣ パワステ農繁','スクラムトラック ＫＣパワステ農繁',\n",
        "# 'タント ＬリミテッドＳＡ３','タント ＬリミテッドＳＡＩＩＩ',\n",
        "#'タント Ｘスペシャル','タント Ｘスペシャル．',\n",
        "#ヤリス ヤリス->ヤリス\n",
        "#ライズ ライズ->ライズ\n",
        "# 'ハイゼットトラック ジャンボＳＡ３ｔ','ハイゼットトラック ジャンボＳＡＩＩＩｔ',\n",
        "#'ハスラー ＪスタイルＩＩ''ハスラー Ｊスタイル２',\n",
        "#'ハスラー Ｊスタイル２ターボ','ハスラー ＪスタイルＩＩターボ',\n",
        "#'ハスラー Ｊスタイル３','ハスラー ＪスタイルＩＩＩ'\n",
        "#'アルトラパン モード','アルトラパン ＭＯＤＥ',\n",
        "#'アルファード アルファード',\n",
        "#'ルークス ハイウェイスターＧターボプロパイロットエディション','ルークス ハイウェイスターＧターボプロパイロットＥｄ',\n",
        "#ＩＩ->2、ＩＩＩ->3と変換してはどうか\n",
        "#＿->-と変換してはどうか"
      ]
    },
    {
      "cell_type": "code",
      "execution_count": null,
      "id": "5d591ceb",
      "metadata": {
        "id": "5d591ceb"
      },
      "outputs": [],
      "source": [
        "def produce_name_row(df_name, name_lists, change_lists):\n",
        "    \n",
        "    df_name['車名'] = df_name['車名'].str.translate(str.maketrans({\"・\":\" \",\"／\":\" \"}))\n",
        "    \n",
        "    for name_list in name_lists:\n",
        "        df_name['車名'] = df_name['車名'].str.replace(name_list, '')\n",
        "        \n",
        "    for change_list in change_lists:\n",
        "        df_name['車名'] = df_name['車名'].str.replace(change_list, change_lists[change_list])\n",
        "    \n",
        "    df_name['車名'] = df_name['車名'].str.rstrip(' ')\n",
        "    \n",
        "    print(df_name['車名'].nunique())\n",
        "    pprint(sorted(df_name['車名'].unique()))"
      ]
    },
    {
      "cell_type": "code",
      "execution_count": null,
      "id": "ca2976b7",
      "metadata": {
        "id": "ca2976b7"
      },
      "outputs": [],
      "source": [
        "#テスト\n",
        "df_name = df.copy()\n",
        "produce_name_row(df_name, name_lists, change_lists)"
      ]
    },
    {
      "cell_type": "code",
      "execution_count": null,
      "id": "1241e21b",
      "metadata": {
        "id": "1241e21b"
      },
      "outputs": [],
      "source": [
        "td = df_name[df_name['車名'].str.contains('アイドリングスト')]\n",
        "print(len(td))\n",
        "display(td)"
      ]
    },
    {
      "cell_type": "code",
      "execution_count": null,
      "id": "4163056c",
      "metadata": {
        "id": "4163056c"
      },
      "outputs": [],
      "source": [
        "df_name[df_name['車名']=='アイドリングスト']"
      ]
    },
    {
      "cell_type": "code",
      "execution_count": null,
      "id": "1af02946",
      "metadata": {
        "id": "1af02946"
      },
      "outputs": [],
      "source": [
        "def name_preprocessing(df_name):\n",
        "    from sklearn.preprocessing import LabelEncoder\n",
        "    global LE_name\n",
        "    \n",
        "    df_name['車名'] = df_name['車名'].str.translate(str.maketrans({\"・\":\" \",\"／\":\" \"}))\n",
        "    \n",
        "    for name_list in name_lists:\n",
        "        df_name['車名'] = df_name['車名'].str.replace(name_list, '')\n",
        "        \n",
        "    for change_list in change_lists:\n",
        "        df_name['車名'] = df_name['車名'].str.replace(change_list, change_lists[change_list])\n",
        "    \n",
        "    df_name['車名'] = df_name['車名'].str.rstrip(' ')\n",
        "    \n",
        "    LE_name = LabelEncoder()\n",
        "    LE_name.fit(df_name['車名'])\n",
        "    df_name['車名'] = LE_name.transform(df_name['車名'])\n"
      ]
    },
    {
      "cell_type": "code",
      "execution_count": null,
      "id": "55d18394",
      "metadata": {
        "id": "55d18394"
      },
      "outputs": [],
      "source": [
        "#テスト\n",
        "df_name = df.copy()\n",
        "name_preprocessing(df_name)\n",
        "print(LE_name.classes_)\n",
        "display(df_name.head(1))"
      ]
    },
    {
      "cell_type": "code",
      "execution_count": null,
      "id": "116a3f48",
      "metadata": {
        "id": "116a3f48"
      },
      "outputs": [],
      "source": [
        "pprint(sorted(LE_name.classes_))"
      ]
    },
    {
      "cell_type": "code",
      "execution_count": null,
      "id": "f224ecb2",
      "metadata": {
        "id": "f224ecb2"
      },
      "outputs": [],
      "source": [
        "def kkkcom_preprocessing(df_final):\n",
        "    import warnings\n",
        "    warnings.simplefilter('ignore')\n",
        "    option_preprocessing(df_final)\n",
        "    kkkcom_preprocessing_under(df_final)\n",
        "    kkkcom_preprocessing_over(df_final)\n",
        "    "
      ]
    },
    {
      "cell_type": "code",
      "execution_count": null,
      "id": "7f484256",
      "metadata": {
        "scrolled": true,
        "id": "7f484256"
      },
      "outputs": [],
      "source": [
        "#最終テスト\n",
        "df_final = df.copy()\n",
        "kkkcom_preprocessing(df_final)\n",
        "df_final.head(1)"
      ]
    },
    {
      "cell_type": "code",
      "execution_count": null,
      "id": "ee48da00",
      "metadata": {
        "id": "ee48da00"
      },
      "outputs": [],
      "source": [
        "print(df_final.dtypes)\n",
        "display(df_final.head(10))"
      ]
    }
  ],
  "metadata": {
    "kernelspec": {
      "display_name": "Python 3",
      "language": "python",
      "name": "python3"
    },
    "language_info": {
      "codemirror_mode": {
        "name": "ipython",
        "version": 3
      },
      "file_extension": ".py",
      "mimetype": "text/x-python",
      "name": "python",
      "nbconvert_exporter": "python",
      "pygments_lexer": "ipython3",
      "version": "3.7.4"
    },
    "colab": {
      "name": "中古車価格予測AI(価格.com)_データ前処理検討3.ipynb",
      "provenance": [],
      "include_colab_link": true
    }
  },
  "nbformat": 4,
  "nbformat_minor": 5
}